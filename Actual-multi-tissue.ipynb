{
 "cells": [
  {
   "cell_type": "code",
   "execution_count": 1,
   "id": "cb0ef20e-ffeb-4f96-8f05-596f21b26c4b",
   "metadata": {},
   "outputs": [],
   "source": [
    "import os\n",
    "import genomepy\n",
    "import pandas as pd\n",
    "from torch.nn import functional as F\n",
    "import torch\n",
    "import numpy as np\n",
    "import pyranges\n",
    "import matplotlib.pyplot as plt"
   ]
  },
  {
   "cell_type": "code",
   "execution_count": 2,
   "id": "f7cc035d-10b3-481c-8e22-78dfe85a00d2",
   "metadata": {},
   "outputs": [],
   "source": [
    "rnaseq = pd.read_table(\"data/rnaseq/rnaseq.rsem_genes_fpkm.txt\")"
   ]
  },
  {
   "cell_type": "code",
   "execution_count": 3,
   "id": "9364136c-9b4b-4fa1-a609-c11f1b86b848",
   "metadata": {},
   "outputs": [],
   "source": [
    "rnaseq_trimmed = rnaseq[\n",
    "    [\"gene_name\"] + \n",
    "    [\n",
    "        col \n",
    "        for col in rnaseq.columns \n",
    "        if any([(tissue in col) for tissue in [\"0001_\", \"0002_\", \"0003_\", \"0004_\"]]) \n",
    "    ]\n",
    "]"
   ]
  },
  {
   "cell_type": "code",
   "execution_count": 4,
   "id": "3d51a309-b7d0-4143-bf1a-9b6e9424667b",
   "metadata": {},
   "outputs": [],
   "source": [
    "rnaseq_melted = rnaseq_trimmed.melt([\"gene_name\"], var_name=\"tissue\")\n",
    "rnaseq_melted[\"tissue_id\"] = rnaseq_melted[\"tissue\"].apply(lambda x: x[:4])\n",
    "rnaseq_melted = rnaseq_melted.groupby([\"tissue_id\", \"gene_name\"]).agg({\"tissue\": \"first\", \"value\": \"mean\"}).reset_index()\n",
    "rnaseq_unmelted = rnaseq_melted.pivot(index=\"tissue_id\", columns=\"gene_name\", values=\"value\")\n",
    "import json\n",
    "rnaseq_genes = json.load(open(\"data/intermediates/rnaseq_variables.json\"))\n",
    "rnaseq_unmelted = rnaseq_unmelted[rnaseq_genes]\n",
    "rnaseq_unmelted = rnaseq_unmelted / (rnaseq_unmelted + 1)"
   ]
  },
  {
   "cell_type": "code",
   "execution_count": 5,
   "id": "cba2f571-35a0-4d20-bfd4-151641a7c74a",
   "metadata": {},
   "outputs": [],
   "source": [
    "def prepare_for_merge(data_file, top_N_reads, tissue):\n",
    "    df = pd.read_table(data_file).sort_values(\"N_reads\", ascending=False).head(top_N_reads)\n",
    "    df[\"tissue\"] = tissue\n",
    "    return df\n",
    "\n",
    "standard_size = 2048\n",
    "def expand_enrich_pchic(df):\n",
    "    df[[\"bait_frag_chr\", \"bait_frag_start\", \"bait_frag_end\"]] = df[\"bait_frag\"].str.split(\",\", expand=True)\n",
    "    df[[\"other_frag_chr\", \"other_frag_start\", \"other_frag_end\"]] = df[\"other_frag\"].str.split(\",\", expand=True)\n",
    "    df[\"bait_size\"] = np.abs(df[\"bait_frag_start\"].apply(int) - df[\"bait_frag_end\"].apply(int))\n",
    "    df[\"other_size\"] = np.abs(df[\"other_frag_start\"].apply(int) - df[\"other_frag_end\"].apply(int))\n",
    "    df[\"bait_frag_midpoint\"] = df.apply(lambda x: int((int(x[\"bait_frag_start\"]) + int(x[\"bait_frag_end\"])) / 2), axis=1)\n",
    "    df[\"bait_frag_standard_size_start\"] = df[\"bait_frag_midpoint\"] - standard_size\n",
    "    df[\"bait_frag_standard_size_end\"]   = df[\"bait_frag_midpoint\"] + standard_size - 1\n",
    "    df[\"other_frag_midpoint\"] = df.apply(lambda x: int((int(x[\"other_frag_start\"]) + int(x[\"other_frag_end\"])) / 2), axis=1)\n",
    "    df[\"other_frag_standard_size_start\"] = df[\"other_frag_midpoint\"] - standard_size\n",
    "    df[\"other_frag_standard_size_end\"]   = df[\"other_frag_midpoint\"] + standard_size - 1\n",
    "    negative_starting = df.loc[df[\"other_frag_standard_size_start\"] <= 0, \"other_frag_standard_size_start\"]\n",
    "    negative_ending = df.loc[df[\"other_frag_standard_size_start\"] <= 0, \"other_frag_standard_size_end\"]\n",
    "    df.loc[negative_starting.index, \"other_frag_standard_size_end\"] = (negative_ending - negative_starting + 1).apply(int)\n",
    "    df.loc[negative_starting.index, \"other_frag_standard_size_start\"] = 1\n",
    "    return df\n",
    "\n",
    "df_multi_tissue = pd.concat((\n",
    "    prepare_for_merge(\"data/pchic/0057_Thymus_merged_loop.txt\", 10_000, \"0001\"),\n",
    "    prepare_for_merge(\"data/pchic/0002_Embryo - Trophoblast_merged_loop.txt\", 10_000, \"0002\"),\n",
    "    prepare_for_merge(\"data/pchic/0003_Spleen_merged_loop.txt\", 10_000, \"0003\"),\n",
    "    prepare_for_merge(\"data/pchic/0004_Small Intestine - Terminal Ileum_merged_loop.txt\", 10_000, \"0004\"),\n",
    "))\n",
    "df_multi_tissue = expand_enrich_pchic(df_multi_tissue)"
   ]
  },
  {
   "cell_type": "code",
   "execution_count": 6,
   "id": "3638a850-1d1a-4415-99b1-72b2c09669fa",
   "metadata": {},
   "outputs": [],
   "source": [
    "EXTRA_SAMPLES = 0\n",
    "import genomepy\n",
    "hg = genomepy.Genome(\"hg19\")\n",
    "\n",
    "def generate_random_negatives(data, bait):\n",
    "    data_focused = data[data[\"bait_frag\"] == bait]\n",
    "    bait_midpoint = data_focused[\"bait_frag_midpoint\"].values[0]\n",
    "    chr = bait.split(\",\")[0]\n",
    "\n",
    "    others = data_focused[\"other_frag_midpoint\"]\n",
    "    \n",
    "    other_std = pd.concat((others, pd.Series(bait_midpoint))).std() # avoid situations of 1 other\n",
    "    other_n = len(others)\n",
    "\n",
    "    candidate_midpoint = np.random.normal(bait_midpoint, other_std, size=other_n*3 + EXTRA_SAMPLES)\n",
    "    candidate_midpoint = candidate_midpoint.astype(int)\n",
    "\n",
    "    generated = pyranges.PyRanges(pd.DataFrame({\n",
    "        \"Chromosome\": chr, \n",
    "        \"Start\": candidate_midpoint - standard_size, \n",
    "        \"End\": candidate_midpoint + standard_size\n",
    "    }))\n",
    "\n",
    "    actual = pyranges.PyRanges(\n",
    "        data_focused[[\"other_frag_chr\", \"other_frag_standard_size_start\", \"other_frag_standard_size_end\"]]\n",
    "        .rename(columns = {\n",
    "            \"other_frag_chr\": \"Chromosome\", \n",
    "            \"other_frag_standard_size_start\": \"Start\", \n",
    "            \"other_frag_standard_size_end\": \"End\"\n",
    "        })\n",
    "    )\n",
    "\n",
    "    filtered_overlaps = generated.subtract(actual)\n",
    "    filtered_overruns = filtered_overlaps.df[(filtered_overlaps.df[\"End\"] < hg.sizes[chr]) & (filtered_overlaps.df[\"Start\"] > 0)]\n",
    "    reduced = filtered_overruns[:other_n + EXTRA_SAMPLES]\n",
    "    reduced = reduced[\"Chromosome\"].astype(str) + \",\" + reduced[\"Start\"].astype(str) + \",\" + reduced[\"End\"].astype(str)\n",
    "\n",
    "    return pd.DataFrame({\n",
    "        \"bait_frag\" : bait,\n",
    "        \"other_frag\": reduced,\n",
    "        \"tissue\": data_focused[\"tissue\"].values[0]\n",
    "    })\n",
    "\n",
    "def generate_random_negatives_df(data):\n",
    "    from tqdm.notebook import tqdm\n",
    "    import warnings\n",
    "    \n",
    "    all_generated = []\n",
    "    for bait in tqdm(data[\"bait_frag\"].unique()):\n",
    "        with warnings.catch_warnings(action=\"ignore\"):\n",
    "            all_generated.append(\n",
    "                generate_random_negatives(data, bait)\n",
    "            )\n",
    "    return pd.concat(all_generated)"
   ]
  },
  {
   "cell_type": "code",
   "execution_count": 80,
   "id": "2634a53e-12b9-4d7c-bcff-b85e7f8cf4c1",
   "metadata": {},
   "outputs": [
    {
     "data": {
      "application/vnd.jupyter.widget-view+json": {
       "model_id": "d072e8acf043459eae9c302677e6adea",
       "version_major": 2,
       "version_minor": 0
      },
      "text/plain": [
       "  0%|          | 0/10440 [00:00<?, ?it/s]"
      ]
     },
     "metadata": {},
     "output_type": "display_data"
    },
    {
     "data": {
      "text/html": [
       "<div>\n",
       "<style scoped>\n",
       "    .dataframe tbody tr th:only-of-type {\n",
       "        vertical-align: middle;\n",
       "    }\n",
       "\n",
       "    .dataframe tbody tr th {\n",
       "        vertical-align: top;\n",
       "    }\n",
       "\n",
       "    .dataframe thead th {\n",
       "        text-align: right;\n",
       "    }\n",
       "</style>\n",
       "<table border=\"1\" class=\"dataframe\">\n",
       "  <thead>\n",
       "    <tr style=\"text-align: right;\">\n",
       "      <th></th>\n",
       "      <th>bait_frag</th>\n",
       "      <th>other_frag</th>\n",
       "      <th>tissue</th>\n",
       "      <th>bait_frag_chr</th>\n",
       "      <th>bait_frag_start</th>\n",
       "      <th>bait_frag_end</th>\n",
       "      <th>other_frag_chr</th>\n",
       "      <th>other_frag_start</th>\n",
       "      <th>other_frag_end</th>\n",
       "      <th>bait_size</th>\n",
       "      <th>other_size</th>\n",
       "      <th>bait_frag_midpoint</th>\n",
       "      <th>bait_frag_standard_size_start</th>\n",
       "      <th>bait_frag_standard_size_end</th>\n",
       "      <th>other_frag_midpoint</th>\n",
       "      <th>other_frag_standard_size_start</th>\n",
       "      <th>other_frag_standard_size_end</th>\n",
       "    </tr>\n",
       "  </thead>\n",
       "  <tbody>\n",
       "    <tr>\n",
       "      <th>0</th>\n",
       "      <td>chr1,149812977,149815602</td>\n",
       "      <td>chr1,149790262,149794358</td>\n",
       "      <td>0001</td>\n",
       "      <td>chr1</td>\n",
       "      <td>149812977</td>\n",
       "      <td>149815602</td>\n",
       "      <td>chr1</td>\n",
       "      <td>149790262</td>\n",
       "      <td>149794358</td>\n",
       "      <td>2625</td>\n",
       "      <td>4096</td>\n",
       "      <td>149814289</td>\n",
       "      <td>149812241</td>\n",
       "      <td>149816336</td>\n",
       "      <td>149792310</td>\n",
       "      <td>149790262</td>\n",
       "      <td>149794357</td>\n",
       "    </tr>\n",
       "    <tr>\n",
       "      <th>1</th>\n",
       "      <td>chr1,149812977,149815602</td>\n",
       "      <td>chr1,149823514,149824929</td>\n",
       "      <td>0001</td>\n",
       "      <td>chr1</td>\n",
       "      <td>149812977</td>\n",
       "      <td>149815602</td>\n",
       "      <td>chr1</td>\n",
       "      <td>149823514</td>\n",
       "      <td>149824929</td>\n",
       "      <td>2625</td>\n",
       "      <td>1415</td>\n",
       "      <td>149814289</td>\n",
       "      <td>149812241</td>\n",
       "      <td>149816336</td>\n",
       "      <td>149824221</td>\n",
       "      <td>149822173</td>\n",
       "      <td>149826268</td>\n",
       "    </tr>\n",
       "    <tr>\n",
       "      <th>2</th>\n",
       "      <td>chr1,149812977,149815602</td>\n",
       "      <td>chr1,149804987,149809083</td>\n",
       "      <td>0001</td>\n",
       "      <td>chr1</td>\n",
       "      <td>149812977</td>\n",
       "      <td>149815602</td>\n",
       "      <td>chr1</td>\n",
       "      <td>149804987</td>\n",
       "      <td>149809083</td>\n",
       "      <td>2625</td>\n",
       "      <td>4096</td>\n",
       "      <td>149814289</td>\n",
       "      <td>149812241</td>\n",
       "      <td>149816336</td>\n",
       "      <td>149807035</td>\n",
       "      <td>149804987</td>\n",
       "      <td>149809082</td>\n",
       "    </tr>\n",
       "    <tr>\n",
       "      <th>3</th>\n",
       "      <td>chr1,149812977,149815602</td>\n",
       "      <td>chr1,149808982,149813078</td>\n",
       "      <td>0001</td>\n",
       "      <td>chr1</td>\n",
       "      <td>149812977</td>\n",
       "      <td>149815602</td>\n",
       "      <td>chr1</td>\n",
       "      <td>149808982</td>\n",
       "      <td>149813078</td>\n",
       "      <td>2625</td>\n",
       "      <td>4096</td>\n",
       "      <td>149814289</td>\n",
       "      <td>149812241</td>\n",
       "      <td>149816336</td>\n",
       "      <td>149811030</td>\n",
       "      <td>149808982</td>\n",
       "      <td>149813077</td>\n",
       "    </tr>\n",
       "    <tr>\n",
       "      <th>4</th>\n",
       "      <td>chr1,149812977,149815602</td>\n",
       "      <td>chr1,149824481,149828577</td>\n",
       "      <td>0001</td>\n",
       "      <td>chr1</td>\n",
       "      <td>149812977</td>\n",
       "      <td>149815602</td>\n",
       "      <td>chr1</td>\n",
       "      <td>149824481</td>\n",
       "      <td>149828577</td>\n",
       "      <td>2625</td>\n",
       "      <td>4096</td>\n",
       "      <td>149814289</td>\n",
       "      <td>149812241</td>\n",
       "      <td>149816336</td>\n",
       "      <td>149826529</td>\n",
       "      <td>149824481</td>\n",
       "      <td>149828576</td>\n",
       "    </tr>\n",
       "    <tr>\n",
       "      <th>...</th>\n",
       "      <td>...</td>\n",
       "      <td>...</td>\n",
       "      <td>...</td>\n",
       "      <td>...</td>\n",
       "      <td>...</td>\n",
       "      <td>...</td>\n",
       "      <td>...</td>\n",
       "      <td>...</td>\n",
       "      <td>...</td>\n",
       "      <td>...</td>\n",
       "      <td>...</td>\n",
       "      <td>...</td>\n",
       "      <td>...</td>\n",
       "      <td>...</td>\n",
       "      <td>...</td>\n",
       "      <td>...</td>\n",
       "      <td>...</td>\n",
       "    </tr>\n",
       "    <tr>\n",
       "      <th>0</th>\n",
       "      <td>chr13,77563430,77571739</td>\n",
       "      <td>chr13,77828461,77832557</td>\n",
       "      <td>0004</td>\n",
       "      <td>chr13</td>\n",
       "      <td>77563430</td>\n",
       "      <td>77571739</td>\n",
       "      <td>chr13</td>\n",
       "      <td>77828461</td>\n",
       "      <td>77832557</td>\n",
       "      <td>8309</td>\n",
       "      <td>4096</td>\n",
       "      <td>77567584</td>\n",
       "      <td>77565536</td>\n",
       "      <td>77569631</td>\n",
       "      <td>77830509</td>\n",
       "      <td>77828461</td>\n",
       "      <td>77832556</td>\n",
       "    </tr>\n",
       "    <tr>\n",
       "      <th>0</th>\n",
       "      <td>chr4,88529147,88531504</td>\n",
       "      <td>chr4,88425780,88429876</td>\n",
       "      <td>0004</td>\n",
       "      <td>chr4</td>\n",
       "      <td>88529147</td>\n",
       "      <td>88531504</td>\n",
       "      <td>chr4</td>\n",
       "      <td>88425780</td>\n",
       "      <td>88429876</td>\n",
       "      <td>2357</td>\n",
       "      <td>4096</td>\n",
       "      <td>88530325</td>\n",
       "      <td>88528277</td>\n",
       "      <td>88532372</td>\n",
       "      <td>88427828</td>\n",
       "      <td>88425780</td>\n",
       "      <td>88429875</td>\n",
       "    </tr>\n",
       "    <tr>\n",
       "      <th>0</th>\n",
       "      <td>chr16,62065676,62073458</td>\n",
       "      <td>chr16,62072610,62076706</td>\n",
       "      <td>0004</td>\n",
       "      <td>chr16</td>\n",
       "      <td>62065676</td>\n",
       "      <td>62073458</td>\n",
       "      <td>chr16</td>\n",
       "      <td>62072610</td>\n",
       "      <td>62076706</td>\n",
       "      <td>7782</td>\n",
       "      <td>4096</td>\n",
       "      <td>62069567</td>\n",
       "      <td>62067519</td>\n",
       "      <td>62071614</td>\n",
       "      <td>62074658</td>\n",
       "      <td>62072610</td>\n",
       "      <td>62076705</td>\n",
       "    </tr>\n",
       "    <tr>\n",
       "      <th>0</th>\n",
       "      <td>chr19,15849499,15851326</td>\n",
       "      <td>chr19,15389581,15393677</td>\n",
       "      <td>0004</td>\n",
       "      <td>chr19</td>\n",
       "      <td>15849499</td>\n",
       "      <td>15851326</td>\n",
       "      <td>chr19</td>\n",
       "      <td>15389581</td>\n",
       "      <td>15393677</td>\n",
       "      <td>1827</td>\n",
       "      <td>4096</td>\n",
       "      <td>15850412</td>\n",
       "      <td>15848364</td>\n",
       "      <td>15852459</td>\n",
       "      <td>15391629</td>\n",
       "      <td>15389581</td>\n",
       "      <td>15393676</td>\n",
       "    </tr>\n",
       "    <tr>\n",
       "      <th>0</th>\n",
       "      <td>chr10,100991899,100993132</td>\n",
       "      <td>chr10,100654207,100658303</td>\n",
       "      <td>0004</td>\n",
       "      <td>chr10</td>\n",
       "      <td>100991899</td>\n",
       "      <td>100993132</td>\n",
       "      <td>chr10</td>\n",
       "      <td>100654207</td>\n",
       "      <td>100658303</td>\n",
       "      <td>1233</td>\n",
       "      <td>4096</td>\n",
       "      <td>100992515</td>\n",
       "      <td>100990467</td>\n",
       "      <td>100994562</td>\n",
       "      <td>100656255</td>\n",
       "      <td>100654207</td>\n",
       "      <td>100658302</td>\n",
       "    </tr>\n",
       "  </tbody>\n",
       "</table>\n",
       "<p>40000 rows × 17 columns</p>\n",
       "</div>"
      ],
      "text/plain": [
       "                    bait_frag                 other_frag tissue bait_frag_chr  \\\n",
       "0    chr1,149812977,149815602   chr1,149790262,149794358   0001          chr1   \n",
       "1    chr1,149812977,149815602   chr1,149823514,149824929   0001          chr1   \n",
       "2    chr1,149812977,149815602   chr1,149804987,149809083   0001          chr1   \n",
       "3    chr1,149812977,149815602   chr1,149808982,149813078   0001          chr1   \n",
       "4    chr1,149812977,149815602   chr1,149824481,149828577   0001          chr1   \n",
       "..                        ...                        ...    ...           ...   \n",
       "0     chr13,77563430,77571739    chr13,77828461,77832557   0004         chr13   \n",
       "0      chr4,88529147,88531504     chr4,88425780,88429876   0004          chr4   \n",
       "0     chr16,62065676,62073458    chr16,62072610,62076706   0004         chr16   \n",
       "0     chr19,15849499,15851326    chr19,15389581,15393677   0004         chr19   \n",
       "0   chr10,100991899,100993132  chr10,100654207,100658303   0004         chr10   \n",
       "\n",
       "   bait_frag_start bait_frag_end other_frag_chr other_frag_start  \\\n",
       "0        149812977     149815602           chr1        149790262   \n",
       "1        149812977     149815602           chr1        149823514   \n",
       "2        149812977     149815602           chr1        149804987   \n",
       "3        149812977     149815602           chr1        149808982   \n",
       "4        149812977     149815602           chr1        149824481   \n",
       "..             ...           ...            ...              ...   \n",
       "0         77563430      77571739          chr13         77828461   \n",
       "0         88529147      88531504           chr4         88425780   \n",
       "0         62065676      62073458          chr16         62072610   \n",
       "0         15849499      15851326          chr19         15389581   \n",
       "0        100991899     100993132          chr10        100654207   \n",
       "\n",
       "   other_frag_end  bait_size  other_size  bait_frag_midpoint  \\\n",
       "0       149794358       2625        4096           149814289   \n",
       "1       149824929       2625        1415           149814289   \n",
       "2       149809083       2625        4096           149814289   \n",
       "3       149813078       2625        4096           149814289   \n",
       "4       149828577       2625        4096           149814289   \n",
       "..            ...        ...         ...                 ...   \n",
       "0        77832557       8309        4096            77567584   \n",
       "0        88429876       2357        4096            88530325   \n",
       "0        62076706       7782        4096            62069567   \n",
       "0        15393677       1827        4096            15850412   \n",
       "0       100658303       1233        4096           100992515   \n",
       "\n",
       "    bait_frag_standard_size_start  bait_frag_standard_size_end  \\\n",
       "0                       149812241                    149816336   \n",
       "1                       149812241                    149816336   \n",
       "2                       149812241                    149816336   \n",
       "3                       149812241                    149816336   \n",
       "4                       149812241                    149816336   \n",
       "..                            ...                          ...   \n",
       "0                        77565536                     77569631   \n",
       "0                        88528277                     88532372   \n",
       "0                        62067519                     62071614   \n",
       "0                        15848364                     15852459   \n",
       "0                       100990467                    100994562   \n",
       "\n",
       "    other_frag_midpoint  other_frag_standard_size_start  \\\n",
       "0             149792310                       149790262   \n",
       "1             149824221                       149822173   \n",
       "2             149807035                       149804987   \n",
       "3             149811030                       149808982   \n",
       "4             149826529                       149824481   \n",
       "..                  ...                             ...   \n",
       "0              77830509                        77828461   \n",
       "0              88427828                        88425780   \n",
       "0              62074658                        62072610   \n",
       "0              15391629                        15389581   \n",
       "0             100656255                       100654207   \n",
       "\n",
       "    other_frag_standard_size_end  \n",
       "0                      149794357  \n",
       "1                      149826268  \n",
       "2                      149809082  \n",
       "3                      149813077  \n",
       "4                      149828576  \n",
       "..                           ...  \n",
       "0                       77832556  \n",
       "0                       88429875  \n",
       "0                       62076705  \n",
       "0                       15393676  \n",
       "0                      100658302  \n",
       "\n",
       "[40000 rows x 17 columns]"
      ]
     },
     "execution_count": 80,
     "metadata": {},
     "output_type": "execute_result"
    }
   ],
   "source": [
    "df_negatives = generate_random_negatives_df(df_multi_tissue)\n",
    "df_negatives = expand_enrich_pchic(df_negatives)\n",
    "df_negatives"
   ]
  },
  {
   "cell_type": "code",
   "execution_count": 81,
   "id": "7563dee6-20d3-42d7-8b85-b21b2e1fc70f",
   "metadata": {},
   "outputs": [],
   "source": [
    "df_multi_tissue[\"factual\"] = 1\n",
    "df_negatives[\"factual\"] = 0"
   ]
  },
  {
   "cell_type": "code",
   "execution_count": 82,
   "id": "964c50a7-ec4c-4fe1-bea0-f6475b8369b4",
   "metadata": {},
   "outputs": [],
   "source": [
    "combined = pd.concat((\n",
    "    df_multi_tissue[[\n",
    "        \"bait_frag_chr\",\n",
    "        \"bait_frag_standard_size_start\", \n",
    "        \"bait_frag_standard_size_end\", \n",
    "        \"other_frag_chr\",\n",
    "        \"other_frag_standard_size_start\", \n",
    "        \"other_frag_standard_size_end\", \n",
    "        \"tissue\",\n",
    "        \"factual\"\n",
    "    ]],\n",
    "    df_negatives[[\n",
    "        \"bait_frag_chr\",\n",
    "        \"bait_frag_standard_size_start\", \n",
    "        \"bait_frag_standard_size_end\", \n",
    "        \"other_frag_chr\",\n",
    "        \"other_frag_standard_size_start\", \n",
    "        \"other_frag_standard_size_end\", \n",
    "        \"tissue\",\n",
    "        \"factual\"\n",
    "    ]],\n",
    "))"
   ]
  },
  {
   "cell_type": "code",
   "execution_count": 88,
   "id": "95bde4dd-e9da-4ca5-9fb1-9b4882352db0",
   "metadata": {},
   "outputs": [
    {
     "data": {
      "text/html": [
       "<div>\n",
       "<style scoped>\n",
       "    .dataframe tbody tr th:only-of-type {\n",
       "        vertical-align: middle;\n",
       "    }\n",
       "\n",
       "    .dataframe tbody tr th {\n",
       "        vertical-align: top;\n",
       "    }\n",
       "\n",
       "    .dataframe thead th {\n",
       "        text-align: right;\n",
       "    }\n",
       "</style>\n",
       "<table border=\"1\" class=\"dataframe\">\n",
       "  <thead>\n",
       "    <tr style=\"text-align: right;\">\n",
       "      <th></th>\n",
       "      <th>bait_frag_chr</th>\n",
       "      <th>bait_frag_standard_size_start</th>\n",
       "      <th>bait_frag_standard_size_end</th>\n",
       "      <th>other_frag_chr</th>\n",
       "      <th>other_frag_standard_size_start</th>\n",
       "      <th>other_frag_standard_size_end</th>\n",
       "      <th>tissue</th>\n",
       "      <th>factual</th>\n",
       "    </tr>\n",
       "  </thead>\n",
       "  <tbody>\n",
       "    <tr>\n",
       "      <th>0</th>\n",
       "      <td>chr1</td>\n",
       "      <td>149812241</td>\n",
       "      <td>149816336</td>\n",
       "      <td>chr1</td>\n",
       "      <td>149814713</td>\n",
       "      <td>149818808</td>\n",
       "      <td>0001</td>\n",
       "      <td>1</td>\n",
       "    </tr>\n",
       "    <tr>\n",
       "      <th>1</th>\n",
       "      <td>chr2</td>\n",
       "      <td>27599844</td>\n",
       "      <td>27603939</td>\n",
       "      <td>chr2</td>\n",
       "      <td>27592913</td>\n",
       "      <td>27597008</td>\n",
       "      <td>0001</td>\n",
       "      <td>1</td>\n",
       "    </tr>\n",
       "    <tr>\n",
       "      <th>2</th>\n",
       "      <td>chr20</td>\n",
       "      <td>5089723</td>\n",
       "      <td>5093818</td>\n",
       "      <td>chr20</td>\n",
       "      <td>5094753</td>\n",
       "      <td>5098848</td>\n",
       "      <td>0001</td>\n",
       "      <td>1</td>\n",
       "    </tr>\n",
       "    <tr>\n",
       "      <th>3</th>\n",
       "      <td>chr5</td>\n",
       "      <td>176739196</td>\n",
       "      <td>176743291</td>\n",
       "      <td>chr5</td>\n",
       "      <td>176745700</td>\n",
       "      <td>176749795</td>\n",
       "      <td>0001</td>\n",
       "      <td>1</td>\n",
       "    </tr>\n",
       "    <tr>\n",
       "      <th>4</th>\n",
       "      <td>chr12</td>\n",
       "      <td>133332343</td>\n",
       "      <td>133336438</td>\n",
       "      <td>chr12</td>\n",
       "      <td>133342264</td>\n",
       "      <td>133346359</td>\n",
       "      <td>0001</td>\n",
       "      <td>1</td>\n",
       "    </tr>\n",
       "    <tr>\n",
       "      <th>...</th>\n",
       "      <td>...</td>\n",
       "      <td>...</td>\n",
       "      <td>...</td>\n",
       "      <td>...</td>\n",
       "      <td>...</td>\n",
       "      <td>...</td>\n",
       "      <td>...</td>\n",
       "      <td>...</td>\n",
       "    </tr>\n",
       "    <tr>\n",
       "      <th>79995</th>\n",
       "      <td>chr13</td>\n",
       "      <td>77565536</td>\n",
       "      <td>77569631</td>\n",
       "      <td>chr13</td>\n",
       "      <td>77828461</td>\n",
       "      <td>77832556</td>\n",
       "      <td>0004</td>\n",
       "      <td>0</td>\n",
       "    </tr>\n",
       "    <tr>\n",
       "      <th>79996</th>\n",
       "      <td>chr4</td>\n",
       "      <td>88528277</td>\n",
       "      <td>88532372</td>\n",
       "      <td>chr4</td>\n",
       "      <td>88425780</td>\n",
       "      <td>88429875</td>\n",
       "      <td>0004</td>\n",
       "      <td>0</td>\n",
       "    </tr>\n",
       "    <tr>\n",
       "      <th>79997</th>\n",
       "      <td>chr16</td>\n",
       "      <td>62067519</td>\n",
       "      <td>62071614</td>\n",
       "      <td>chr16</td>\n",
       "      <td>62072610</td>\n",
       "      <td>62076705</td>\n",
       "      <td>0004</td>\n",
       "      <td>0</td>\n",
       "    </tr>\n",
       "    <tr>\n",
       "      <th>79998</th>\n",
       "      <td>chr19</td>\n",
       "      <td>15848364</td>\n",
       "      <td>15852459</td>\n",
       "      <td>chr19</td>\n",
       "      <td>15389581</td>\n",
       "      <td>15393676</td>\n",
       "      <td>0004</td>\n",
       "      <td>0</td>\n",
       "    </tr>\n",
       "    <tr>\n",
       "      <th>79999</th>\n",
       "      <td>chr10</td>\n",
       "      <td>100990467</td>\n",
       "      <td>100994562</td>\n",
       "      <td>chr10</td>\n",
       "      <td>100654207</td>\n",
       "      <td>100658302</td>\n",
       "      <td>0004</td>\n",
       "      <td>0</td>\n",
       "    </tr>\n",
       "  </tbody>\n",
       "</table>\n",
       "<p>80000 rows × 8 columns</p>\n",
       "</div>"
      ],
      "text/plain": [
       "      bait_frag_chr  bait_frag_standard_size_start  \\\n",
       "0              chr1                      149812241   \n",
       "1              chr2                       27599844   \n",
       "2             chr20                        5089723   \n",
       "3              chr5                      176739196   \n",
       "4             chr12                      133332343   \n",
       "...             ...                            ...   \n",
       "79995         chr13                       77565536   \n",
       "79996          chr4                       88528277   \n",
       "79997         chr16                       62067519   \n",
       "79998         chr19                       15848364   \n",
       "79999         chr10                      100990467   \n",
       "\n",
       "       bait_frag_standard_size_end other_frag_chr  \\\n",
       "0                        149816336           chr1   \n",
       "1                         27603939           chr2   \n",
       "2                          5093818          chr20   \n",
       "3                        176743291           chr5   \n",
       "4                        133336438          chr12   \n",
       "...                            ...            ...   \n",
       "79995                     77569631          chr13   \n",
       "79996                     88532372           chr4   \n",
       "79997                     62071614          chr16   \n",
       "79998                     15852459          chr19   \n",
       "79999                    100994562          chr10   \n",
       "\n",
       "       other_frag_standard_size_start  other_frag_standard_size_end tissue  \\\n",
       "0                           149814713                     149818808   0001   \n",
       "1                            27592913                      27597008   0001   \n",
       "2                             5094753                       5098848   0001   \n",
       "3                           176745700                     176749795   0001   \n",
       "4                           133342264                     133346359   0001   \n",
       "...                               ...                           ...    ...   \n",
       "79995                        77828461                      77832556   0004   \n",
       "79996                        88425780                      88429875   0004   \n",
       "79997                        62072610                      62076705   0004   \n",
       "79998                        15389581                      15393676   0004   \n",
       "79999                       100654207                     100658302   0004   \n",
       "\n",
       "       factual  \n",
       "0            1  \n",
       "1            1  \n",
       "2            1  \n",
       "3            1  \n",
       "4            1  \n",
       "...        ...  \n",
       "79995        0  \n",
       "79996        0  \n",
       "79997        0  \n",
       "79998        0  \n",
       "79999        0  \n",
       "\n",
       "[80000 rows x 8 columns]"
      ]
     },
     "execution_count": 88,
     "metadata": {},
     "output_type": "execute_result"
    }
   ],
   "source": [
    "combined.reset_index(drop=True)"
   ]
  },
  {
   "cell_type": "code",
   "execution_count": 85,
   "id": "c51321e2-2360-49ef-87f8-74199eb14e08",
   "metadata": {},
   "outputs": [],
   "source": [
    "combined.to_csv(\"data/intermediates/multi-tissue/mt1-4.csv\")"
   ]
  },
  {
   "cell_type": "code",
   "execution_count": 7,
   "id": "5682d218-2cb0-4956-bcf7-f0fecb882135",
   "metadata": {},
   "outputs": [],
   "source": [
    "combined = pd.read_csv(\"data/intermediates/multi-tissue/mt1-4.csv\")\n",
    "combined[\"tissue\"] = combined[\"tissue\"].apply(lambda x: f\"000{x}\")"
   ]
  },
  {
   "cell_type": "code",
   "execution_count": 8,
   "id": "a32cd1c9-b594-433a-a559-227741be4e60",
   "metadata": {},
   "outputs": [],
   "source": [
    "data_train = combined.sample(frac=0.75)\n",
    "data_test = combined.drop(data_train.index)\n",
    "data_train = data_train.reset_index()\n",
    "data_test = data_test.reset_index()"
   ]
  },
  {
   "cell_type": "code",
   "execution_count": 9,
   "id": "d868dcef-d2f1-4451-abb1-f8b82f031f54",
   "metadata": {},
   "outputs": [],
   "source": [
    "def make_conv_block():\n",
    "    return torch.nn.Sequential(\n",
    "        torch.nn.Conv1d(96, 96, 5, padding=2),\n",
    "        torch.nn.BatchNorm1d(96),\n",
    "        torch.nn.ReLU(inplace=True),\n",
    "        torch.nn.MaxPool1d(2)\n",
    "    )"
   ]
  },
  {
   "cell_type": "code",
   "execution_count": 10,
   "id": "27e366a8-bf6c-455e-8dd3-3dfbdbe20e4f",
   "metadata": {},
   "outputs": [],
   "source": [
    "def make_conv_stack():\n",
    "    return torch.nn.Sequential(\n",
    "        torch.nn.Sequential(\n",
    "            torch.nn.Conv1d(4, 96, 11, padding=5),\n",
    "            torch.nn.BatchNorm1d(96),\n",
    "            torch.nn.ReLU(inplace=True),\n",
    "            torch.nn.MaxPool1d(2)\n",
    "        ),\n",
    "        *[make_conv_block() for _ in range(4)]\n",
    "    )"
   ]
  },
  {
   "cell_type": "code",
   "execution_count": 11,
   "id": "f76a5ec1-b254-41c3-8a21-ec54dbc538c7",
   "metadata": {},
   "outputs": [],
   "source": [
    "class DilatedResidualConvolution(torch.nn.Module):\n",
    "    def __init__(self, dilation, dropout_rate=0.25):\n",
    "        super(DilatedResidualConvolution, self).__init__()\n",
    "        self.dilate_block = torch.nn.Sequential(\n",
    "            torch.nn.Conv1d(96, 48, 3, padding=dilation, dilation=dilation),\n",
    "            torch.nn.BatchNorm1d(48),\n",
    "            torch.nn.ReLU(inplace=True),\n",
    "        )\n",
    "        self.return_block = torch.nn.Sequential(\n",
    "            torch.nn.Conv1d(48, 96, 3, padding=dilation, dilation=dilation),\n",
    "            torch.nn.BatchNorm1d(96),\n",
    "            torch.nn.Dropout(dropout_rate)\n",
    "        )\n",
    "        self.relu = torch.nn.ReLU(inplace=True)\n",
    "\n",
    "    def forward(self, x):\n",
    "        identity = x \n",
    "        x = self.dilate_block(x)\n",
    "        x = self.return_block(x)\n",
    "        x += identity\n",
    "        x = self.relu(x)\n",
    "        return x\n"
   ]
  },
  {
   "cell_type": "code",
   "execution_count": 12,
   "id": "90b9c78b-d0d3-4a13-b5bf-e3bf4672e339",
   "metadata": {},
   "outputs": [],
   "source": [
    "def make_dilation_stack():\n",
    "    return torch.nn.Sequential(\n",
    "        *[DilatedResidualConvolution(2**i) for i in range(1, 5)]\n",
    "    )"
   ]
  },
  {
   "cell_type": "code",
   "execution_count": 13,
   "id": "e30f572b-48c8-4843-82f7-555b743e52b7",
   "metadata": {},
   "outputs": [],
   "source": [
    "class PoCNetAkitalike(torch.nn.Module):\n",
    "    def __init__(self):\n",
    "        super(PoCNetAkitalike, self).__init__()\n",
    "        self.bait_block = torch.nn.Sequential(\n",
    "            make_conv_stack(),\n",
    "            # make_dilation_stack()\n",
    "        )\n",
    "        self.other_block = torch.nn.Sequential(\n",
    "            make_conv_stack(),\n",
    "            # make_dilation_stack()\n",
    "        )\n",
    "\n",
    "        self.head = torch.nn.Sequential(\n",
    "            torch.nn.Linear(2 * 96 * 128 + 1000, 4096),\n",
    "            torch.nn.ReLU(inplace=True),\n",
    "            torch.nn.Dropout(0.5),\n",
    "            torch.nn.Linear(4096, 4096),\n",
    "            torch.nn.ReLU(inplace=True),\n",
    "            torch.nn.Dropout(0.5),\n",
    "            torch.nn.Linear(4096, 1)\n",
    "        )\n",
    "\n",
    "    def forward(self, x_1, x_2, rnaseq):\n",
    "        x_1 = self.bait_block(x_1)\n",
    "        x_1 = torch.flatten(x_1, start_dim=1)\n",
    "\n",
    "        x_2 = self.other_block(x_2)\n",
    "        x_2 = torch.flatten(x_2, start_dim=1)\n",
    "        \n",
    "        x = torch.concat((x_1, x_2, rnaseq), dim=1)\n",
    "        x = self.head(x)\n",
    "        # x = F.relu(x)\n",
    "        # x = self.fc2(x)\n",
    "        # x = F.relu(x)\n",
    "        # x = self.fc3(x)\n",
    "        # x = F.sigmoid(x)\n",
    "        return x"
   ]
  },
  {
   "cell_type": "code",
   "execution_count": 14,
   "id": "a348afda-d837-4a25-acd4-c5d1894010e8",
   "metadata": {},
   "outputs": [],
   "source": [
    "model = PoCNetAkitalike().cuda()"
   ]
  },
  {
   "cell_type": "code",
   "execution_count": 15,
   "id": "39012e9b-f783-44c7-a9bb-dbbb75744d64",
   "metadata": {},
   "outputs": [],
   "source": [
    "loss_function = torch.nn.BCEWithLogitsLoss()\n",
    "optimizer = torch.optim.Adam(model.parameters(), lr=1e-5)"
   ]
  },
  {
   "cell_type": "code",
   "execution_count": 16,
   "id": "bb00e8b8-606c-46cc-96e0-ade4d339fa64",
   "metadata": {},
   "outputs": [],
   "source": [
    "def fasta_to_ohe_mapping(ascii_dna):\n",
    "        if ascii_dna == 65:  # A\n",
    "            return 1\n",
    "        if ascii_dna == 67:  # C\n",
    "            return 2\n",
    "        if ascii_dna == 71:  # G\n",
    "            return 3\n",
    "        if ascii_dna == 84:  # T\n",
    "            return 4\n",
    "        if ascii_dna == 97:  # a\n",
    "            return 1\n",
    "        if ascii_dna == 99:  # c\n",
    "            return 2\n",
    "        if ascii_dna == 103: # g\n",
    "            return 3\n",
    "        if ascii_dna == 116: # t\n",
    "            return 4\n",
    "        return 0 # Nn, anything else\n",
    "\n",
    "def from_loc_to_ohe(chr, start, end):\n",
    "    sequence = hg.get_seq(chr, start, end)\n",
    "    buffer = torch.frombuffer(sequence.seq.encode(), dtype=torch.uint8)\n",
    "    buffer = buffer.apply_(fasta_to_ohe_mapping)\n",
    "    atcg_mask = buffer != 0 # 1 if actg, 0 otherwise\n",
    "    buffer -= atcg_mask * 1 # offset indexing for atcg so it starts at 0 instead of 1\n",
    "                            # this is needed to have the \"others\" be a 0000 row in OHE\n",
    "    return (\n",
    "        F.one_hot(buffer.long(), num_classes=4).T * atcg_mask # OHE and mask others\n",
    "    )"
   ]
  },
  {
   "cell_type": "code",
   "execution_count": 17,
   "id": "fc6d4133-ed7e-4ae6-bde6-0d42ac77425d",
   "metadata": {},
   "outputs": [],
   "source": [
    "def chunk_df(df, n):\n",
    "    return [df[i:i+n] for i in range(0,df.shape[0],n)]\n",
    "\n",
    "def from_loc_to_ohe_batch(df, prefix: [\"bait\", \"other\"]):\n",
    "    return torch.stack([\n",
    "        from_loc_to_ohe(row[f\"{prefix}_frag_chr\"], row[f\"{prefix}_frag_standard_size_start\"], row[f\"{prefix}_frag_standard_size_end\"])\n",
    "        for _, row in df.iterrows()\n",
    "    ])"
   ]
  },
  {
   "cell_type": "code",
   "execution_count": 18,
   "id": "a624069f-3136-41c0-affd-09c5f3b00ca0",
   "metadata": {},
   "outputs": [],
   "source": [
    "torch.cuda.empty_cache()"
   ]
  },
  {
   "cell_type": "code",
   "execution_count": 19,
   "id": "056f5abf-af9f-4185-9c7d-625a58eccae3",
   "metadata": {},
   "outputs": [
    {
     "name": "stderr",
     "output_type": "stream",
     "text": [
      "/tmp/ipykernel_12534/361536034.py:22: UserWarning: The given buffer is not writable, and PyTorch does not support non-writable tensors. This means you can write to the underlying (supposedly non-writable) buffer using the tensor. You may want to copy the buffer to protect its data or make it writable before converting it to a tensor. This type of warning will be suppressed for the rest of this program. (Triggered internally at ../torch/csrc/utils/tensor_new.cpp:1563.)\n",
      "  buffer = torch.frombuffer(sequence.seq.encode(), dtype=torch.uint8)\n",
      "/home/kacper/.pyenv/versions/3.11.8/lib/python3.11/site-packages/torch/nn/functional.py:1967: UserWarning: nn.functional.sigmoid is deprecated. Use torch.sigmoid instead.\n",
      "  warnings.warn(\"nn.functional.sigmoid is deprecated. Use torch.sigmoid instead.\")\n"
     ]
    },
    {
     "name": "stdout",
     "output_type": "stream",
     "text": [
      "Loss:  0.58937 Accuracy 0.71000 Ones% 0.42000\n",
      " 0.66150\n",
      "Loss:  0.59943 Accuracy 0.67000 Ones% 0.46000\n",
      " 0.65250\n",
      "Loss:  0.56628 Accuracy 0.69000 Ones% 0.49000\n",
      " 0.68370\n",
      "Loss:  0.50903 Accuracy 0.72000 Ones% 0.50000\n",
      " 0.67655\n",
      "Loss:  0.57370 Accuracy 0.68000 Ones% 0.58000\n",
      " 0.66550\n",
      "Loss:  0.47711 Accuracy 0.72000 Ones% 0.50000\n",
      " 0.67035\n",
      "Loss:  0.46516 Accuracy 0.74000 Ones% 0.39000\n",
      " 0.66910\n",
      "Loss:  0.44404 Accuracy 0.80000 Ones% 0.40000\n",
      " 0.65875\n",
      "Loss:  0.34990 Accuracy 0.87000 Ones% 0.59000\n",
      " 0.60835\n",
      "Loss:  0.32584 Accuracy 0.85000 Ones% 0.39000\n",
      " 0.64795\n",
      "Loss:  0.29832 Accuracy 0.87000 Ones% 0.54000\r"
     ]
    },
    {
     "ename": "KeyboardInterrupt",
     "evalue": "",
     "output_type": "error",
     "traceback": [
      "\u001b[0;31m---------------------------------------------------------------------------\u001b[0m",
      "\u001b[0;31mKeyboardInterrupt\u001b[0m                         Traceback (most recent call last)",
      "Cell \u001b[0;32mIn[19], line 10\u001b[0m\n\u001b[1;32m      7\u001b[0m \u001b[38;5;28;01mfor\u001b[39;00m batch \u001b[38;5;129;01min\u001b[39;00m (chunk_df(data_train\u001b[38;5;241m.\u001b[39msample(frac\u001b[38;5;241m=\u001b[39m\u001b[38;5;241m1.\u001b[39m), \u001b[38;5;241m100\u001b[39m)):\n\u001b[1;32m      8\u001b[0m     optimizer\u001b[38;5;241m.\u001b[39mzero_grad()\n\u001b[0;32m---> 10\u001b[0m     bait_ohe \u001b[38;5;241m=\u001b[39m \u001b[43mfrom_loc_to_ohe_batch\u001b[49m\u001b[43m(\u001b[49m\u001b[43mbatch\u001b[49m\u001b[43m,\u001b[49m\u001b[43m \u001b[49m\u001b[38;5;124;43m\"\u001b[39;49m\u001b[38;5;124;43mbait\u001b[39;49m\u001b[38;5;124;43m\"\u001b[39;49m\u001b[43m)\u001b[49m\n\u001b[1;32m     11\u001b[0m     other_ohe \u001b[38;5;241m=\u001b[39m from_loc_to_ohe_batch(batch, \u001b[38;5;124m\"\u001b[39m\u001b[38;5;124mother\u001b[39m\u001b[38;5;124m\"\u001b[39m)\n\u001b[1;32m     12\u001b[0m     rnaseq \u001b[38;5;241m=\u001b[39m torch\u001b[38;5;241m.\u001b[39mfrom_numpy(np\u001b[38;5;241m.\u001b[39marray(batch[\u001b[38;5;124m\"\u001b[39m\u001b[38;5;124mtissue\u001b[39m\u001b[38;5;124m\"\u001b[39m]\u001b[38;5;241m.\u001b[39mapply(\u001b[38;5;28;01mlambda\u001b[39;00m x: rnaseq_unmelted\u001b[38;5;241m.\u001b[39mloc[x])))\n",
      "Cell \u001b[0;32mIn[17], line 5\u001b[0m, in \u001b[0;36mfrom_loc_to_ohe_batch\u001b[0;34m(df, prefix)\u001b[0m\n\u001b[1;32m      4\u001b[0m \u001b[38;5;28;01mdef\u001b[39;00m \u001b[38;5;21mfrom_loc_to_ohe_batch\u001b[39m(df, prefix: [\u001b[38;5;124m\"\u001b[39m\u001b[38;5;124mbait\u001b[39m\u001b[38;5;124m\"\u001b[39m, \u001b[38;5;124m\"\u001b[39m\u001b[38;5;124mother\u001b[39m\u001b[38;5;124m\"\u001b[39m]):\n\u001b[0;32m----> 5\u001b[0m     \u001b[38;5;28;01mreturn\u001b[39;00m torch\u001b[38;5;241m.\u001b[39mstack(\u001b[43m[\u001b[49m\n\u001b[1;32m      6\u001b[0m \u001b[43m        \u001b[49m\u001b[43mfrom_loc_to_ohe\u001b[49m\u001b[43m(\u001b[49m\u001b[43mrow\u001b[49m\u001b[43m[\u001b[49m\u001b[38;5;124;43mf\u001b[39;49m\u001b[38;5;124;43m\"\u001b[39;49m\u001b[38;5;132;43;01m{\u001b[39;49;00m\u001b[43mprefix\u001b[49m\u001b[38;5;132;43;01m}\u001b[39;49;00m\u001b[38;5;124;43m_frag_chr\u001b[39;49m\u001b[38;5;124;43m\"\u001b[39;49m\u001b[43m]\u001b[49m\u001b[43m,\u001b[49m\u001b[43m \u001b[49m\u001b[43mrow\u001b[49m\u001b[43m[\u001b[49m\u001b[38;5;124;43mf\u001b[39;49m\u001b[38;5;124;43m\"\u001b[39;49m\u001b[38;5;132;43;01m{\u001b[39;49;00m\u001b[43mprefix\u001b[49m\u001b[38;5;132;43;01m}\u001b[39;49;00m\u001b[38;5;124;43m_frag_standard_size_start\u001b[39;49m\u001b[38;5;124;43m\"\u001b[39;49m\u001b[43m]\u001b[49m\u001b[43m,\u001b[49m\u001b[43m \u001b[49m\u001b[43mrow\u001b[49m\u001b[43m[\u001b[49m\u001b[38;5;124;43mf\u001b[39;49m\u001b[38;5;124;43m\"\u001b[39;49m\u001b[38;5;132;43;01m{\u001b[39;49;00m\u001b[43mprefix\u001b[49m\u001b[38;5;132;43;01m}\u001b[39;49;00m\u001b[38;5;124;43m_frag_standard_size_end\u001b[39;49m\u001b[38;5;124;43m\"\u001b[39;49m\u001b[43m]\u001b[49m\u001b[43m)\u001b[49m\n\u001b[1;32m      7\u001b[0m \u001b[43m        \u001b[49m\u001b[38;5;28;43;01mfor\u001b[39;49;00m\u001b[43m \u001b[49m\u001b[43m_\u001b[49m\u001b[43m,\u001b[49m\u001b[43m \u001b[49m\u001b[43mrow\u001b[49m\u001b[43m \u001b[49m\u001b[38;5;129;43;01min\u001b[39;49;00m\u001b[43m \u001b[49m\u001b[43mdf\u001b[49m\u001b[38;5;241;43m.\u001b[39;49m\u001b[43miterrows\u001b[49m\u001b[43m(\u001b[49m\u001b[43m)\u001b[49m\n\u001b[1;32m      8\u001b[0m \u001b[43m    \u001b[49m\u001b[43m]\u001b[49m)\n",
      "Cell \u001b[0;32mIn[17], line 6\u001b[0m, in \u001b[0;36m<listcomp>\u001b[0;34m(.0)\u001b[0m\n\u001b[1;32m      4\u001b[0m \u001b[38;5;28;01mdef\u001b[39;00m \u001b[38;5;21mfrom_loc_to_ohe_batch\u001b[39m(df, prefix: [\u001b[38;5;124m\"\u001b[39m\u001b[38;5;124mbait\u001b[39m\u001b[38;5;124m\"\u001b[39m, \u001b[38;5;124m\"\u001b[39m\u001b[38;5;124mother\u001b[39m\u001b[38;5;124m\"\u001b[39m]):\n\u001b[1;32m      5\u001b[0m     \u001b[38;5;28;01mreturn\u001b[39;00m torch\u001b[38;5;241m.\u001b[39mstack([\n\u001b[0;32m----> 6\u001b[0m         \u001b[43mfrom_loc_to_ohe\u001b[49m\u001b[43m(\u001b[49m\u001b[43mrow\u001b[49m\u001b[43m[\u001b[49m\u001b[38;5;124;43mf\u001b[39;49m\u001b[38;5;124;43m\"\u001b[39;49m\u001b[38;5;132;43;01m{\u001b[39;49;00m\u001b[43mprefix\u001b[49m\u001b[38;5;132;43;01m}\u001b[39;49;00m\u001b[38;5;124;43m_frag_chr\u001b[39;49m\u001b[38;5;124;43m\"\u001b[39;49m\u001b[43m]\u001b[49m\u001b[43m,\u001b[49m\u001b[43m \u001b[49m\u001b[43mrow\u001b[49m\u001b[43m[\u001b[49m\u001b[38;5;124;43mf\u001b[39;49m\u001b[38;5;124;43m\"\u001b[39;49m\u001b[38;5;132;43;01m{\u001b[39;49;00m\u001b[43mprefix\u001b[49m\u001b[38;5;132;43;01m}\u001b[39;49;00m\u001b[38;5;124;43m_frag_standard_size_start\u001b[39;49m\u001b[38;5;124;43m\"\u001b[39;49m\u001b[43m]\u001b[49m\u001b[43m,\u001b[49m\u001b[43m \u001b[49m\u001b[43mrow\u001b[49m\u001b[43m[\u001b[49m\u001b[38;5;124;43mf\u001b[39;49m\u001b[38;5;124;43m\"\u001b[39;49m\u001b[38;5;132;43;01m{\u001b[39;49;00m\u001b[43mprefix\u001b[49m\u001b[38;5;132;43;01m}\u001b[39;49;00m\u001b[38;5;124;43m_frag_standard_size_end\u001b[39;49m\u001b[38;5;124;43m\"\u001b[39;49m\u001b[43m]\u001b[49m\u001b[43m)\u001b[49m\n\u001b[1;32m      7\u001b[0m         \u001b[38;5;28;01mfor\u001b[39;00m _, row \u001b[38;5;129;01min\u001b[39;00m df\u001b[38;5;241m.\u001b[39miterrows()\n\u001b[1;32m      8\u001b[0m     ])\n",
      "Cell \u001b[0;32mIn[16], line 23\u001b[0m, in \u001b[0;36mfrom_loc_to_ohe\u001b[0;34m(chr, start, end)\u001b[0m\n\u001b[1;32m     21\u001b[0m sequence \u001b[38;5;241m=\u001b[39m hg\u001b[38;5;241m.\u001b[39mget_seq(\u001b[38;5;28mchr\u001b[39m, start, end)\n\u001b[1;32m     22\u001b[0m buffer \u001b[38;5;241m=\u001b[39m torch\u001b[38;5;241m.\u001b[39mfrombuffer(sequence\u001b[38;5;241m.\u001b[39mseq\u001b[38;5;241m.\u001b[39mencode(), dtype\u001b[38;5;241m=\u001b[39mtorch\u001b[38;5;241m.\u001b[39muint8)\n\u001b[0;32m---> 23\u001b[0m buffer \u001b[38;5;241m=\u001b[39m \u001b[43mbuffer\u001b[49m\u001b[38;5;241;43m.\u001b[39;49m\u001b[43mapply_\u001b[49m\u001b[43m(\u001b[49m\u001b[43mfasta_to_ohe_mapping\u001b[49m\u001b[43m)\u001b[49m\n\u001b[1;32m     24\u001b[0m atcg_mask \u001b[38;5;241m=\u001b[39m buffer \u001b[38;5;241m!=\u001b[39m \u001b[38;5;241m0\u001b[39m \u001b[38;5;66;03m# 1 if actg, 0 otherwise\u001b[39;00m\n\u001b[1;32m     25\u001b[0m buffer \u001b[38;5;241m-\u001b[39m\u001b[38;5;241m=\u001b[39m atcg_mask \u001b[38;5;241m*\u001b[39m \u001b[38;5;241m1\u001b[39m \u001b[38;5;66;03m# offset indexing for atcg so it starts at 0 instead of 1\u001b[39;00m\n",
      "Cell \u001b[0;32mIn[16], line 1\u001b[0m, in \u001b[0;36mfasta_to_ohe_mapping\u001b[0;34m(ascii_dna)\u001b[0m\n\u001b[0;32m----> 1\u001b[0m \u001b[38;5;28;01mdef\u001b[39;00m \u001b[38;5;21mfasta_to_ohe_mapping\u001b[39m(ascii_dna):\n\u001b[1;32m      2\u001b[0m         \u001b[38;5;28;01mif\u001b[39;00m ascii_dna \u001b[38;5;241m==\u001b[39m \u001b[38;5;241m65\u001b[39m:  \u001b[38;5;66;03m# A\u001b[39;00m\n\u001b[1;32m      3\u001b[0m             \u001b[38;5;28;01mreturn\u001b[39;00m \u001b[38;5;241m1\u001b[39m\n",
      "\u001b[0;31mKeyboardInterrupt\u001b[0m: "
     ]
    }
   ],
   "source": [
    "model.train(True)\n",
    "from tqdm.notebook import tqdm\n",
    "best_accuracy = 0\n",
    "\n",
    "for epoch in range(1, 200):\n",
    "    model.train(True)\n",
    "    for batch in (chunk_df(data_train.sample(frac=1.), 100)):\n",
    "        optimizer.zero_grad()\n",
    "        \n",
    "        bait_ohe = from_loc_to_ohe_batch(batch, \"bait\")\n",
    "        other_ohe = from_loc_to_ohe_batch(batch, \"other\")\n",
    "        rnaseq = torch.from_numpy(np.array(batch[\"tissue\"].apply(lambda x: rnaseq_unmelted.loc[x])))\n",
    "        yhat = model.forward(bait_ohe.float().cuda(), other_ohe.float().cuda(), rnaseq.float().cuda())\n",
    "        yhat = yhat.cpu().flatten()\n",
    "        y = torch.from_numpy(batch[\"factual\"].values).float()\n",
    "        loss = loss_function(yhat, y)\n",
    "        loss.backward()\n",
    "        optimizer.step()\n",
    "        print(f\"Loss: {loss: .5f} Accuracy {sum((F.sigmoid(yhat) >= .5) == y)/len(y):.5f} Ones% {sum((F.sigmoid(yhat) >= .5) == 1)/len(y):.5f}\", end=\"\\r\")\n",
    "    print()\n",
    "    model.eval()\n",
    "    with torch.no_grad():\n",
    "        total_correct = 0\n",
    "        total_so_far = 0\n",
    "        for batch in (chunk_df(data_test.sample(frac=1.), 100)):        \n",
    "            bait_ohe = from_loc_to_ohe_batch(batch, \"bait\")\n",
    "            other_ohe = from_loc_to_ohe_batch(batch, \"other\")\n",
    "            rnaseq = torch.from_numpy(np.array(batch[\"tissue\"].apply(lambda x: rnaseq_unmelted.loc[x])))\n",
    "            yhat = model.forward(bait_ohe.float().cuda(), other_ohe.float().cuda(), rnaseq.float().cuda())\n",
    "            yhat = yhat.cpu().flatten()\n",
    "            y = torch.from_numpy(batch[\"factual\"].values).float()\n",
    "            total_correct += sum((F.sigmoid(yhat) >= .5) == y)\n",
    "            total_so_far += len(y)\n",
    "        print(f\"{total_correct/total_so_far: .5f}\", end=\"\\r\")\n",
    "        if total_correct/total_so_far > best_accuracy:\n",
    "            torch.save(model, \"data/models/amt1_best\")\n",
    "    print()"
   ]
  },
  {
   "cell_type": "code",
   "execution_count": 21,
   "id": "599fecab-26e4-427a-ab09-d98063e33374",
   "metadata": {},
   "outputs": [],
   "source": [
    "model = torch.load(\"data/models/amt1_best\")"
   ]
  },
  {
   "cell_type": "code",
   "execution_count": 54,
   "id": "6c11bf0c-78d1-49cd-8293-6b0aa8911310",
   "metadata": {},
   "outputs": [
    {
     "data": {
      "application/vnd.jupyter.widget-view+json": {
       "model_id": "8f3379d69a7e4f08915ef30533bba234",
       "version_major": 2,
       "version_minor": 0
      },
      "text/plain": [
       "  0%|          | 0/600 [00:00<?, ?it/s]"
      ]
     },
     "metadata": {},
     "output_type": "display_data"
    },
    {
     "name": "stderr",
     "output_type": "stream",
     "text": [
      "/home/kacper/.pyenv/versions/3.11.8/lib/python3.11/site-packages/torch/nn/functional.py:1967: UserWarning: nn.functional.sigmoid is deprecated. Use torch.sigmoid instead.\n",
      "  warnings.warn(\"nn.functional.sigmoid is deprecated. Use torch.sigmoid instead.\")\n"
     ]
    }
   ],
   "source": [
    "model.eval()\n",
    "yhat_list = []\n",
    "with torch.no_grad():\n",
    "        for batch in tqdm(chunk_df(data_train, 100)):        \n",
    "            bait_ohe = from_loc_to_ohe_batch(batch, \"bait\")\n",
    "            other_ohe = from_loc_to_ohe_batch(batch, \"other\")\n",
    "            rnaseq = torch.from_numpy(np.array(batch[\"tissue\"].apply(lambda x: rnaseq_unmelted.loc[x])))\n",
    "            yhat = model.forward(bait_ohe.float().cuda(), other_ohe.float().cuda(), rnaseq.float().cuda())\n",
    "            yhat = yhat.cpu().flatten()\n",
    "            y = torch.from_numpy(batch[\"factual\"].values).float()\n",
    "            yhat_list.append(F.sigmoid(yhat))"
   ]
  },
  {
   "cell_type": "code",
   "execution_count": 56,
   "id": "90432f73-0843-4248-9dcf-6dda80673f73",
   "metadata": {},
   "outputs": [
    {
     "data": {
      "text/plain": [
       "0.9258833333333333"
      ]
     },
     "execution_count": 56,
     "metadata": {},
     "output_type": "execute_result"
    }
   ],
   "source": [
    "np.mean(((torch.cat(yhat_list) >= .5) +0).numpy() == data_train[\"factual\"].values) #accuracy"
   ]
  },
  {
   "cell_type": "code",
   "execution_count": 59,
   "id": "ddc84d1e-afe5-45ae-8f05-40c2ef97367e",
   "metadata": {},
   "outputs": [
    {
     "name": "stdout",
     "output_type": "stream",
     "text": [
      "0.9798947065690883\n"
     ]
    },
    {
     "data": {
      "text/plain": [
       "[<matplotlib.lines.Line2D at 0x7ff7b661b3d0>]"
      ]
     },
     "execution_count": 59,
     "metadata": {},
     "output_type": "execute_result"
    },
    {
     "data": {
      "image/png": "[encoded data removed]",
      "text/plain": [
       "<Figure size 640x480 with 1 Axes>"
      ]
     },
     "metadata": {},
     "output_type": "display_data"
    }
   ],
   "source": [
    "from sklearn.metrics import roc_curve, roc_auc_score\n",
    "print(roc_auc_score(data_train[\"factual\"].values, torch.cat(yhat_list)))\n",
    "fpr, tpr, thresholds = roc_curve(data_train[\"factual\"].values, torch.cat(yhat_list))\n",
    "import matplotlib.pyplot as plt\n",
    "plt.plot(fpr, tpr)"
   ]
  },
  {
   "cell_type": "code",
   "execution_count": 43,
   "id": "e7d16214-64d2-4c8a-8d56-e4958d1a02f8",
   "metadata": {},
   "outputs": [
    {
     "data": {
      "text/plain": [
       "<sklearn.metrics._plot.confusion_matrix.ConfusionMatrixDisplay at 0x7ff87b114710>"
      ]
     },
     "execution_count": 43,
     "metadata": {},
     "output_type": "execute_result"
    },
    {
     "data": {
      "image/png": "[encoded data removed]",
      "text/plain": [
       "<Figure size 640x480 with 2 Axes>"
      ]
     },
     "metadata": {},
     "output_type": "display_data"
    }
   ],
   "source": [
    "from sklearn.metrics import ConfusionMatrixDisplay\n",
    "ConfusionMatrixDisplay.from_predictions(    data_test[\"factual\"].values,\n",
    "    ((torch.cat(yhat_list) >= .5) +0).numpy())"
   ]
  },
  {
   "cell_type": "code",
   "execution_count": 39,
   "id": "857f0b5e-e2ff-4fb0-88bc-68687bd71070",
   "metadata": {},
   "outputs": [
    {
     "data": {
      "application/vnd.jupyter.widget-view+json": {
       "model_id": "d59c0456705c4a04a1ca6dd9dd0b88d8",
       "version_major": 2,
       "version_minor": 0
      },
      "text/plain": [
       "  0%|          | 0/200 [00:00<?, ?it/s]"
      ]
     },
     "metadata": {},
     "output_type": "display_data"
    }
   ],
   "source": [
    "model.eval()\n",
    "yhat_list = []\n",
    "with torch.no_grad():\n",
    "        for batch in tqdm(chunk_df(data_test, 100)):        \n",
    "            bait_ohe = from_loc_to_ohe_batch(batch, \"bait\")\n",
    "            other_ohe = from_loc_to_ohe_batch(batch, \"other\")\n",
    "            rnaseq = torch.from_numpy(np.array(batch[\"tissue\"].apply(lambda x: rnaseq_unmelted.loc[x])))\n",
    "            yhat = model.forward(bait_ohe.float().cuda(), other_ohe.float().cuda(), rnaseq.float().cuda())\n",
    "            yhat = yhat.cpu().flatten()\n",
    "            y = torch.from_numpy(batch[\"factual\"].values).float()\n",
    "            yhat_list.append(F.sigmoid(yhat))"
   ]
  },
  {
   "cell_type": "code",
   "execution_count": 40,
   "id": "57c9723c-0902-48ae-8fe0-d6913b2df74e",
   "metadata": {},
   "outputs": [
    {
     "data": {
      "text/plain": [
       "0.64795"
      ]
     },
     "execution_count": 40,
     "metadata": {},
     "output_type": "execute_result"
    }
   ],
   "source": [
    "np.mean(((torch.cat(yhat_list) >= .5) +0).numpy() == data_test[\"factual\"].values) #accuracy"
   ]
  },
  {
   "cell_type": "code",
   "execution_count": 41,
   "id": "89ec0b86-2371-48c1-9484-ca949cfbf312",
   "metadata": {},
   "outputs": [
    {
     "name": "stdout",
     "output_type": "stream",
     "text": [
      "0.7071671663917839\n"
     ]
    },
    {
     "data": {
      "text/plain": [
       "[<matplotlib.lines.Line2D at 0x7ff871499dd0>]"
      ]
     },
     "execution_count": 41,
     "metadata": {},
     "output_type": "execute_result"
    },
    {
     "data": {
      "image/png": "[encoded data removed]",
      "text/plain": [
       "<Figure size 640x480 with 1 Axes>"
      ]
     },
     "metadata": {},
     "output_type": "display_data"
    }
   ],
   "source": [
    "from sklearn.metrics import roc_curve, roc_auc_score\n",
    "print(roc_auc_score(data_test[\"factual\"].values, torch.cat(yhat_list)))\n",
    "fpr, tpr, thresholds = roc_curve(data_test[\"factual\"].values, torch.cat(yhat_list))\n",
    "import matplotlib.pyplot as plt\n",
    "plt.plot(fpr, tpr)"
   ]
  },
  {
   "cell_type": "code",
   "execution_count": 43,
   "id": "5d598370-b2e6-40b7-89a2-fa1f09a80b95",
   "metadata": {},
   "outputs": [
    {
     "data": {
      "text/plain": [
       "<sklearn.metrics._plot.confusion_matrix.ConfusionMatrixDisplay at 0x7ff87b114710>"
      ]
     },
     "execution_count": 43,
     "metadata": {},
     "output_type": "execute_result"
    },
    {
     "data": {
      "image/png": "[encoded data removed]",
      "text/plain": [
       "<Figure size 640x480 with 2 Axes>"
      ]
     },
     "metadata": {},
     "output_type": "display_data"
    }
   ],
   "source": [
    "from sklearn.metrics import ConfusionMatrixDisplay\n",
    "ConfusionMatrixDisplay.from_predictions(    data_test[\"factual\"].values,\n",
    "    ((torch.cat(yhat_list) >= .5) +0).numpy())"
   ]
  },
  {
   "cell_type": "code",
   "execution_count": 44,
   "id": "f718ad82-4f68-401d-9343-a9dd013864a8",
   "metadata": {},
   "outputs": [],
   "source": [
    "left_out = prepare_for_merge(\"data/pchic/0067_Blood - Total CD4+ Cells_merged_loop.txt\", 10_000, \"0067\") \n",
    "left_out = expand_enrich_pchic(left_out)\n",
    "left_out[\"factual\"] = 1"
   ]
  },
  {
   "cell_type": "code",
   "execution_count": 45,
   "id": "154a8456-85a5-4097-a5cc-b52aef981088",
   "metadata": {},
   "outputs": [],
   "source": [
    "rnaseq_trimmed = pd.read_table(\"data/rnaseq/rnaseq.rsem_genes_fpkm.txt\")[\n",
    "    [\"gene_name\"] + \n",
    "    [\n",
    "        col \n",
    "        for col in pd.read_table(\"data/rnaseq/rnaseq.rsem_genes_fpkm.txt\").columns \n",
    "        if any([(tissue in col) for tissue in [\"0067_\"]]) \n",
    "    ]\n",
    "]\n",
    "rnaseq_melted = rnaseq_trimmed.melt([\"gene_name\"], var_name=\"tissue\")\n",
    "rnaseq_melted[\"tissue_id\"] = rnaseq_melted[\"tissue\"].apply(lambda x: x[:4])\n",
    "rnaseq_melted = rnaseq_melted.groupby([\"tissue_id\", \"gene_name\"]).agg({\"tissue\": \"first\", \"value\": \"mean\"}).reset_index()\n",
    "rnaseq_unmelted_t = rnaseq_melted.pivot(index=\"tissue_id\", columns=\"gene_name\", values=\"value\")"
   ]
  },
  {
   "cell_type": "code",
   "execution_count": 46,
   "id": "2a40eb16-36b4-4090-9133-e33135fa48ac",
   "metadata": {},
   "outputs": [],
   "source": [
    "rnaseq_unmelted_t = rnaseq_unmelted_t[rnaseq_unmelted.columns]\n",
    "rnaseq_unmelted_t =  rnaseq_unmelted_t/(rnaseq_unmelted_t+1)"
   ]
  },
  {
   "cell_type": "code",
   "execution_count": 47,
   "id": "b4913297-884d-4937-b66f-5729c5556260",
   "metadata": {},
   "outputs": [
    {
     "data": {
      "application/vnd.jupyter.widget-view+json": {
       "model_id": "dea9a6e644094ee684601df91337e863",
       "version_major": 2,
       "version_minor": 0
      },
      "text/plain": [
       "  0%|          | 0/3276 [00:00<?, ?it/s]"
      ]
     },
     "metadata": {},
     "output_type": "display_data"
    }
   ],
   "source": [
    "left_out_negatives = generate_random_negatives_df(left_out)"
   ]
  },
  {
   "cell_type": "code",
   "execution_count": 48,
   "id": "38ec7d02-6ea9-4098-a477-9b245cfd2228",
   "metadata": {},
   "outputs": [],
   "source": [
    "left_out_negatives = expand_enrich_pchic(left_out_negatives)\n",
    "left_out_negatives[\"factual\"] = 0"
   ]
  },
  {
   "cell_type": "code",
   "execution_count": 50,
   "id": "0409e6e2-90f8-4031-a7b3-807d8e37377c",
   "metadata": {},
   "outputs": [
    {
     "data": {
      "application/vnd.jupyter.widget-view+json": {
       "model_id": "0404fff1d27647bdb21dcdd152b88213",
       "version_major": 2,
       "version_minor": 0
      },
      "text/plain": [
       "  0%|          | 0/200 [00:00<?, ?it/s]"
      ]
     },
     "metadata": {},
     "output_type": "display_data"
    },
    {
     "name": "stderr",
     "output_type": "stream",
     "text": [
      "/home/kacper/.pyenv/versions/3.11.8/lib/python3.11/site-packages/torch/nn/functional.py:1967: UserWarning: nn.functional.sigmoid is deprecated. Use torch.sigmoid instead.\n",
      "  warnings.warn(\"nn.functional.sigmoid is deprecated. Use torch.sigmoid instead.\")\n"
     ]
    }
   ],
   "source": [
    "model.eval()\n",
    "yhat_list = []\n",
    "with torch.no_grad():\n",
    "        for batch in tqdm(chunk_df(pd.concat((left_out, left_out_negatives)), 100)):        \n",
    "            bait_ohe = from_loc_to_ohe_batch(batch, \"bait\")\n",
    "            other_ohe = from_loc_to_ohe_batch(batch, \"other\")\n",
    "            rnaseq = torch.from_numpy(np.array(batch[\"tissue\"].apply(lambda x: rnaseq_unmelted_t.loc[x])))\n",
    "            yhat = model.forward(bait_ohe.float().cuda(), other_ohe.float().cuda(), rnaseq.float().cuda())\n",
    "            yhat = yhat.cpu().flatten()\n",
    "            y = torch.from_numpy(batch[\"factual\"].values).float()\n",
    "            yhat_list.append(F.sigmoid(yhat))"
   ]
  },
  {
   "cell_type": "code",
   "execution_count": 51,
   "id": "d986e031-7d06-477d-87db-d8f26cbdaa71",
   "metadata": {},
   "outputs": [
    {
     "data": {
      "text/plain": [
       "0.5608"
      ]
     },
     "execution_count": 51,
     "metadata": {},
     "output_type": "execute_result"
    }
   ],
   "source": [
    "np.mean(((torch.cat(yhat_list) >= .5) +0).numpy() == data_test[\"factual\"].values) #accuracy"
   ]
  },
  {
   "cell_type": "code",
   "execution_count": 52,
   "id": "462f3949-3af2-4b68-a198-b6584a2191ed",
   "metadata": {},
   "outputs": [
    {
     "name": "stdout",
     "output_type": "stream",
     "text": [
      "0.6484242948647794\n"
     ]
    },
    {
     "data": {
      "text/plain": [
       "[<matplotlib.lines.Line2D at 0x7ff7b6957c50>]"
      ]
     },
     "execution_count": 52,
     "metadata": {},
     "output_type": "execute_result"
    },
    {
     "data": {
      "image/png": "[encoded data removed]",
      "text/plain": [
       "<Figure size 640x480 with 1 Axes>"
      ]
     },
     "metadata": {},
     "output_type": "display_data"
    }
   ],
   "source": [
    "from sklearn.metrics import roc_curve, roc_auc_score\n",
    "print(roc_auc_score(data_test[\"factual\"].values, torch.cat(yhat_list)))\n",
    "fpr, tpr, thresholds = roc_curve(data_test[\"factual\"].values, torch.cat(yhat_list))\n",
    "import matplotlib.pyplot as plt\n",
    "plt.plot(fpr, tpr)"
   ]
  },
  {
   "cell_type": "code",
   "execution_count": 53,
   "id": "9c165a06-bb97-4932-bebf-6a8a4095f9a3",
   "metadata": {},
   "outputs": [
    {
     "data": {
      "text/plain": [
       "<sklearn.metrics._plot.confusion_matrix.ConfusionMatrixDisplay at 0x7ff87b93c5d0>"
      ]
     },
     "execution_count": 53,
     "metadata": {},
     "output_type": "execute_result"
    },
    {
     "data": {
      "image/png": "[encoded data removed]",
      "text/plain": [
       "<Figure size 640x480 with 2 Axes>"
      ]
     },
     "metadata": {},
     "output_type": "display_data"
    }
   ],
   "source": [
    "from sklearn.metrics import ConfusionMatrixDisplay\n",
    "ConfusionMatrixDisplay.from_predictions(    data_test[\"factual\"].values,\n",
    "    ((torch.cat(yhat_list) >= .5) +0).numpy())"
   ]
  },
  {
   "cell_type": "code",
   "execution_count": null,
   "id": "5e8c246d-f681-4a3c-bb5a-273c24fe96fd",
   "metadata": {},
   "outputs": [],
   "source": []
  }
 ],
 "metadata": {
  "kernelspec": {
   "display_name": "Python 3 (ipykernel)",
   "language": "python",
   "name": "python3"
  },
  "language_info": {
   "codemirror_mode": {
    "name": "ipython",
    "version": 3
   },
   "file_extension": ".py",
   "mimetype": "text/x-python",
   "name": "python",
   "nbconvert_exporter": "python",
   "pygments_lexer": "ipython3",
   "version": "3.11.8"
  }
 },
 "nbformat": 4,
 "nbformat_minor": 5
}
