{
 "cells": [
  {
   "cell_type": "code",
   "execution_count": 1,
   "id": "f2f1c178-0553-4605-a767-d95d01b11335",
   "metadata": {},
   "outputs": [],
   "source": [
    "import os\n",
    "import genomepy\n",
    "import pandas as pd\n",
    "from torch.nn import functional as F\n",
    "import torch\n",
    "import numpy as np"
   ]
  },
  {
   "cell_type": "code",
   "execution_count": 2,
   "id": "fdc3e33a-227c-4cce-8c01-490fae9caf59",
   "metadata": {},
   "outputs": [],
   "source": [
    "data = pd.read_table(\"data/pchic/0071_Blood - Non-activated CD4+ Cells_merged_loop.txt\")"
   ]
  },
  {
   "cell_type": "code",
   "execution_count": 3,
   "id": "e18a8b7c-a56b-4dcc-a44d-8e1c8d4735bc",
   "metadata": {},
   "outputs": [],
   "source": [
    "standard_size = 5_000\n",
    "def expand_enrich_pchic(df):\n",
    "    df[[\"bait_frag_chr\", \"bait_frag_start\", \"bait_frag_end\"]] = df[\"bait_frag\"].str.split(\",\", expand=True)\n",
    "    df[[\"other_frag_chr\", \"other_frag_start\", \"other_frag_end\"]] = df[\"other_frag\"].str.split(\",\", expand=True)\n",
    "    df[\"bait_size\"] = np.abs(df[\"bait_frag_start\"].apply(int) - df[\"bait_frag_end\"].apply(int))\n",
    "    df[\"other_size\"] = np.abs(df[\"other_frag_start\"].apply(int) - df[\"other_frag_end\"].apply(int))\n",
    "    df[\"bait_frag_midpoint\"] = df.apply(lambda x: int((int(x[\"bait_frag_start\"]) + int(x[\"bait_frag_end\"])) / 2), axis=1)\n",
    "    df[\"bait_frag_standard_size_start\"] = df[\"bait_frag_midpoint\"] - standard_size\n",
    "    df[\"bait_frag_standard_size_end\"]   = df[\"bait_frag_midpoint\"] + standard_size - 1\n",
    "    df[\"other_frag_midpoint\"] = df.apply(lambda x: int((int(x[\"other_frag_start\"]) + int(x[\"other_frag_end\"])) / 2), axis=1)\n",
    "    df[\"other_frag_standard_size_start\"] = df[\"other_frag_midpoint\"] - standard_size\n",
    "    df[\"other_frag_standard_size_end\"]   = df[\"other_frag_midpoint\"] + standard_size - 1\n",
    "    negative_starting = df.loc[df[\"other_frag_standard_size_start\"] <= 0, \"other_frag_standard_size_start\"]\n",
    "    negative_ending = df.loc[df[\"other_frag_standard_size_start\"] <= 0, \"other_frag_standard_size_end\"]\n",
    "    df.loc[negative_starting.index, \"other_frag_standard_size_end\"] = (negative_ending - negative_starting + 1).apply(int)\n",
    "    df.loc[negative_starting.index, \"other_frag_standard_size_start\"] = 1\n",
    "    return df"
   ]
  },
  {
   "cell_type": "code",
   "execution_count": 4,
   "id": "497ad787-5f59-4712-92f3-e2a720743a52",
   "metadata": {},
   "outputs": [
    {
     "data": {
      "text/html": [
       "<div>\n",
       "<style scoped>\n",
       "    .dataframe tbody tr th:only-of-type {\n",
       "        vertical-align: middle;\n",
       "    }\n",
       "\n",
       "    .dataframe tbody tr th {\n",
       "        vertical-align: top;\n",
       "    }\n",
       "\n",
       "    .dataframe thead th {\n",
       "        text-align: right;\n",
       "    }\n",
       "</style>\n",
       "<table border=\"1\" class=\"dataframe\">\n",
       "  <thead>\n",
       "    <tr style=\"text-align: right;\">\n",
       "      <th></th>\n",
       "      <th>bait_frag</th>\n",
       "      <th>other_frag</th>\n",
       "      <th>N_reads</th>\n",
       "      <th>score</th>\n",
       "      <th>bait_gene</th>\n",
       "      <th>bait_gene_strand</th>\n",
       "      <th>oe_gene</th>\n",
       "      <th>oe_gene_strand</th>\n",
       "      <th>bait_closest_gene</th>\n",
       "      <th>bait_closest_gene_strand</th>\n",
       "      <th>...</th>\n",
       "      <th>other_frag_start</th>\n",
       "      <th>other_frag_end</th>\n",
       "      <th>bait_size</th>\n",
       "      <th>other_size</th>\n",
       "      <th>bait_frag_midpoint</th>\n",
       "      <th>bait_frag_standard_size_start</th>\n",
       "      <th>bait_frag_standard_size_end</th>\n",
       "      <th>other_frag_midpoint</th>\n",
       "      <th>other_frag_standard_size_start</th>\n",
       "      <th>other_frag_standard_size_end</th>\n",
       "    </tr>\n",
       "  </thead>\n",
       "  <tbody>\n",
       "    <tr>\n",
       "      <th>0</th>\n",
       "      <td>chr1,831895,848168</td>\n",
       "      <td>chr1,850619,874081</td>\n",
       "      <td>192</td>\n",
       "      <td>12.48</td>\n",
       "      <td>RP11-54O7.16,RP11-54O7.1</td>\n",
       "      <td>+</td>\n",
       "      <td>RP11-54O7.16,RP11-54O7.3,AL645608.1,SAMD11</td>\n",
       "      <td>+,-</td>\n",
       "      <td>RP11-54O7.16,RP11-54O7.1</td>\n",
       "      <td>+</td>\n",
       "      <td>...</td>\n",
       "      <td>850619</td>\n",
       "      <td>874081</td>\n",
       "      <td>16273</td>\n",
       "      <td>23462</td>\n",
       "      <td>840031</td>\n",
       "      <td>835031</td>\n",
       "      <td>845030</td>\n",
       "      <td>862350</td>\n",
       "      <td>857350</td>\n",
       "      <td>867349</td>\n",
       "    </tr>\n",
       "    <tr>\n",
       "      <th>1</th>\n",
       "      <td>chr1,831895,848168</td>\n",
       "      <td>chr1,1206874,1212438</td>\n",
       "      <td>11</td>\n",
       "      <td>5.73</td>\n",
       "      <td>RP11-54O7.16,RP11-54O7.1</td>\n",
       "      <td>+</td>\n",
       "      <td>UBE2J2,LINC01786</td>\n",
       "      <td>-,+</td>\n",
       "      <td>RP11-54O7.16,RP11-54O7.1</td>\n",
       "      <td>+</td>\n",
       "      <td>...</td>\n",
       "      <td>1206874</td>\n",
       "      <td>1212438</td>\n",
       "      <td>16273</td>\n",
       "      <td>5564</td>\n",
       "      <td>840031</td>\n",
       "      <td>835031</td>\n",
       "      <td>845030</td>\n",
       "      <td>1209656</td>\n",
       "      <td>1204656</td>\n",
       "      <td>1214655</td>\n",
       "    </tr>\n",
       "    <tr>\n",
       "      <th>2</th>\n",
       "      <td>chr1,927395,936954</td>\n",
       "      <td>chr1,1206874,1212438</td>\n",
       "      <td>23</td>\n",
       "      <td>5.57</td>\n",
       "      <td>RP11-54O7.17,HES4,ISG15</td>\n",
       "      <td>-,+</td>\n",
       "      <td>UBE2J2,LINC01786</td>\n",
       "      <td>-,+</td>\n",
       "      <td>RP11-54O7.17,HES4,ISG15</td>\n",
       "      <td>-,+</td>\n",
       "      <td>...</td>\n",
       "      <td>1206874</td>\n",
       "      <td>1212438</td>\n",
       "      <td>9559</td>\n",
       "      <td>5564</td>\n",
       "      <td>932174</td>\n",
       "      <td>927174</td>\n",
       "      <td>937173</td>\n",
       "      <td>1209656</td>\n",
       "      <td>1204656</td>\n",
       "      <td>1214655</td>\n",
       "    </tr>\n",
       "    <tr>\n",
       "      <th>3</th>\n",
       "      <td>chr1,943677,957199</td>\n",
       "      <td>chr1,1206874,1212438</td>\n",
       "      <td>20</td>\n",
       "      <td>6.04</td>\n",
       "      <td>ISG15,RP11-54O7.11,AGRN</td>\n",
       "      <td>+,-</td>\n",
       "      <td>UBE2J2,LINC01786</td>\n",
       "      <td>-,+</td>\n",
       "      <td>RP11-54O7.11,ISG15,AGRN</td>\n",
       "      <td>-,+</td>\n",
       "      <td>...</td>\n",
       "      <td>1206874</td>\n",
       "      <td>1212438</td>\n",
       "      <td>13522</td>\n",
       "      <td>5564</td>\n",
       "      <td>950438</td>\n",
       "      <td>945438</td>\n",
       "      <td>955437</td>\n",
       "      <td>1209656</td>\n",
       "      <td>1204656</td>\n",
       "      <td>1214655</td>\n",
       "    </tr>\n",
       "    <tr>\n",
       "      <th>4</th>\n",
       "      <td>chr1,1005127,1034268</td>\n",
       "      <td>chr1,903641,927394</td>\n",
       "      <td>26</td>\n",
       "      <td>8.61</td>\n",
       "      <td>RNF223,C1orf159</td>\n",
       "      <td>-</td>\n",
       "      <td>PLEKHN1,PERM1</td>\n",
       "      <td>+,-</td>\n",
       "      <td>RNF223,C1orf159</td>\n",
       "      <td>-</td>\n",
       "      <td>...</td>\n",
       "      <td>903641</td>\n",
       "      <td>927394</td>\n",
       "      <td>29141</td>\n",
       "      <td>23753</td>\n",
       "      <td>1019697</td>\n",
       "      <td>1014697</td>\n",
       "      <td>1024696</td>\n",
       "      <td>915517</td>\n",
       "      <td>910517</td>\n",
       "      <td>920516</td>\n",
       "    </tr>\n",
       "    <tr>\n",
       "      <th>...</th>\n",
       "      <td>...</td>\n",
       "      <td>...</td>\n",
       "      <td>...</td>\n",
       "      <td>...</td>\n",
       "      <td>...</td>\n",
       "      <td>...</td>\n",
       "      <td>...</td>\n",
       "      <td>...</td>\n",
       "      <td>...</td>\n",
       "      <td>...</td>\n",
       "      <td>...</td>\n",
       "      <td>...</td>\n",
       "      <td>...</td>\n",
       "      <td>...</td>\n",
       "      <td>...</td>\n",
       "      <td>...</td>\n",
       "      <td>...</td>\n",
       "      <td>...</td>\n",
       "      <td>...</td>\n",
       "      <td>...</td>\n",
       "      <td>...</td>\n",
       "    </tr>\n",
       "    <tr>\n",
       "      <th>215682</th>\n",
       "      <td>chrY,22732050,22743996</td>\n",
       "      <td>chrY,23423342,23424529</td>\n",
       "      <td>18</td>\n",
       "      <td>7.24</td>\n",
       "      <td>KDM5DP1,EIF1AY</td>\n",
       "      <td>-,+</td>\n",
       "      <td>NaN</td>\n",
       "      <td>NaN</td>\n",
       "      <td>KDM5DP1,EIF1AY</td>\n",
       "      <td>-,+</td>\n",
       "      <td>...</td>\n",
       "      <td>23423342</td>\n",
       "      <td>23424529</td>\n",
       "      <td>11946</td>\n",
       "      <td>1187</td>\n",
       "      <td>22738023</td>\n",
       "      <td>22733023</td>\n",
       "      <td>22743022</td>\n",
       "      <td>23423935</td>\n",
       "      <td>23418935</td>\n",
       "      <td>23428934</td>\n",
       "    </tr>\n",
       "    <tr>\n",
       "      <th>215683</th>\n",
       "      <td>chrY,22732050,22743996</td>\n",
       "      <td>chrY,23424530,23428951</td>\n",
       "      <td>15</td>\n",
       "      <td>6.34</td>\n",
       "      <td>KDM5DP1,EIF1AY</td>\n",
       "      <td>-,+</td>\n",
       "      <td>NaN</td>\n",
       "      <td>NaN</td>\n",
       "      <td>KDM5DP1,EIF1AY</td>\n",
       "      <td>-,+</td>\n",
       "      <td>...</td>\n",
       "      <td>23424530</td>\n",
       "      <td>23428951</td>\n",
       "      <td>11946</td>\n",
       "      <td>4421</td>\n",
       "      <td>22738023</td>\n",
       "      <td>22733023</td>\n",
       "      <td>22743022</td>\n",
       "      <td>23426740</td>\n",
       "      <td>23421740</td>\n",
       "      <td>23431739</td>\n",
       "    </tr>\n",
       "    <tr>\n",
       "      <th>215684</th>\n",
       "      <td>chrY,22732050,22743996</td>\n",
       "      <td>chrY,23428952,23431276</td>\n",
       "      <td>18</td>\n",
       "      <td>7.58</td>\n",
       "      <td>KDM5DP1,EIF1AY</td>\n",
       "      <td>-,+</td>\n",
       "      <td>NaN</td>\n",
       "      <td>NaN</td>\n",
       "      <td>KDM5DP1,EIF1AY</td>\n",
       "      <td>-,+</td>\n",
       "      <td>...</td>\n",
       "      <td>23428952</td>\n",
       "      <td>23431276</td>\n",
       "      <td>11946</td>\n",
       "      <td>2324</td>\n",
       "      <td>22738023</td>\n",
       "      <td>22733023</td>\n",
       "      <td>22743022</td>\n",
       "      <td>23430114</td>\n",
       "      <td>23425114</td>\n",
       "      <td>23435113</td>\n",
       "    </tr>\n",
       "    <tr>\n",
       "      <th>215685</th>\n",
       "      <td>chrY,22732050,22743996</td>\n",
       "      <td>chrY,23431277,23434441</td>\n",
       "      <td>14</td>\n",
       "      <td>5.51</td>\n",
       "      <td>KDM5DP1,EIF1AY</td>\n",
       "      <td>-,+</td>\n",
       "      <td>NaN</td>\n",
       "      <td>NaN</td>\n",
       "      <td>KDM5DP1,EIF1AY</td>\n",
       "      <td>-,+</td>\n",
       "      <td>...</td>\n",
       "      <td>23431277</td>\n",
       "      <td>23434441</td>\n",
       "      <td>11946</td>\n",
       "      <td>3164</td>\n",
       "      <td>22738023</td>\n",
       "      <td>22733023</td>\n",
       "      <td>22743022</td>\n",
       "      <td>23432859</td>\n",
       "      <td>23427859</td>\n",
       "      <td>23437858</td>\n",
       "    </tr>\n",
       "    <tr>\n",
       "      <th>215686</th>\n",
       "      <td>chrY,23612925,23614989</td>\n",
       "      <td>chrY,22732050,22743996</td>\n",
       "      <td>5</td>\n",
       "      <td>5.05</td>\n",
       "      <td>NaN</td>\n",
       "      <td>NaN</td>\n",
       "      <td>KDM5DP1,EIF1AY</td>\n",
       "      <td>-,+</td>\n",
       "      <td>RBMY2TP</td>\n",
       "      <td>-</td>\n",
       "      <td>...</td>\n",
       "      <td>22732050</td>\n",
       "      <td>22743996</td>\n",
       "      <td>2064</td>\n",
       "      <td>11946</td>\n",
       "      <td>23613957</td>\n",
       "      <td>23608957</td>\n",
       "      <td>23618956</td>\n",
       "      <td>22738023</td>\n",
       "      <td>22733023</td>\n",
       "      <td>22743022</td>\n",
       "    </tr>\n",
       "  </tbody>\n",
       "</table>\n",
       "<p>215687 rows × 26 columns</p>\n",
       "</div>"
      ],
      "text/plain": [
       "                     bait_frag              other_frag  N_reads  score  \\\n",
       "0           chr1,831895,848168      chr1,850619,874081      192  12.48   \n",
       "1           chr1,831895,848168    chr1,1206874,1212438       11   5.73   \n",
       "2           chr1,927395,936954    chr1,1206874,1212438       23   5.57   \n",
       "3           chr1,943677,957199    chr1,1206874,1212438       20   6.04   \n",
       "4         chr1,1005127,1034268      chr1,903641,927394       26   8.61   \n",
       "...                        ...                     ...      ...    ...   \n",
       "215682  chrY,22732050,22743996  chrY,23423342,23424529       18   7.24   \n",
       "215683  chrY,22732050,22743996  chrY,23424530,23428951       15   6.34   \n",
       "215684  chrY,22732050,22743996  chrY,23428952,23431276       18   7.58   \n",
       "215685  chrY,22732050,22743996  chrY,23431277,23434441       14   5.51   \n",
       "215686  chrY,23612925,23614989  chrY,22732050,22743996        5   5.05   \n",
       "\n",
       "                       bait_gene bait_gene_strand  \\\n",
       "0       RP11-54O7.16,RP11-54O7.1                +   \n",
       "1       RP11-54O7.16,RP11-54O7.1                +   \n",
       "2        RP11-54O7.17,HES4,ISG15              -,+   \n",
       "3        ISG15,RP11-54O7.11,AGRN              +,-   \n",
       "4                RNF223,C1orf159                -   \n",
       "...                          ...              ...   \n",
       "215682            KDM5DP1,EIF1AY              -,+   \n",
       "215683            KDM5DP1,EIF1AY              -,+   \n",
       "215684            KDM5DP1,EIF1AY              -,+   \n",
       "215685            KDM5DP1,EIF1AY              -,+   \n",
       "215686                       NaN              NaN   \n",
       "\n",
       "                                           oe_gene oe_gene_strand  \\\n",
       "0       RP11-54O7.16,RP11-54O7.3,AL645608.1,SAMD11            +,-   \n",
       "1                                 UBE2J2,LINC01786            -,+   \n",
       "2                                 UBE2J2,LINC01786            -,+   \n",
       "3                                 UBE2J2,LINC01786            -,+   \n",
       "4                                    PLEKHN1,PERM1            +,-   \n",
       "...                                            ...            ...   \n",
       "215682                                         NaN            NaN   \n",
       "215683                                         NaN            NaN   \n",
       "215684                                         NaN            NaN   \n",
       "215685                                         NaN            NaN   \n",
       "215686                              KDM5DP1,EIF1AY            -,+   \n",
       "\n",
       "               bait_closest_gene bait_closest_gene_strand  ...  \\\n",
       "0       RP11-54O7.16,RP11-54O7.1                        +  ...   \n",
       "1       RP11-54O7.16,RP11-54O7.1                        +  ...   \n",
       "2        RP11-54O7.17,HES4,ISG15                      -,+  ...   \n",
       "3        RP11-54O7.11,ISG15,AGRN                      -,+  ...   \n",
       "4                RNF223,C1orf159                        -  ...   \n",
       "...                          ...                      ...  ...   \n",
       "215682            KDM5DP1,EIF1AY                      -,+  ...   \n",
       "215683            KDM5DP1,EIF1AY                      -,+  ...   \n",
       "215684            KDM5DP1,EIF1AY                      -,+  ...   \n",
       "215685            KDM5DP1,EIF1AY                      -,+  ...   \n",
       "215686                   RBMY2TP                        -  ...   \n",
       "\n",
       "       other_frag_start other_frag_end bait_size other_size  \\\n",
       "0                850619         874081     16273      23462   \n",
       "1               1206874        1212438     16273       5564   \n",
       "2               1206874        1212438      9559       5564   \n",
       "3               1206874        1212438     13522       5564   \n",
       "4                903641         927394     29141      23753   \n",
       "...                 ...            ...       ...        ...   \n",
       "215682         23423342       23424529     11946       1187   \n",
       "215683         23424530       23428951     11946       4421   \n",
       "215684         23428952       23431276     11946       2324   \n",
       "215685         23431277       23434441     11946       3164   \n",
       "215686         22732050       22743996      2064      11946   \n",
       "\n",
       "       bait_frag_midpoint bait_frag_standard_size_start  \\\n",
       "0                  840031                        835031   \n",
       "1                  840031                        835031   \n",
       "2                  932174                        927174   \n",
       "3                  950438                        945438   \n",
       "4                 1019697                       1014697   \n",
       "...                   ...                           ...   \n",
       "215682           22738023                      22733023   \n",
       "215683           22738023                      22733023   \n",
       "215684           22738023                      22733023   \n",
       "215685           22738023                      22733023   \n",
       "215686           23613957                      23608957   \n",
       "\n",
       "       bait_frag_standard_size_end other_frag_midpoint  \\\n",
       "0                           845030              862350   \n",
       "1                           845030             1209656   \n",
       "2                           937173             1209656   \n",
       "3                           955437             1209656   \n",
       "4                          1024696              915517   \n",
       "...                            ...                 ...   \n",
       "215682                    22743022            23423935   \n",
       "215683                    22743022            23426740   \n",
       "215684                    22743022            23430114   \n",
       "215685                    22743022            23432859   \n",
       "215686                    23618956            22738023   \n",
       "\n",
       "        other_frag_standard_size_start  other_frag_standard_size_end  \n",
       "0                               857350                        867349  \n",
       "1                              1204656                       1214655  \n",
       "2                              1204656                       1214655  \n",
       "3                              1204656                       1214655  \n",
       "4                               910517                        920516  \n",
       "...                                ...                           ...  \n",
       "215682                        23418935                      23428934  \n",
       "215683                        23421740                      23431739  \n",
       "215684                        23425114                      23435113  \n",
       "215685                        23427859                      23437858  \n",
       "215686                        22733023                      22743022  \n",
       "\n",
       "[215687 rows x 26 columns]"
      ]
     },
     "execution_count": 4,
     "metadata": {},
     "output_type": "execute_result"
    }
   ],
   "source": [
    "expand_enrich_pchic(data)"
   ]
  },
  {
   "cell_type": "code",
   "execution_count": 5,
   "id": "ae0c96f2-e6d4-4bd1-b152-7e598e32373b",
   "metadata": {},
   "outputs": [
    {
     "name": "stderr",
     "output_type": "stream",
     "text": [
      "\u001b[32m11:43:11\u001b[0m \u001b[1m|\u001b[0m \u001b[34mINFO\u001b[0m \u001b[1m|\u001b[0m Downloading assembly summaries from UCSC\n"
     ]
    },
    {
     "data": {
      "text/plain": [
       "Fasta(\"/home/kacper/.local/share/genomes/hg19/hg19.fa\")"
      ]
     },
     "execution_count": 5,
     "metadata": {},
     "output_type": "execute_result"
    }
   ],
   "source": [
    "genomepy.install_genome(\"hg19\")"
   ]
  },
  {
   "cell_type": "code",
   "execution_count": 6,
   "id": "4b3ca2ac-ab1e-472f-906b-664ad68f307d",
   "metadata": {},
   "outputs": [],
   "source": [
    "hg = genomepy.Genome(\"hg19\")"
   ]
  },
  {
   "cell_type": "code",
   "execution_count": 7,
   "id": "4177732b-1506-49fb-afa9-235fa879a381",
   "metadata": {},
   "outputs": [],
   "source": [
    "def fasta_to_ohe_mapping(ascii_dna):\n",
    "        if ascii_dna == 65:  # A\n",
    "            return 1\n",
    "        if ascii_dna == 67:  # C\n",
    "            return 2\n",
    "        if ascii_dna == 71:  # G\n",
    "            return 3\n",
    "        if ascii_dna == 84:  # T\n",
    "            return 4\n",
    "        if ascii_dna == 97:  # a\n",
    "            return 1\n",
    "        if ascii_dna == 99:  # c\n",
    "            return 2687\n",
    "        if ascii_dna == 103: # g\n",
    "            return 3\n",
    "        if ascii_dna == 116: # t\n",
    "            return 4\n",
    "        return 0 # Nn, anything else\n",
    "\n",
    "def from_loc_to_ohe(chr, start, end):\n",
    "    sequence = hg.get_seq(chr, start, end)\n",
    "    buffer = torch.frombuffer(sequence.seq.encode(), dtype=torch.uint8)\n",
    "    buffer = buffer.apply_(fasta_to_ohe_mapping)\n",
    "    atcg_mask = buffer != 0 # 1 if actg, 0 otherwise\n",
    "    buffer -= atcg_mask * 1 # offset indexing for atcg so it starts at 0 instead of 1\n",
    "                            # this is needed to have the \"others\" be a 0000 row in OHE\n",
    "    return (\n",
    "        F.one_hot(buffer.long(), num_classes=4).T * atcg_mask # OHE and mask others\n",
    "    )"
   ]
  },
  {
   "cell_type": "code",
   "execution_count": 8,
   "id": "1e726331-dde5-44ac-b2b7-94567750619e",
   "metadata": {},
   "outputs": [],
   "source": [
    "df_counterfactuals = expand_enrich_pchic(pd.read_csv(\"data/intermediates/counterfactuals.csv\"))"
   ]
  },
  {
   "cell_type": "code",
   "execution_count": 9,
   "id": "a9a51ddf-298b-436b-83a3-82d842e2e32b",
   "metadata": {},
   "outputs": [],
   "source": [
    "data[\"factual\"] = 1\n",
    "df_counterfactuals[\"factual\"] = 0"
   ]
  },
  {
   "cell_type": "code",
   "execution_count": 10,
   "id": "a83f4577-d6a9-4569-a696-dc29c25d177a",
   "metadata": {},
   "outputs": [],
   "source": [
    "combined = pd.concat((\n",
    "    data[[\n",
    "        \"bait_frag_chr\",\n",
    "        \"bait_frag_standard_size_start\", \n",
    "        \"bait_frag_standard_size_end\", \n",
    "        \"other_frag_chr\",\n",
    "        \"other_frag_standard_size_start\", \n",
    "        \"other_frag_standard_size_end\", \n",
    "        \"factual\"\n",
    "    ]],\n",
    "    df_counterfactuals[[\n",
    "        \"bait_frag_chr\",\n",
    "        \"bait_frag_standard_size_start\", \n",
    "        \"bait_frag_standard_size_end\", \n",
    "        \"other_frag_chr\",\n",
    "        \"other_frag_standard_size_start\", \n",
    "        \"other_frag_standard_size_end\", \n",
    "        \"factual\"\n",
    "    ]],\n",
    "))"
   ]
  },
  {
   "cell_type": "code",
   "execution_count": 11,
   "id": "9a0f58fe-d9d5-43a0-a1e0-eccd264bf314",
   "metadata": {},
   "outputs": [],
   "source": [
    "data_train = combined.sample(frac=0.75)\n",
    "data_test = combined.drop(data_train.index)\n",
    "data_train = data_train.reset_index()\n",
    "data_test = data_test.reset_index()"
   ]
  },
  {
   "cell_type": "code",
   "execution_count": 12,
   "id": "3a457b2b-d55d-42ac-bcaf-842e6d9138bf",
   "metadata": {},
   "outputs": [],
   "source": [
    "# n=1000\n",
    "# chunks = [data_train[i:i+n] for i in range(0,data_train.shape[0],n)]\n",
    "# for j, chunk in enumerate(chunks):\n",
    "#     chunk_ohe = []\n",
    "#     for i, row in chunk.iterrows():\n",
    "#         ohe = from_loc_to_ohe(row[\"bait_frag_chr\"], row[\"bait_frag_standard_size_start\"], row[\"bait_frag_standard_size_end\"])\n",
    "#         chunk_ohe.append(ohe)\n",
    "#         assert ohe.shape[1] == 10001\n",
    "#         print(f\"Chunk {j:>4} - Row {i:>4}\", end=\"\\r\")\n",
    "#     torch.save(torch.stack(chunk_ohe), f\"data/intermediates/ohe/train_chunk_{j}.pt\")\n",
    "#     torch.save(torch.from_numpy(chunk[\"factual\"].values), f\"data/intermediates/ohe/train_labels_chunk_{j}.pt\")"
   ]
  },
  {
   "cell_type": "code",
   "execution_count": 13,
   "id": "108121e1-93ea-4ba2-ae63-bb84a0f8bd90",
   "metadata": {},
   "outputs": [],
   "source": [
    "class PoCNet(torch.nn.Module):\n",
    "    def __init__(self):\n",
    "        super(PoCNet, self).__init__()\n",
    "        self.conv_bait = torch.nn.Sequential(\n",
    "            torch.nn.Conv1d(4, 64, 3, padding=1),\n",
    "            torch.nn.BatchNorm1d(64), \n",
    "            torch.nn.ReLU(inplace=True),\n",
    "            torch.nn.MaxPool1d(4),\n",
    "            torch.nn.Conv1d(64, 128, 3, padding=1),\n",
    "            torch.nn.BatchNorm1d(128), \n",
    "            torch.nn.ReLU(inplace=True),\n",
    "            torch.nn.MaxPool1d(10),\n",
    "            torch.nn.Conv1d(128, 256, 3, padding=1),\n",
    "            torch.nn.BatchNorm1d(256), \n",
    "            torch.nn.ReLU(inplace=True),\n",
    "            torch.nn.MaxPool1d(10)\n",
    "        )\n",
    "\n",
    "        self.conv_other = torch.nn.Sequential(\n",
    "            torch.nn.Conv1d(4, 64, 3, padding=1),\n",
    "            torch.nn.BatchNorm1d(64), \n",
    "            torch.nn.ReLU(inplace=True),\n",
    "            torch.nn.MaxPool1d(4),\n",
    "            torch.nn.Conv1d(64, 128, 3, padding=1),\n",
    "            torch.nn.BatchNorm1d(128), \n",
    "            torch.nn.ReLU(inplace=True),\n",
    "            torch.nn.MaxPool1d(10),\n",
    "            torch.nn.Conv1d(128, 256, 3, padding=1),\n",
    "            torch.nn.BatchNorm1d(256), \n",
    "            torch.nn.ReLU(inplace=True),\n",
    "            torch.nn.MaxPool1d(10)\n",
    "        )\n",
    "        \n",
    "        self.fc1 = torch.nn.Linear(2 * int(10_000/4/4/25) * 256, 4096)\n",
    "        self.fc2 = torch.nn.Linear(4096, 4096)\n",
    "        self.fc3 = torch.nn.Linear(4096, 1)\n",
    "\n",
    "    def forward(self, x_1, x_2):\n",
    "        x_1 = self.conv_bait(x_1)\n",
    "        x_1 = torch.flatten(x_1, start_dim=1)\n",
    "\n",
    "        x_2 = self.conv_other(x_2)\n",
    "        x_2 = torch.flatten(x_2, start_dim=1)\n",
    "\n",
    "        x = torch.concat((x_1, x_2), dim=1)\n",
    "        x = self.fc1(x)\n",
    "        x = F.relu(x)\n",
    "        x = self.fc2(x)\n",
    "        x = F.relu(x)\n",
    "        x = self.fc3(x)\n",
    "        # x = F.sigmoid(x)\n",
    "        return x"
   ]
  },
  {
   "cell_type": "code",
   "execution_count": 12,
   "id": "a86a756a-f6cc-451b-bf63-f261411e66ca",
   "metadata": {},
   "outputs": [],
   "source": [
    "def make_conv_block():\n",
    "    return torch.nn.Sequential(\n",
    "        torch.nn.Conv1d(96, 96, 5, padding=2),\n",
    "        torch.nn.BatchNorm1d(96),\n",
    "        torch.nn.ReLU(inplace=True),\n",
    "        torch.nn.MaxPool1d(2)\n",
    "    )"
   ]
  },
  {
   "cell_type": "code",
   "execution_count": 13,
   "id": "4849c28d-d745-4763-8795-b6859d65a528",
   "metadata": {},
   "outputs": [],
   "source": [
    "def make_conv_stack():\n",
    "    return torch.nn.Sequential(\n",
    "        torch.nn.Sequential(\n",
    "            torch.nn.Conv1d(4, 96, 11, padding=5),\n",
    "            torch.nn.BatchNorm1d(96),\n",
    "            torch.nn.ReLU(inplace=True),\n",
    "            torch.nn.MaxPool1d(2)\n",
    "        ),\n",
    "        *[make_conv_block() for _ in range(4)]\n",
    "    )"
   ]
  },
  {
   "cell_type": "code",
   "execution_count": 14,
   "id": "ee43d7ca-e646-4396-9e39-ca75ef0ea7f7",
   "metadata": {},
   "outputs": [],
   "source": [
    "class DilatedResidualConvolution(torch.nn.Module):\n",
    "    def __init__(self, dilation, dropout_rate=0.25):\n",
    "        super(DilatedResidualConvolution, self).__init__()\n",
    "        self.dilate_block = torch.nn.Sequential(\n",
    "            torch.nn.Conv1d(96, 48, 3, padding=dilation, dilation=dilation),\n",
    "            torch.nn.BatchNorm1d(48),\n",
    "            torch.nn.ReLU(inplace=True),\n",
    "        )\n",
    "        self.return_block = torch.nn.Sequential(\n",
    "            torch.nn.Conv1d(48, 96, 3, padding=dilation, dilation=dilation),\n",
    "            torch.nn.BatchNorm1d(96),\n",
    "            torch.nn.Dropout(dropout_rate)\n",
    "        )\n",
    "        self.relu = torch.nn.ReLU(inplace=True)\n",
    "\n",
    "    def forward(self, x):\n",
    "        identity = x \n",
    "        x = self.dilate_block(x)\n",
    "        x = self.return_block(x)\n",
    "        x += identity\n",
    "        x = self.relu(x)\n",
    "        return x\n"
   ]
  },
  {
   "cell_type": "code",
   "execution_count": 15,
   "id": "575cdf24-5784-429a-a809-4c740a96951e",
   "metadata": {},
   "outputs": [],
   "source": [
    "def make_dilation_stack():\n",
    "    return torch.nn.Sequential(\n",
    "        *[DilatedResidualConvolution(2**i) for i in range(1, 5)]\n",
    "    )"
   ]
  },
  {
   "cell_type": "code",
   "execution_count": 16,
   "id": "dc18bdca-077a-457e-8fe6-d066f057635f",
   "metadata": {},
   "outputs": [],
   "source": [
    "class PoCNetAkitalike(torch.nn.Module):\n",
    "    def __init__(self):\n",
    "        super(PoCNetAkitalike, self).__init__()\n",
    "        self.bait_block = torch.nn.Sequential(\n",
    "            make_conv_stack(),\n",
    "            make_dilation_stack()\n",
    "        )\n",
    "        self.other_block = torch.nn.Sequential(\n",
    "            make_conv_stack(),\n",
    "            make_dilation_stack()\n",
    "        )\n",
    "        \n",
    "        self.fc1 = torch.nn.Linear(2 * 96 * 312, 4096)\n",
    "        self.fc2 = torch.nn.Linear(4096, 4096)\n",
    "        self.fc3 = torch.nn.Linear(4096, 1)\n",
    "\n",
    "    def forward(self, x_1, x_2):\n",
    "        x_1 = self.bait_block(x_1)\n",
    "        x_1 = torch.flatten(x_1, start_dim=1)\n",
    "\n",
    "        x_2 = self.other_block(x_2)\n",
    "        x_2 = torch.flatten(x_2, start_dim=1)\n",
    "\n",
    "        x = torch.concat((x_1, x_2), dim=1)\n",
    "        x = self.fc1(x)\n",
    "        x = F.relu(x)\n",
    "        x = self.fc2(x)\n",
    "        x = F.relu(x)\n",
    "        x = self.fc3(x)\n",
    "        # x = F.sigmoid(x)\n",
    "        return x"
   ]
  },
  {
   "cell_type": "code",
   "execution_count": 17,
   "id": "1a1f8f03-4867-4e37-8d04-8043cc61465d",
   "metadata": {},
   "outputs": [],
   "source": [
    "model = PoCNetAkitalike().cuda()"
   ]
  },
  {
   "cell_type": "code",
   "execution_count": 18,
   "id": "69bd7b16-ab2d-400e-9146-e29668b32381",
   "metadata": {},
   "outputs": [],
   "source": [
    "loss_function = torch.nn.BCEWithLogitsLoss()\n",
    "optimizer = torch.optim.Adam(model.parameters(), lr=1e-7)"
   ]
  },
  {
   "cell_type": "code",
   "execution_count": 19,
   "id": "9674b1a1-d463-4bcb-9355-9d1b5b050144",
   "metadata": {},
   "outputs": [],
   "source": [
    "def chunk_df(df, n):\n",
    "    return [df[i:i+n] for i in range(0,df.shape[0],n)]\n",
    "\n",
    "def from_loc_to_ohe_batch(df, prefix: [\"bait\", \"other\"]):\n",
    "    return torch.stack([\n",
    "        from_loc_to_ohe(row[f\"{prefix}_frag_chr\"], row[f\"{prefix}_frag_standard_size_start\"], row[f\"{prefix}_frag_standard_size_end\"])\n",
    "        for _, row in df.iterrows()\n",
    "    ])"
   ]
  },
  {
   "cell_type": "code",
   "execution_count": 20,
   "id": "508c4607-3de4-4494-86f4-cef6a2f37fae",
   "metadata": {},
   "outputs": [],
   "source": [
    "torch.cuda.empty_cache()"
   ]
  },
  {
   "cell_type": "code",
   "execution_count": 68,
   "id": "95b5e234-ee50-4cde-a2aa-4b39dcd099de",
   "metadata": {},
   "outputs": [
    {
     "data": {
      "application/vnd.jupyter.widget-view+json": {
       "model_id": "47ea7f9cdf95442aa6b9a4d005708f75",
       "version_major": 2,
       "version_minor": 0
      },
      "text/plain": [
       "  0%|          | 0/5265 [00:00<?, ?it/s]"
      ]
     },
     "metadata": {},
     "output_type": "display_data"
    },
    {
     "name": "stdout",
     "output_type": "stream",
     "text": [
      "Loss:  0.47859 Accuracy 0.75000 Ones% 1.00000\n"
     ]
    },
    {
     "data": {
      "application/vnd.jupyter.widget-view+json": {
       "model_id": "acc5788da5424d8c94d7ce95e6b8e2d4",
       "version_major": 2,
       "version_minor": 0
      },
      "text/plain": [
       "  0%|          | 0/370 [00:00<?, ?it/s]"
      ]
     },
     "metadata": {},
     "output_type": "display_data"
    },
    {
     "name": "stdout",
     "output_type": "stream",
     "text": [
      " 0.80326\n"
     ]
    },
    {
     "data": {
      "application/vnd.jupyter.widget-view+json": {
       "model_id": "9d341d1a3ddf4bcd8dc59bb9122e18b7",
       "version_major": 2,
       "version_minor": 0
      },
      "text/plain": [
       "  0%|          | 0/5265 [00:00<?, ?it/s]"
      ]
     },
     "metadata": {},
     "output_type": "display_data"
    },
    {
     "name": "stdout",
     "output_type": "stream",
     "text": [
      "Loss:  0.24015 Accuracy 1.00000 Ones% 0.75000\n"
     ]
    },
    {
     "data": {
      "application/vnd.jupyter.widget-view+json": {
       "model_id": "e222ab2ca3d049568b254189fdc1edb4",
       "version_major": 2,
       "version_minor": 0
      },
      "text/plain": [
       "  0%|          | 0/370 [00:00<?, ?it/s]"
      ]
     },
     "metadata": {},
     "output_type": "display_data"
    },
    {
     "name": "stdout",
     "output_type": "stream",
     "text": [
      " 0.78747\n"
     ]
    },
    {
     "data": {
      "application/vnd.jupyter.widget-view+json": {
       "model_id": "fc58ac8cbdfa4132a9a400754fcd1205",
       "version_major": 2,
       "version_minor": 0
      },
      "text/plain": [
       "  0%|          | 0/5265 [00:00<?, ?it/s]"
      ]
     },
     "metadata": {},
     "output_type": "display_data"
    },
    {
     "name": "stdout",
     "output_type": "stream",
     "text": [
      "Loss:  0.72203 Accuracy 0.50000 Ones% 0.75000\n"
     ]
    },
    {
     "data": {
      "application/vnd.jupyter.widget-view+json": {
       "model_id": "65d3b39b67ea4b46921b7ba2514fe073",
       "version_major": 2,
       "version_minor": 0
      },
      "text/plain": [
       "  0%|          | 0/370 [00:00<?, ?it/s]"
      ]
     },
     "metadata": {},
     "output_type": "display_data"
    },
    {
     "name": "stdout",
     "output_type": "stream",
     "text": [
      " 0.78443\n"
     ]
    },
    {
     "data": {
      "application/vnd.jupyter.widget-view+json": {
       "model_id": "61c570820e1542acaee3f5248538a62d",
       "version_major": 2,
       "version_minor": 0
      },
      "text/plain": [
       "  0%|          | 0/5265 [00:00<?, ?it/s]"
      ]
     },
     "metadata": {},
     "output_type": "display_data"
    },
    {
     "name": "stdout",
     "output_type": "stream",
     "text": [
      "Loss:  0.43296 Accuracy 0.75000 Ones% 1.00000\n"
     ]
    },
    {
     "data": {
      "application/vnd.jupyter.widget-view+json": {
       "model_id": "665b0783f28545beae65b2704bf212a4",
       "version_major": 2,
       "version_minor": 0
      },
      "text/plain": [
       "  0%|          | 0/370 [00:00<?, ?it/s]"
      ]
     },
     "metadata": {},
     "output_type": "display_data"
    },
    {
     "name": "stdout",
     "output_type": "stream",
     "text": [
      " 0.79275\n"
     ]
    },
    {
     "data": {
      "application/vnd.jupyter.widget-view+json": {
       "model_id": "839aff4ffad4495c8d55ddbec9d76095",
       "version_major": 2,
       "version_minor": 0
      },
      "text/plain": [
       "  0%|          | 0/5265 [00:00<?, ?it/s]"
      ]
     },
     "metadata": {},
     "output_type": "display_data"
    },
    {
     "name": "stdout",
     "output_type": "stream",
     "text": [
      "Loss:  0.44896 Accuracy 0.78000 Ones% 0.72000\r"
     ]
    },
    {
     "ename": "KeyboardInterrupt",
     "evalue": "",
     "output_type": "error",
     "traceback": [
      "\u001b[0;31m---------------------------------------------------------------------------\u001b[0m",
      "\u001b[0;31mKeyboardInterrupt\u001b[0m                         Traceback (most recent call last)",
      "Cell \u001b[0;32mIn[68], line 10\u001b[0m\n\u001b[1;32m      7\u001b[0m optimizer\u001b[38;5;241m.\u001b[39mzero_grad()\n\u001b[1;32m      9\u001b[0m bait_ohe \u001b[38;5;241m=\u001b[39m from_loc_to_ohe_batch(batch, \u001b[38;5;124m\"\u001b[39m\u001b[38;5;124mbait\u001b[39m\u001b[38;5;124m\"\u001b[39m)\n\u001b[0;32m---> 10\u001b[0m other_ohe \u001b[38;5;241m=\u001b[39m \u001b[43mfrom_loc_to_ohe_batch\u001b[49m\u001b[43m(\u001b[49m\u001b[43mbatch\u001b[49m\u001b[43m,\u001b[49m\u001b[43m \u001b[49m\u001b[38;5;124;43m\"\u001b[39;49m\u001b[38;5;124;43mother\u001b[39;49m\u001b[38;5;124;43m\"\u001b[39;49m\u001b[43m)\u001b[49m\n\u001b[1;32m     11\u001b[0m yhat \u001b[38;5;241m=\u001b[39m model\u001b[38;5;241m.\u001b[39mforward(bait_ohe\u001b[38;5;241m.\u001b[39mfloat()\u001b[38;5;241m.\u001b[39mcuda(), other_ohe\u001b[38;5;241m.\u001b[39mfloat()\u001b[38;5;241m.\u001b[39mcuda())\n\u001b[1;32m     12\u001b[0m yhat \u001b[38;5;241m=\u001b[39m yhat\u001b[38;5;241m.\u001b[39mcpu()\u001b[38;5;241m.\u001b[39mflatten()\n",
      "Cell \u001b[0;32mIn[19], line 5\u001b[0m, in \u001b[0;36mfrom_loc_to_ohe_batch\u001b[0;34m(df, prefix)\u001b[0m\n\u001b[1;32m      4\u001b[0m \u001b[38;5;28;01mdef\u001b[39;00m \u001b[38;5;21mfrom_loc_to_ohe_batch\u001b[39m(df, prefix: [\u001b[38;5;124m\"\u001b[39m\u001b[38;5;124mbait\u001b[39m\u001b[38;5;124m\"\u001b[39m, \u001b[38;5;124m\"\u001b[39m\u001b[38;5;124mother\u001b[39m\u001b[38;5;124m\"\u001b[39m]):\n\u001b[0;32m----> 5\u001b[0m     \u001b[38;5;28;01mreturn\u001b[39;00m torch\u001b[38;5;241m.\u001b[39mstack(\u001b[43m[\u001b[49m\n\u001b[1;32m      6\u001b[0m \u001b[43m        \u001b[49m\u001b[43mfrom_loc_to_ohe\u001b[49m\u001b[43m(\u001b[49m\u001b[43mrow\u001b[49m\u001b[43m[\u001b[49m\u001b[38;5;124;43mf\u001b[39;49m\u001b[38;5;124;43m\"\u001b[39;49m\u001b[38;5;132;43;01m{\u001b[39;49;00m\u001b[43mprefix\u001b[49m\u001b[38;5;132;43;01m}\u001b[39;49;00m\u001b[38;5;124;43m_frag_chr\u001b[39;49m\u001b[38;5;124;43m\"\u001b[39;49m\u001b[43m]\u001b[49m\u001b[43m,\u001b[49m\u001b[43m \u001b[49m\u001b[43mrow\u001b[49m\u001b[43m[\u001b[49m\u001b[38;5;124;43mf\u001b[39;49m\u001b[38;5;124;43m\"\u001b[39;49m\u001b[38;5;132;43;01m{\u001b[39;49;00m\u001b[43mprefix\u001b[49m\u001b[38;5;132;43;01m}\u001b[39;49;00m\u001b[38;5;124;43m_frag_standard_size_start\u001b[39;49m\u001b[38;5;124;43m\"\u001b[39;49m\u001b[43m]\u001b[49m\u001b[43m,\u001b[49m\u001b[43m \u001b[49m\u001b[43mrow\u001b[49m\u001b[43m[\u001b[49m\u001b[38;5;124;43mf\u001b[39;49m\u001b[38;5;124;43m\"\u001b[39;49m\u001b[38;5;132;43;01m{\u001b[39;49;00m\u001b[43mprefix\u001b[49m\u001b[38;5;132;43;01m}\u001b[39;49;00m\u001b[38;5;124;43m_frag_standard_size_end\u001b[39;49m\u001b[38;5;124;43m\"\u001b[39;49m\u001b[43m]\u001b[49m\u001b[43m)\u001b[49m\n\u001b[1;32m      7\u001b[0m \u001b[43m        \u001b[49m\u001b[38;5;28;43;01mfor\u001b[39;49;00m\u001b[43m \u001b[49m\u001b[43m_\u001b[49m\u001b[43m,\u001b[49m\u001b[43m \u001b[49m\u001b[43mrow\u001b[49m\u001b[43m \u001b[49m\u001b[38;5;129;43;01min\u001b[39;49;00m\u001b[43m \u001b[49m\u001b[43mdf\u001b[49m\u001b[38;5;241;43m.\u001b[39;49m\u001b[43miterrows\u001b[49m\u001b[43m(\u001b[49m\u001b[43m)\u001b[49m\n\u001b[1;32m      8\u001b[0m \u001b[43m    \u001b[49m\u001b[43m]\u001b[49m)\n",
      "Cell \u001b[0;32mIn[19], line 6\u001b[0m, in \u001b[0;36m<listcomp>\u001b[0;34m(.0)\u001b[0m\n\u001b[1;32m      4\u001b[0m \u001b[38;5;28;01mdef\u001b[39;00m \u001b[38;5;21mfrom_loc_to_ohe_batch\u001b[39m(df, prefix: [\u001b[38;5;124m\"\u001b[39m\u001b[38;5;124mbait\u001b[39m\u001b[38;5;124m\"\u001b[39m, \u001b[38;5;124m\"\u001b[39m\u001b[38;5;124mother\u001b[39m\u001b[38;5;124m\"\u001b[39m]):\n\u001b[1;32m      5\u001b[0m     \u001b[38;5;28;01mreturn\u001b[39;00m torch\u001b[38;5;241m.\u001b[39mstack([\n\u001b[0;32m----> 6\u001b[0m         \u001b[43mfrom_loc_to_ohe\u001b[49m\u001b[43m(\u001b[49m\u001b[43mrow\u001b[49m\u001b[43m[\u001b[49m\u001b[38;5;124;43mf\u001b[39;49m\u001b[38;5;124;43m\"\u001b[39;49m\u001b[38;5;132;43;01m{\u001b[39;49;00m\u001b[43mprefix\u001b[49m\u001b[38;5;132;43;01m}\u001b[39;49;00m\u001b[38;5;124;43m_frag_chr\u001b[39;49m\u001b[38;5;124;43m\"\u001b[39;49m\u001b[43m]\u001b[49m\u001b[43m,\u001b[49m\u001b[43m \u001b[49m\u001b[43mrow\u001b[49m\u001b[43m[\u001b[49m\u001b[38;5;124;43mf\u001b[39;49m\u001b[38;5;124;43m\"\u001b[39;49m\u001b[38;5;132;43;01m{\u001b[39;49;00m\u001b[43mprefix\u001b[49m\u001b[38;5;132;43;01m}\u001b[39;49;00m\u001b[38;5;124;43m_frag_standard_size_start\u001b[39;49m\u001b[38;5;124;43m\"\u001b[39;49m\u001b[43m]\u001b[49m\u001b[43m,\u001b[49m\u001b[43m \u001b[49m\u001b[43mrow\u001b[49m\u001b[43m[\u001b[49m\u001b[38;5;124;43mf\u001b[39;49m\u001b[38;5;124;43m\"\u001b[39;49m\u001b[38;5;132;43;01m{\u001b[39;49;00m\u001b[43mprefix\u001b[49m\u001b[38;5;132;43;01m}\u001b[39;49;00m\u001b[38;5;124;43m_frag_standard_size_end\u001b[39;49m\u001b[38;5;124;43m\"\u001b[39;49m\u001b[43m]\u001b[49m\u001b[43m)\u001b[49m\n\u001b[1;32m      7\u001b[0m         \u001b[38;5;28;01mfor\u001b[39;00m _, row \u001b[38;5;129;01min\u001b[39;00m df\u001b[38;5;241m.\u001b[39miterrows()\n\u001b[1;32m      8\u001b[0m     ])\n",
      "Cell \u001b[0;32mIn[7], line 23\u001b[0m, in \u001b[0;36mfrom_loc_to_ohe\u001b[0;34m(chr, start, end)\u001b[0m\n\u001b[1;32m     21\u001b[0m sequence \u001b[38;5;241m=\u001b[39m hg\u001b[38;5;241m.\u001b[39mget_seq(\u001b[38;5;28mchr\u001b[39m, start, end)\n\u001b[1;32m     22\u001b[0m buffer \u001b[38;5;241m=\u001b[39m torch\u001b[38;5;241m.\u001b[39mfrombuffer(sequence\u001b[38;5;241m.\u001b[39mseq\u001b[38;5;241m.\u001b[39mencode(), dtype\u001b[38;5;241m=\u001b[39mtorch\u001b[38;5;241m.\u001b[39muint8)\n\u001b[0;32m---> 23\u001b[0m buffer \u001b[38;5;241m=\u001b[39m \u001b[43mbuffer\u001b[49m\u001b[38;5;241;43m.\u001b[39;49m\u001b[43mapply_\u001b[49m\u001b[43m(\u001b[49m\u001b[43mfasta_to_ohe_mapping\u001b[49m\u001b[43m)\u001b[49m\n\u001b[1;32m     24\u001b[0m atcg_mask \u001b[38;5;241m=\u001b[39m buffer \u001b[38;5;241m!=\u001b[39m \u001b[38;5;241m0\u001b[39m \u001b[38;5;66;03m# 1 if actg, 0 otherwise\u001b[39;00m\n\u001b[1;32m     25\u001b[0m buffer \u001b[38;5;241m-\u001b[39m\u001b[38;5;241m=\u001b[39m atcg_mask \u001b[38;5;241m*\u001b[39m \u001b[38;5;241m1\u001b[39m \u001b[38;5;66;03m# offset indexing for atcg so it starts at 0 instead of 1\u001b[39;00m\n",
      "Cell \u001b[0;32mIn[7], line 1\u001b[0m, in \u001b[0;36mfasta_to_ohe_mapping\u001b[0;34m(ascii_dna)\u001b[0m\n\u001b[0;32m----> 1\u001b[0m \u001b[38;5;28;01mdef\u001b[39;00m \u001b[38;5;21mfasta_to_ohe_mapping\u001b[39m(ascii_dna):\n\u001b[1;32m      2\u001b[0m         \u001b[38;5;28;01mif\u001b[39;00m ascii_dna \u001b[38;5;241m==\u001b[39m \u001b[38;5;241m65\u001b[39m:  \u001b[38;5;66;03m# A\u001b[39;00m\n\u001b[1;32m      3\u001b[0m             \u001b[38;5;28;01mreturn\u001b[39;00m \u001b[38;5;241m1\u001b[39m\n",
      "\u001b[0;31mKeyboardInterrupt\u001b[0m: "
     ]
    }
   ],
   "source": [
    "model.train(True)\n",
    "from tqdm.notebook import tqdm\n",
    "\n",
    "for epoch in range(1, 200):\n",
    "    model.train(True)\n",
    "    for batch in tqdm(chunk_df(data_train.sample(frac=1.), 50)):\n",
    "        optimizer.zero_grad()\n",
    "        \n",
    "        bait_ohe = from_loc_to_ohe_batch(batch, \"bait\")\n",
    "        other_ohe = from_loc_to_ohe_batch(batch, \"other\")\n",
    "        yhat = model.forward(bait_ohe.float().cuda(), other_ohe.float().cuda())\n",
    "        yhat = yhat.cpu().flatten()\n",
    "        y = torch.from_numpy(batch[\"factual\"].values).float()\n",
    "        loss = loss_function(yhat, y)\n",
    "        loss.backward()\n",
    "        optimizer.step()\n",
    "        print(f\"Loss: {loss: .5f} Accuracy {sum((F.sigmoid(yhat) >= .5) == y)/len(y):.5f} Ones% {sum((F.sigmoid(yhat) >= .5) == 1)/len(y):.5f}\", end=\"\\r\")\n",
    "    print()\n",
    "    model.eval()\n",
    "    with torch.no_grad():\n",
    "        total_correct = 0\n",
    "        total_so_far = 0\n",
    "        for batch in tqdm(chunk_df(data_test.sample(frac=1.), 100)):        \n",
    "            bait_ohe = from_loc_to_ohe_batch(batch, \"bait\")\n",
    "            other_ohe = from_loc_to_ohe_batch(batch, \"other\")\n",
    "            yhat = model.forward(bait_ohe.float().cuda(), other_ohe.float().cuda())\n",
    "            yhat = yhat.cpu().flatten()\n",
    "            y = torch.from_numpy(batch[\"factual\"].values).float()\n",
    "            total_correct += sum((F.sigmoid(yhat) >= .5) == y)\n",
    "            total_so_far += len(y)\n",
    "        print(f\"{total_correct/total_so_far: .5f}\", end=\"\\r\")\n",
    "    print()"
   ]
  },
  {
   "cell_type": "code",
   "execution_count": 69,
   "id": "1fcd87d5-aa8b-453d-bb9b-a472066e3c64",
   "metadata": {},
   "outputs": [
    {
     "data": {
      "application/vnd.jupyter.widget-view+json": {
       "model_id": "524b635b9ad647bcacbaf20356204929",
       "version_major": 2,
       "version_minor": 0
      },
      "text/plain": [
       "  0%|          | 0/370 [00:00<?, ?it/s]"
      ]
     },
     "metadata": {},
     "output_type": "display_data"
    }
   ],
   "source": [
    "model.eval()\n",
    "yhat_list = []\n",
    "with torch.no_grad():\n",
    "        for batch in tqdm(chunk_df(data_test, 100)):        \n",
    "            bait_ohe = from_loc_to_ohe_batch(batch, \"bait\")\n",
    "            other_ohe = from_loc_to_ohe_batch(batch, \"other\")\n",
    "            yhat = model.forward(bait_ohe.float().cuda(), other_ohe.float().cuda())\n",
    "            yhat = yhat.cpu().flatten()\n",
    "            y = torch.from_numpy(batch[\"factual\"].values).float()\n",
    "            yhat_list.append(F.sigmoid(yhat))"
   ]
  },
  {
   "cell_type": "code",
   "execution_count": 70,
   "id": "10ad4115-5ef2-4cab-9615-37df9ceb692e",
   "metadata": {},
   "outputs": [
    {
     "data": {
      "text/plain": [
       "0.7849459452136451"
      ]
     },
     "execution_count": 70,
     "metadata": {},
     "output_type": "execute_result"
    }
   ],
   "source": [
    "np.mean(((torch.cat(yhat_list) >= .5) +0).numpy() == data_test[\"factual\"].values)"
   ]
  },
  {
   "cell_type": "code",
   "execution_count": 71,
   "id": "4bd2d9a3-2be9-4d79-9a12-49cd2c3c3d89",
   "metadata": {},
   "outputs": [],
   "source": [
    "from sklearn.metrics import roc_curve, roc_auc_score"
   ]
  },
  {
   "cell_type": "code",
   "execution_count": 72,
   "id": "5f6bfa47-8947-4d45-8dfe-f655aae03b80",
   "metadata": {},
   "outputs": [
    {
     "data": {
      "text/plain": [
       "0.8381025263325865"
      ]
     },
     "execution_count": 72,
     "metadata": {},
     "output_type": "execute_result"
    }
   ],
   "source": [
    "roc_auc_score(data_test[\"factual\"].values, torch.cat(yhat_list))"
   ]
  },
  {
   "cell_type": "code",
   "execution_count": 73,
   "id": "9d3c4dee-a7cf-4495-8121-f013645b8b2d",
   "metadata": {},
   "outputs": [],
   "source": [
    "fpr, tpr, thresholds = roc_curve(data_test[\"factual\"].values, torch.cat(yhat_list))"
   ]
  },
  {
   "cell_type": "code",
   "execution_count": 74,
   "id": "f1cd0003-0c48-4454-90e3-870bbf977be6",
   "metadata": {},
   "outputs": [],
   "source": [
    "import matplotlib.pyplot as plt"
   ]
  },
  {
   "cell_type": "code",
   "execution_count": 75,
   "id": "b845275a-5b00-4946-8843-a1ecddabd493",
   "metadata": {},
   "outputs": [
    {
     "data": {
      "text/plain": [
       "[<matplotlib.lines.Line2D at 0x7f056193f0d0>]"
      ]
     },
     "execution_count": 75,
     "metadata": {},
     "output_type": "execute_result"
    },
    {
     "data": {
      "image/png": "[encoded data removed]",
      "text/plain": [
       "<Figure size 640x480 with 1 Axes>"
      ]
     },
     "metadata": {},
     "output_type": "display_data"
    }
   ],
   "source": [
    "plt.plot(fpr, tpr)"
   ]
  },
  {
   "cell_type": "code",
   "execution_count": 76,
   "id": "435f98df-d37f-48cc-88d5-634b4c0ac009",
   "metadata": {},
   "outputs": [
    {
     "data": {
      "text/plain": [
       "array([[ 5772,  2647],\n",
       "       [ 5290, 23198]])"
      ]
     },
     "execution_count": 76,
     "metadata": {},
     "output_type": "execute_result"
    }
   ],
   "source": [
    "from sklearn.metrics import confusion_matrix\n",
    "confusion_matrix(\n",
    "    data_test[\"factual\"].values,\n",
    "    ((torch.cat(yhat_list) >= .5) +0).numpy()\n",
    ")"
   ]
  },
  {
   "cell_type": "code",
   "execution_count": 87,
   "id": "055d0ea6-96a9-463a-ae63-11b865407add",
   "metadata": {},
   "outputs": [],
   "source": [
    "torch.save(model, \"data/models/poc_akita\")"
   ]
  },
  {
   "cell_type": "code",
   "execution_count": 81,
   "id": "8b55c0ec-0b71-4a64-8686-3f8230630c84",
   "metadata": {},
   "outputs": [
    {
     "data": {
      "text/plain": [
       "28488"
      ]
     },
     "execution_count": 81,
     "metadata": {},
     "output_type": "execute_result"
    }
   ],
   "source": [
    "np.sum(data_test[\"factual\"])"
   ]
  },
  {
   "cell_type": "code",
   "execution_count": 83,
   "id": "bb75e13c-716e-4374-b52c-bdf73a3d8197",
   "metadata": {},
   "outputs": [],
   "source": [
    "from sklearn.metrics import ConfusionMatrixDisplay"
   ]
  },
  {
   "cell_type": "code",
   "execution_count": 85,
   "id": "715d8bee-70ab-4cbd-a389-93accec8ec7e",
   "metadata": {},
   "outputs": [
    {
     "data": {
      "text/plain": [
       "<sklearn.metrics._plot.confusion_matrix.ConfusionMatrixDisplay at 0x7f05623b94d0>"
      ]
     },
     "execution_count": 85,
     "metadata": {},
     "output_type": "execute_result"
    },
    {
     "data": {
      "image/png": "[encoded data removed]",
      "text/plain": [
       "<Figure size 640x480 with 2 Axes>"
      ]
     },
     "metadata": {},
     "output_type": "display_data"
    }
   ],
   "source": [
    "ConfusionMatrixDisplay.from_predictions(    data_test[\"factual\"].values,\n",
    "    ((torch.cat(yhat_list) >= .5) +0).numpy())"
   ]
  },
  {
   "cell_type": "code",
   "execution_count": null,
   "id": "5a2e7fcc-957f-4ae9-ba23-228a4a7b62bf",
   "metadata": {},
   "outputs": [],
   "source": []
  }
 ],
 "metadata": {
  "kernelspec": {
   "display_name": "Python 3 (ipykernel)",
   "language": "python",
   "name": "python3"
  },
  "language_info": {
   "codemirror_mode": {
    "name": "ipython",
    "version": 3
   },
   "file_extension": ".py",
   "mimetype": "text/x-python",
   "name": "python",
   "nbconvert_exporter": "python",
   "pygments_lexer": "ipython3",
   "version": "3.11.8"
  }
 },
 "nbformat": 4,
 "nbformat_minor": 5
}
