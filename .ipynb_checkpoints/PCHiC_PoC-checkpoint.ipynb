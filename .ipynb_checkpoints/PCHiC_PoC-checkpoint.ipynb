{
 "cells": [
  {
   "cell_type": "code",
   "execution_count": 1,
   "id": "f2f1c178-0553-4605-a767-d95d01b11335",
   "metadata": {},
   "outputs": [],
   "source": [
    "import os\n",
    "import genomepy\n",
    "import pandas as pd\n",
    "from torch.nn import functional as F\n",
    "import torch\n",
    "import numpy as np"
   ]
  },
  {
   "cell_type": "code",
   "execution_count": 2,
   "id": "fdc3e33a-227c-4cce-8c01-490fae9caf59",
   "metadata": {},
   "outputs": [],
   "source": [
    "data = pd.read_table(\"data/pchic/0071_Blood - Non-activated CD4+ Cells_merged_loop.txt\")"
   ]
  },
  {
   "cell_type": "code",
   "execution_count": 3,
   "id": "e18a8b7c-a56b-4dcc-a44d-8e1c8d4735bc",
   "metadata": {},
   "outputs": [],
   "source": [
    "standard_size = 5_000\n",
    "def expand_enrich_pchic(df):\n",
    "    df[[\"bait_frag_chr\", \"bait_frag_start\", \"bait_frag_end\"]] = df[\"bait_frag\"].str.split(\",\", expand=True)\n",
    "    df[[\"other_frag_chr\", \"other_frag_start\", \"other_frag_end\"]] = df[\"other_frag\"].str.split(\",\", expand=True)\n",
    "    df[\"bait_size\"] = np.abs(df[\"bait_frag_start\"].apply(int) - df[\"bait_frag_end\"].apply(int))\n",
    "    df[\"other_size\"] = np.abs(df[\"other_frag_start\"].apply(int) - df[\"other_frag_end\"].apply(int))\n",
    "    df[\"bait_frag_midpoint\"] = df.apply(lambda x: int((int(x[\"bait_frag_start\"]) + int(x[\"bait_frag_end\"])) / 2), axis=1)\n",
    "    df[\"bait_frag_standard_size_start\"] = df[\"bait_frag_midpoint\"] - standard_size\n",
    "    df[\"bait_frag_standard_size_end\"]   = df[\"bait_frag_midpoint\"] + standard_size - 1\n",
    "    df[\"other_frag_midpoint\"] = df.apply(lambda x: int((int(x[\"other_frag_start\"]) + int(x[\"other_frag_end\"])) / 2), axis=1)\n",
    "    df[\"other_frag_standard_size_start\"] = df[\"other_frag_midpoint\"] - standard_size\n",
    "    df[\"other_frag_standard_size_end\"]   = df[\"other_frag_midpoint\"] + standard_size - 1\n",
    "    negative_starting = df.loc[df[\"other_frag_standard_size_start\"] <= 0, \"other_frag_standard_size_start\"]\n",
    "    negative_ending = df.loc[df[\"other_frag_standard_size_start\"] <= 0, \"other_frag_standard_size_end\"]\n",
    "    df.loc[negative_starting.index, \"other_frag_standard_size_end\"] = (negative_ending - negative_starting + 1).apply(int)\n",
    "    df.loc[negative_starting.index, \"other_frag_standard_size_start\"] = 1\n",
    "    return df"
   ]
  },
  {
   "cell_type": "code",
   "execution_count": 4,
   "id": "497ad787-5f59-4712-92f3-e2a720743a52",
   "metadata": {},
   "outputs": [
    {
     "data": {
      "text/html": [
       "<div>\n",
       "<style scoped>\n",
       "    .dataframe tbody tr th:only-of-type {\n",
       "        vertical-align: middle;\n",
       "    }\n",
       "\n",
       "    .dataframe tbody tr th {\n",
       "        vertical-align: top;\n",
       "    }\n",
       "\n",
       "    .dataframe thead th {\n",
       "        text-align: right;\n",
       "    }\n",
       "</style>\n",
       "<table border=\"1\" class=\"dataframe\">\n",
       "  <thead>\n",
       "    <tr style=\"text-align: right;\">\n",
       "      <th></th>\n",
       "      <th>bait_frag</th>\n",
       "      <th>other_frag</th>\n",
       "      <th>N_reads</th>\n",
       "      <th>score</th>\n",
       "      <th>bait_gene</th>\n",
       "      <th>bait_gene_strand</th>\n",
       "      <th>oe_gene</th>\n",
       "      <th>oe_gene_strand</th>\n",
       "      <th>bait_closest_gene</th>\n",
       "      <th>bait_closest_gene_strand</th>\n",
       "      <th>...</th>\n",
       "      <th>other_frag_start</th>\n",
       "      <th>other_frag_end</th>\n",
       "      <th>bait_size</th>\n",
       "      <th>other_size</th>\n",
       "      <th>bait_frag_midpoint</th>\n",
       "      <th>bait_frag_standard_size_start</th>\n",
       "      <th>bait_frag_standard_size_end</th>\n",
       "      <th>other_frag_midpoint</th>\n",
       "      <th>other_frag_standard_size_start</th>\n",
       "      <th>other_frag_standard_size_end</th>\n",
       "    </tr>\n",
       "  </thead>\n",
       "  <tbody>\n",
       "    <tr>\n",
       "      <th>0</th>\n",
       "      <td>chr1,831895,848168</td>\n",
       "      <td>chr1,850619,874081</td>\n",
       "      <td>192</td>\n",
       "      <td>12.48</td>\n",
       "      <td>RP11-54O7.16,RP11-54O7.1</td>\n",
       "      <td>+</td>\n",
       "      <td>RP11-54O7.16,RP11-54O7.3,AL645608.1,SAMD11</td>\n",
       "      <td>+,-</td>\n",
       "      <td>RP11-54O7.16,RP11-54O7.1</td>\n",
       "      <td>+</td>\n",
       "      <td>...</td>\n",
       "      <td>850619</td>\n",
       "      <td>874081</td>\n",
       "      <td>16273</td>\n",
       "      <td>23462</td>\n",
       "      <td>840031</td>\n",
       "      <td>835031</td>\n",
       "      <td>845030</td>\n",
       "      <td>862350</td>\n",
       "      <td>857350</td>\n",
       "      <td>867349</td>\n",
       "    </tr>\n",
       "    <tr>\n",
       "      <th>1</th>\n",
       "      <td>chr1,831895,848168</td>\n",
       "      <td>chr1,1206874,1212438</td>\n",
       "      <td>11</td>\n",
       "      <td>5.73</td>\n",
       "      <td>RP11-54O7.16,RP11-54O7.1</td>\n",
       "      <td>+</td>\n",
       "      <td>UBE2J2,LINC01786</td>\n",
       "      <td>-,+</td>\n",
       "      <td>RP11-54O7.16,RP11-54O7.1</td>\n",
       "      <td>+</td>\n",
       "      <td>...</td>\n",
       "      <td>1206874</td>\n",
       "      <td>1212438</td>\n",
       "      <td>16273</td>\n",
       "      <td>5564</td>\n",
       "      <td>840031</td>\n",
       "      <td>835031</td>\n",
       "      <td>845030</td>\n",
       "      <td>1209656</td>\n",
       "      <td>1204656</td>\n",
       "      <td>1214655</td>\n",
       "    </tr>\n",
       "    <tr>\n",
       "      <th>2</th>\n",
       "      <td>chr1,927395,936954</td>\n",
       "      <td>chr1,1206874,1212438</td>\n",
       "      <td>23</td>\n",
       "      <td>5.57</td>\n",
       "      <td>RP11-54O7.17,HES4,ISG15</td>\n",
       "      <td>-,+</td>\n",
       "      <td>UBE2J2,LINC01786</td>\n",
       "      <td>-,+</td>\n",
       "      <td>RP11-54O7.17,HES4,ISG15</td>\n",
       "      <td>-,+</td>\n",
       "      <td>...</td>\n",
       "      <td>1206874</td>\n",
       "      <td>1212438</td>\n",
       "      <td>9559</td>\n",
       "      <td>5564</td>\n",
       "      <td>932174</td>\n",
       "      <td>927174</td>\n",
       "      <td>937173</td>\n",
       "      <td>1209656</td>\n",
       "      <td>1204656</td>\n",
       "      <td>1214655</td>\n",
       "    </tr>\n",
       "    <tr>\n",
       "      <th>3</th>\n",
       "      <td>chr1,943677,957199</td>\n",
       "      <td>chr1,1206874,1212438</td>\n",
       "      <td>20</td>\n",
       "      <td>6.04</td>\n",
       "      <td>ISG15,RP11-54O7.11,AGRN</td>\n",
       "      <td>+,-</td>\n",
       "      <td>UBE2J2,LINC01786</td>\n",
       "      <td>-,+</td>\n",
       "      <td>RP11-54O7.11,ISG15,AGRN</td>\n",
       "      <td>-,+</td>\n",
       "      <td>...</td>\n",
       "      <td>1206874</td>\n",
       "      <td>1212438</td>\n",
       "      <td>13522</td>\n",
       "      <td>5564</td>\n",
       "      <td>950438</td>\n",
       "      <td>945438</td>\n",
       "      <td>955437</td>\n",
       "      <td>1209656</td>\n",
       "      <td>1204656</td>\n",
       "      <td>1214655</td>\n",
       "    </tr>\n",
       "    <tr>\n",
       "      <th>4</th>\n",
       "      <td>chr1,1005127,1034268</td>\n",
       "      <td>chr1,903641,927394</td>\n",
       "      <td>26</td>\n",
       "      <td>8.61</td>\n",
       "      <td>RNF223,C1orf159</td>\n",
       "      <td>-</td>\n",
       "      <td>PLEKHN1,PERM1</td>\n",
       "      <td>+,-</td>\n",
       "      <td>RNF223,C1orf159</td>\n",
       "      <td>-</td>\n",
       "      <td>...</td>\n",
       "      <td>903641</td>\n",
       "      <td>927394</td>\n",
       "      <td>29141</td>\n",
       "      <td>23753</td>\n",
       "      <td>1019697</td>\n",
       "      <td>1014697</td>\n",
       "      <td>1024696</td>\n",
       "      <td>915517</td>\n",
       "      <td>910517</td>\n",
       "      <td>920516</td>\n",
       "    </tr>\n",
       "    <tr>\n",
       "      <th>...</th>\n",
       "      <td>...</td>\n",
       "      <td>...</td>\n",
       "      <td>...</td>\n",
       "      <td>...</td>\n",
       "      <td>...</td>\n",
       "      <td>...</td>\n",
       "      <td>...</td>\n",
       "      <td>...</td>\n",
       "      <td>...</td>\n",
       "      <td>...</td>\n",
       "      <td>...</td>\n",
       "      <td>...</td>\n",
       "      <td>...</td>\n",
       "      <td>...</td>\n",
       "      <td>...</td>\n",
       "      <td>...</td>\n",
       "      <td>...</td>\n",
       "      <td>...</td>\n",
       "      <td>...</td>\n",
       "      <td>...</td>\n",
       "      <td>...</td>\n",
       "    </tr>\n",
       "    <tr>\n",
       "      <th>215682</th>\n",
       "      <td>chrY,22732050,22743996</td>\n",
       "      <td>chrY,23423342,23424529</td>\n",
       "      <td>18</td>\n",
       "      <td>7.24</td>\n",
       "      <td>KDM5DP1,EIF1AY</td>\n",
       "      <td>-,+</td>\n",
       "      <td>NaN</td>\n",
       "      <td>NaN</td>\n",
       "      <td>KDM5DP1,EIF1AY</td>\n",
       "      <td>-,+</td>\n",
       "      <td>...</td>\n",
       "      <td>23423342</td>\n",
       "      <td>23424529</td>\n",
       "      <td>11946</td>\n",
       "      <td>1187</td>\n",
       "      <td>22738023</td>\n",
       "      <td>22733023</td>\n",
       "      <td>22743022</td>\n",
       "      <td>23423935</td>\n",
       "      <td>23418935</td>\n",
       "      <td>23428934</td>\n",
       "    </tr>\n",
       "    <tr>\n",
       "      <th>215683</th>\n",
       "      <td>chrY,22732050,22743996</td>\n",
       "      <td>chrY,23424530,23428951</td>\n",
       "      <td>15</td>\n",
       "      <td>6.34</td>\n",
       "      <td>KDM5DP1,EIF1AY</td>\n",
       "      <td>-,+</td>\n",
       "      <td>NaN</td>\n",
       "      <td>NaN</td>\n",
       "      <td>KDM5DP1,EIF1AY</td>\n",
       "      <td>-,+</td>\n",
       "      <td>...</td>\n",
       "      <td>23424530</td>\n",
       "      <td>23428951</td>\n",
       "      <td>11946</td>\n",
       "      <td>4421</td>\n",
       "      <td>22738023</td>\n",
       "      <td>22733023</td>\n",
       "      <td>22743022</td>\n",
       "      <td>23426740</td>\n",
       "      <td>23421740</td>\n",
       "      <td>23431739</td>\n",
       "    </tr>\n",
       "    <tr>\n",
       "      <th>215684</th>\n",
       "      <td>chrY,22732050,22743996</td>\n",
       "      <td>chrY,23428952,23431276</td>\n",
       "      <td>18</td>\n",
       "      <td>7.58</td>\n",
       "      <td>KDM5DP1,EIF1AY</td>\n",
       "      <td>-,+</td>\n",
       "      <td>NaN</td>\n",
       "      <td>NaN</td>\n",
       "      <td>KDM5DP1,EIF1AY</td>\n",
       "      <td>-,+</td>\n",
       "      <td>...</td>\n",
       "      <td>23428952</td>\n",
       "      <td>23431276</td>\n",
       "      <td>11946</td>\n",
       "      <td>2324</td>\n",
       "      <td>22738023</td>\n",
       "      <td>22733023</td>\n",
       "      <td>22743022</td>\n",
       "      <td>23430114</td>\n",
       "      <td>23425114</td>\n",
       "      <td>23435113</td>\n",
       "    </tr>\n",
       "    <tr>\n",
       "      <th>215685</th>\n",
       "      <td>chrY,22732050,22743996</td>\n",
       "      <td>chrY,23431277,23434441</td>\n",
       "      <td>14</td>\n",
       "      <td>5.51</td>\n",
       "      <td>KDM5DP1,EIF1AY</td>\n",
       "      <td>-,+</td>\n",
       "      <td>NaN</td>\n",
       "      <td>NaN</td>\n",
       "      <td>KDM5DP1,EIF1AY</td>\n",
       "      <td>-,+</td>\n",
       "      <td>...</td>\n",
       "      <td>23431277</td>\n",
       "      <td>23434441</td>\n",
       "      <td>11946</td>\n",
       "      <td>3164</td>\n",
       "      <td>22738023</td>\n",
       "      <td>22733023</td>\n",
       "      <td>22743022</td>\n",
       "      <td>23432859</td>\n",
       "      <td>23427859</td>\n",
       "      <td>23437858</td>\n",
       "    </tr>\n",
       "    <tr>\n",
       "      <th>215686</th>\n",
       "      <td>chrY,23612925,23614989</td>\n",
       "      <td>chrY,22732050,22743996</td>\n",
       "      <td>5</td>\n",
       "      <td>5.05</td>\n",
       "      <td>NaN</td>\n",
       "      <td>NaN</td>\n",
       "      <td>KDM5DP1,EIF1AY</td>\n",
       "      <td>-,+</td>\n",
       "      <td>RBMY2TP</td>\n",
       "      <td>-</td>\n",
       "      <td>...</td>\n",
       "      <td>22732050</td>\n",
       "      <td>22743996</td>\n",
       "      <td>2064</td>\n",
       "      <td>11946</td>\n",
       "      <td>23613957</td>\n",
       "      <td>23608957</td>\n",
       "      <td>23618956</td>\n",
       "      <td>22738023</td>\n",
       "      <td>22733023</td>\n",
       "      <td>22743022</td>\n",
       "    </tr>\n",
       "  </tbody>\n",
       "</table>\n",
       "<p>215687 rows × 26 columns</p>\n",
       "</div>"
      ],
      "text/plain": [
       "                     bait_frag              other_frag  N_reads  score  \\\n",
       "0           chr1,831895,848168      chr1,850619,874081      192  12.48   \n",
       "1           chr1,831895,848168    chr1,1206874,1212438       11   5.73   \n",
       "2           chr1,927395,936954    chr1,1206874,1212438       23   5.57   \n",
       "3           chr1,943677,957199    chr1,1206874,1212438       20   6.04   \n",
       "4         chr1,1005127,1034268      chr1,903641,927394       26   8.61   \n",
       "...                        ...                     ...      ...    ...   \n",
       "215682  chrY,22732050,22743996  chrY,23423342,23424529       18   7.24   \n",
       "215683  chrY,22732050,22743996  chrY,23424530,23428951       15   6.34   \n",
       "215684  chrY,22732050,22743996  chrY,23428952,23431276       18   7.58   \n",
       "215685  chrY,22732050,22743996  chrY,23431277,23434441       14   5.51   \n",
       "215686  chrY,23612925,23614989  chrY,22732050,22743996        5   5.05   \n",
       "\n",
       "                       bait_gene bait_gene_strand  \\\n",
       "0       RP11-54O7.16,RP11-54O7.1                +   \n",
       "1       RP11-54O7.16,RP11-54O7.1                +   \n",
       "2        RP11-54O7.17,HES4,ISG15              -,+   \n",
       "3        ISG15,RP11-54O7.11,AGRN              +,-   \n",
       "4                RNF223,C1orf159                -   \n",
       "...                          ...              ...   \n",
       "215682            KDM5DP1,EIF1AY              -,+   \n",
       "215683            KDM5DP1,EIF1AY              -,+   \n",
       "215684            KDM5DP1,EIF1AY              -,+   \n",
       "215685            KDM5DP1,EIF1AY              -,+   \n",
       "215686                       NaN              NaN   \n",
       "\n",
       "                                           oe_gene oe_gene_strand  \\\n",
       "0       RP11-54O7.16,RP11-54O7.3,AL645608.1,SAMD11            +,-   \n",
       "1                                 UBE2J2,LINC01786            -,+   \n",
       "2                                 UBE2J2,LINC01786            -,+   \n",
       "3                                 UBE2J2,LINC01786            -,+   \n",
       "4                                    PLEKHN1,PERM1            +,-   \n",
       "...                                            ...            ...   \n",
       "215682                                         NaN            NaN   \n",
       "215683                                         NaN            NaN   \n",
       "215684                                         NaN            NaN   \n",
       "215685                                         NaN            NaN   \n",
       "215686                              KDM5DP1,EIF1AY            -,+   \n",
       "\n",
       "               bait_closest_gene bait_closest_gene_strand  ...  \\\n",
       "0       RP11-54O7.16,RP11-54O7.1                        +  ...   \n",
       "1       RP11-54O7.16,RP11-54O7.1                        +  ...   \n",
       "2        RP11-54O7.17,HES4,ISG15                      -,+  ...   \n",
       "3        RP11-54O7.11,ISG15,AGRN                      -,+  ...   \n",
       "4                RNF223,C1orf159                        -  ...   \n",
       "...                          ...                      ...  ...   \n",
       "215682            KDM5DP1,EIF1AY                      -,+  ...   \n",
       "215683            KDM5DP1,EIF1AY                      -,+  ...   \n",
       "215684            KDM5DP1,EIF1AY                      -,+  ...   \n",
       "215685            KDM5DP1,EIF1AY                      -,+  ...   \n",
       "215686                   RBMY2TP                        -  ...   \n",
       "\n",
       "       other_frag_start other_frag_end bait_size other_size  \\\n",
       "0                850619         874081     16273      23462   \n",
       "1               1206874        1212438     16273       5564   \n",
       "2               1206874        1212438      9559       5564   \n",
       "3               1206874        1212438     13522       5564   \n",
       "4                903641         927394     29141      23753   \n",
       "...                 ...            ...       ...        ...   \n",
       "215682         23423342       23424529     11946       1187   \n",
       "215683         23424530       23428951     11946       4421   \n",
       "215684         23428952       23431276     11946       2324   \n",
       "215685         23431277       23434441     11946       3164   \n",
       "215686         22732050       22743996      2064      11946   \n",
       "\n",
       "       bait_frag_midpoint bait_frag_standard_size_start  \\\n",
       "0                  840031                        835031   \n",
       "1                  840031                        835031   \n",
       "2                  932174                        927174   \n",
       "3                  950438                        945438   \n",
       "4                 1019697                       1014697   \n",
       "...                   ...                           ...   \n",
       "215682           22738023                      22733023   \n",
       "215683           22738023                      22733023   \n",
       "215684           22738023                      22733023   \n",
       "215685           22738023                      22733023   \n",
       "215686           23613957                      23608957   \n",
       "\n",
       "       bait_frag_standard_size_end other_frag_midpoint  \\\n",
       "0                           845030              862350   \n",
       "1                           845030             1209656   \n",
       "2                           937173             1209656   \n",
       "3                           955437             1209656   \n",
       "4                          1024696              915517   \n",
       "...                            ...                 ...   \n",
       "215682                    22743022            23423935   \n",
       "215683                    22743022            23426740   \n",
       "215684                    22743022            23430114   \n",
       "215685                    22743022            23432859   \n",
       "215686                    23618956            22738023   \n",
       "\n",
       "        other_frag_standard_size_start  other_frag_standard_size_end  \n",
       "0                               857350                        867349  \n",
       "1                              1204656                       1214655  \n",
       "2                              1204656                       1214655  \n",
       "3                              1204656                       1214655  \n",
       "4                               910517                        920516  \n",
       "...                                ...                           ...  \n",
       "215682                        23418935                      23428934  \n",
       "215683                        23421740                      23431739  \n",
       "215684                        23425114                      23435113  \n",
       "215685                        23427859                      23437858  \n",
       "215686                        22733023                      22743022  \n",
       "\n",
       "[215687 rows x 26 columns]"
      ]
     },
     "execution_count": 4,
     "metadata": {},
     "output_type": "execute_result"
    }
   ],
   "source": [
    "expand_enrich_pchic(data)"
   ]
  },
  {
   "cell_type": "code",
   "execution_count": 5,
   "id": "ae0c96f2-e6d4-4bd1-b152-7e598e32373b",
   "metadata": {},
   "outputs": [
    {
     "data": {
      "text/plain": [
       "Fasta(\"/home/kacper/.local/share/genomes/hg19/hg19.fa\")"
      ]
     },
     "execution_count": 5,
     "metadata": {},
     "output_type": "execute_result"
    }
   ],
   "source": [
    "genomepy.install_genome(\"hg19\")"
   ]
  },
  {
   "cell_type": "code",
   "execution_count": 6,
   "id": "4b3ca2ac-ab1e-472f-906b-664ad68f307d",
   "metadata": {},
   "outputs": [],
   "source": [
    "hg = genomepy.Genome(\"hg19\")"
   ]
  },
  {
   "cell_type": "code",
   "execution_count": 7,
   "id": "4177732b-1506-49fb-afa9-235fa879a381",
   "metadata": {},
   "outputs": [],
   "source": [
    "def fasta_to_ohe_mapping(ascii_dna):\n",
    "        if ascii_dna == 65:  # A\n",
    "            return 1\n",
    "        if ascii_dna == 67:  # C\n",
    "            return 2\n",
    "        if ascii_dna == 71:  # G\n",
    "            return 3\n",
    "        if ascii_dna == 84:  # T\n",
    "            return 4\n",
    "        if ascii_dna == 97:  # a\n",
    "            return 1\n",
    "        if ascii_dna == 99:  # c\n",
    "            return 2\n",
    "        if ascii_dna == 103: # g\n",
    "            return 3\n",
    "        if ascii_dna == 116: # t\n",
    "            return 4\n",
    "        return 0 # Nn, anything else\n",
    "\n",
    "def from_loc_to_ohe(chr, start, end):\n",
    "    sequence = hg.get_seq(chr, start, end)\n",
    "    buffer = torch.frombuffer(sequence.seq.encode(), dtype=torch.uint8)\n",
    "    buffer = buffer.apply_(fasta_to_ohe_mapping)\n",
    "    atcg_mask = buffer != 0 # 1 if actg, 0 otherwise\n",
    "    buffer -= atcg_mask * 1 # offset indexing for atcg so it starts at 0 instead of 1\n",
    "                            # this is needed to have the \"others\" be a 0000 row in OHE\n",
    "    return (\n",
    "        F.one_hot(buffer.long(), num_classes=4).T * atcg_mask # OHE and mask others\n",
    "    )"
   ]
  },
  {
   "cell_type": "code",
   "execution_count": 8,
   "id": "1e726331-dde5-44ac-b2b7-94567750619e",
   "metadata": {},
   "outputs": [],
   "source": [
    "df_counterfactuals = expand_enrich_pchic(pd.read_csv(\"data/intermediates/counterfactuals.csv\"))"
   ]
  },
  {
   "cell_type": "code",
   "execution_count": 9,
   "id": "a9a51ddf-298b-436b-83a3-82d842e2e32b",
   "metadata": {},
   "outputs": [],
   "source": [
    "data[\"factual\"] = 1\n",
    "df_counterfactuals[\"factual\"] = 0"
   ]
  },
  {
   "cell_type": "code",
   "execution_count": 10,
   "id": "a83f4577-d6a9-4569-a696-dc29c25d177a",
   "metadata": {},
   "outputs": [],
   "source": [
    "combined = pd.concat((\n",
    "    data[[\n",
    "        \"bait_frag_chr\",\n",
    "        \"bait_frag_standard_size_start\", \n",
    "        \"bait_frag_standard_size_end\", \n",
    "        \"other_frag_chr\",\n",
    "        \"other_frag_standard_size_start\", \n",
    "        \"other_frag_standard_size_end\", \n",
    "        \"factual\"\n",
    "    ]],\n",
    "    df_counterfactuals[[\n",
    "        \"bait_frag_chr\",\n",
    "        \"bait_frag_standard_size_start\", \n",
    "        \"bait_frag_standard_size_end\", \n",
    "        \"other_frag_chr\",\n",
    "        \"other_frag_standard_size_start\", \n",
    "        \"other_frag_standard_size_end\", \n",
    "        \"factual\"\n",
    "    ]],\n",
    "))"
   ]
  },
  {
   "cell_type": "code",
   "execution_count": 11,
   "id": "9a0f58fe-d9d5-43a0-a1e0-eccd264bf314",
   "metadata": {},
   "outputs": [],
   "source": [
    "data_train = combined.sample(frac=0.75)\n",
    "data_test = combined.drop(data_train.index)\n",
    "data_train = data_train.reset_index()\n",
    "data_test = data_test.reset_index()"
   ]
  },
  {
   "cell_type": "code",
   "execution_count": 12,
   "id": "3a457b2b-d55d-42ac-bcaf-842e6d9138bf",
   "metadata": {},
   "outputs": [],
   "source": [
    "# n=1000\n",
    "# chunks = [data_train[i:i+n] for i in range(0,data_train.shape[0],n)]\n",
    "# for j, chunk in enumerate(chunks):\n",
    "#     chunk_ohe = []\n",
    "#     for i, row in chunk.iterrows():\n",
    "#         ohe = from_loc_to_ohe(row[\"bait_frag_chr\"], row[\"bait_frag_standard_size_start\"], row[\"bait_frag_standard_size_end\"])\n",
    "#         chunk_ohe.append(ohe)\n",
    "#         assert ohe.shape[1] == 10001\n",
    "#         print(f\"Chunk {j:>4} - Row {i:>4}\", end=\"\\r\")\n",
    "#     torch.save(torch.stack(chunk_ohe), f\"data/intermediates/ohe/train_chunk_{j}.pt\")\n",
    "#     torch.save(torch.from_numpy(chunk[\"factual\"].values), f\"data/intermediates/ohe/train_labels_chunk_{j}.pt\")"
   ]
  },
  {
   "cell_type": "code",
   "execution_count": 13,
   "id": "108121e1-93ea-4ba2-ae63-bb84a0f8bd90",
   "metadata": {},
   "outputs": [],
   "source": [
    "class PoCNet(torch.nn.Module):\n",
    "    def __init__(self):\n",
    "        super(PoCNet, self).__init__()\n",
    "        self.conv_bait = torch.nn.Sequential(\n",
    "            torch.nn.Conv1d(4, 64, 3, padding=1),\n",
    "            torch.nn.BatchNorm1d(64), \n",
    "            torch.nn.ReLU(inplace=True),\n",
    "            torch.nn.MaxPool1d(4),\n",
    "            torch.nn.Conv1d(64, 128, 3, padding=1),\n",
    "            torch.nn.BatchNorm1d(128), \n",
    "            torch.nn.ReLU(inplace=True),\n",
    "            torch.nn.MaxPool1d(10),\n",
    "            torch.nn.Conv1d(128, 256, 3, padding=1),\n",
    "            torch.nn.BatchNorm1d(256), \n",
    "            torch.nn.ReLU(inplace=True),\n",
    "            torch.nn.MaxPool1d(10)\n",
    "        )\n",
    "\n",
    "        self.conv_other = torch.nn.Sequential(\n",
    "            torch.nn.Conv1d(4, 64, 3, padding=1),\n",
    "            torch.nn.BatchNorm1d(64), \n",
    "            torch.nn.ReLU(inplace=True),\n",
    "            torch.nn.MaxPool1d(4),\n",
    "            torch.nn.Conv1d(64, 128, 3, padding=1),\n",
    "            torch.nn.BatchNorm1d(128), \n",
    "            torch.nn.ReLU(inplace=True),\n",
    "            torch.nn.MaxPool1d(10),\n",
    "            torch.nn.Conv1d(128, 256, 3, padding=1),\n",
    "            torch.nn.BatchNorm1d(256), \n",
    "            torch.nn.ReLU(inplace=True),\n",
    "            torch.nn.MaxPool1d(10)\n",
    "        )\n",
    "        \n",
    "        self.fc1 = torch.nn.Linear(2 * int(10_000/4/4/25) * 256, 4096)\n",
    "        self.fc2 = torch.nn.Linear(4096, 4096)\n",
    "        self.fc3 = torch.nn.Linear(4096, 1)\n",
    "\n",
    "    def forward(self, x_1, x_2):\n",
    "        x_1 = self.conv_bait(x_1)\n",
    "        x_1 = torch.flatten(x_1, start_dim=1)\n",
    "\n",
    "        x_2 = self.conv_other(x_2)\n",
    "        x_2 = torch.flatten(x_2, start_dim=1)\n",
    "\n",
    "        x = torch.concat((x_1, x_2), dim=1)\n",
    "        x = self.fc1(x)\n",
    "        x = F.relu(x)\n",
    "        x = self.fc2(x)\n",
    "        x = F.relu(x)\n",
    "        x = self.fc3(x)\n",
    "        # x = F.sigmoid(x)\n",
    "        return x"
   ]
  },
  {
   "cell_type": "code",
   "execution_count": 14,
   "id": "1a1f8f03-4867-4e37-8d04-8043cc61465d",
   "metadata": {},
   "outputs": [],
   "source": [
    "nn = PoCNet().cuda()"
   ]
  },
  {
   "cell_type": "code",
   "execution_count": 24,
   "id": "69bd7b16-ab2d-400e-9146-e29668b32381",
   "metadata": {},
   "outputs": [],
   "source": [
    "loss_function = torch.nn.BCEWithLogitsLoss()\n",
    "optimizer = torch.optim.Adam(nn.parameters(), lr=1e-7)"
   ]
  },
  {
   "cell_type": "code",
   "execution_count": 25,
   "id": "9674b1a1-d463-4bcb-9355-9d1b5b050144",
   "metadata": {},
   "outputs": [],
   "source": [
    "def chunk_df(df, n):\n",
    "    return [df[i:i+n] for i in range(0,df.shape[0],n)]\n",
    "\n",
    "def from_loc_to_ohe_batch(df, prefix: [\"bait\", \"other\"]):\n",
    "    return torch.stack([\n",
    "        from_loc_to_ohe(row[f\"{prefix}_frag_chr\"], row[f\"{prefix}_frag_standard_size_start\"], row[f\"{prefix}_frag_standard_size_end\"])\n",
    "        for _, row in df.iterrows()\n",
    "    ])"
   ]
  },
  {
   "cell_type": "code",
   "execution_count": 27,
   "id": "95b5e234-ee50-4cde-a2aa-4b39dcd099de",
   "metadata": {},
   "outputs": [
    {
     "data": {
      "application/vnd.jupyter.widget-view+json": {
       "model_id": "c1941e0b2f744ffe9591bf3c8ad5cdbb",
       "version_major": 2,
       "version_minor": 0
      },
      "text/plain": [
       "  0%|          | 0/2633 [00:00<?, ?it/s]"
      ]
     },
     "metadata": {},
     "output_type": "display_data"
    },
    {
     "name": "stdout",
     "output_type": "stream",
     "text": [
      "Loss:  0.69215 Accuracy 0.50000 Ones% 1.0\n"
     ]
    },
    {
     "data": {
      "application/vnd.jupyter.widget-view+json": {
       "model_id": "4d87c4bd3f524ebda9b47d4fd4dfda46",
       "version_major": 2,
       "version_minor": 0
      },
      "text/plain": [
       "  0%|          | 0/370 [00:00<?, ?it/s]"
      ]
     },
     "metadata": {},
     "output_type": "display_data"
    },
    {
     "name": "stdout",
     "output_type": "stream",
     "text": [
      " 0.72917\n"
     ]
    },
    {
     "data": {
      "application/vnd.jupyter.widget-view+json": {
       "model_id": "d03ba8a4352d47098d7577d036094080",
       "version_major": 2,
       "version_minor": 0
      },
      "text/plain": [
       "  0%|          | 0/2633 [00:00<?, ?it/s]"
      ]
     },
     "metadata": {},
     "output_type": "display_data"
    },
    {
     "name": "stdout",
     "output_type": "stream",
     "text": [
      "Loss:  0.67213 Accuracy 0.75000 Ones% 1.0\n"
     ]
    },
    {
     "data": {
      "application/vnd.jupyter.widget-view+json": {
       "model_id": "d82377bc70144df7bc0d324409b379f1",
       "version_major": 2,
       "version_minor": 0
      },
      "text/plain": [
       "  0%|          | 0/370 [00:00<?, ?it/s]"
      ]
     },
     "metadata": {},
     "output_type": "display_data"
    },
    {
     "name": "stdout",
     "output_type": "stream",
     "text": [
      " 0.78125\n"
     ]
    },
    {
     "data": {
      "application/vnd.jupyter.widget-view+json": {
       "model_id": "d8ad0fe6f55948b5b07529678e9c6fbe",
       "version_major": 2,
       "version_minor": 0
      },
      "text/plain": [
       "  0%|          | 0/2633 [00:00<?, ?it/s]"
      ]
     },
     "metadata": {},
     "output_type": "display_data"
    },
    {
     "name": "stdout",
     "output_type": "stream",
     "text": [
      "Loss:  0.66524 Accuracy 0.50000 Ones% 1.0\n"
     ]
    },
    {
     "data": {
      "application/vnd.jupyter.widget-view+json": {
       "model_id": "5e52b52874d04589bb5e318e826535d5",
       "version_major": 2,
       "version_minor": 0
      },
      "text/plain": [
       "  0%|          | 0/370 [00:00<?, ?it/s]"
      ]
     },
     "metadata": {},
     "output_type": "display_data"
    },
    {
     "name": "stdout",
     "output_type": "stream",
     "text": [
      " 0.79167\n"
     ]
    },
    {
     "data": {
      "application/vnd.jupyter.widget-view+json": {
       "model_id": "71992bda85e54ed8ba86f7a1fcd8af05",
       "version_major": 2,
       "version_minor": 0
      },
      "text/plain": [
       "  0%|          | 0/2633 [00:00<?, ?it/s]"
      ]
     },
     "metadata": {},
     "output_type": "display_data"
    },
    {
     "name": "stdout",
     "output_type": "stream",
     "text": [
      "Loss:  0.45279 Accuracy 1.00000 Ones% 1.0\n"
     ]
    },
    {
     "data": {
      "application/vnd.jupyter.widget-view+json": {
       "model_id": "96e02ef05e1145cda99c61dde98854be",
       "version_major": 2,
       "version_minor": 0
      },
      "text/plain": [
       "  0%|          | 0/370 [00:00<?, ?it/s]"
      ]
     },
     "metadata": {},
     "output_type": "display_data"
    },
    {
     "name": "stdout",
     "output_type": "stream",
     "text": [
      " 0.69792\n"
     ]
    },
    {
     "data": {
      "application/vnd.jupyter.widget-view+json": {
       "model_id": "eb7c224053ea45f798702c689ac77ff8",
       "version_major": 2,
       "version_minor": 0
      },
      "text/plain": [
       "  0%|          | 0/2633 [00:00<?, ?it/s]"
      ]
     },
     "metadata": {},
     "output_type": "display_data"
    },
    {
     "name": "stdout",
     "output_type": "stream",
     "text": [
      "Loss:  0.60358 Accuracy 0.75000 Ones% 1.0\n"
     ]
    },
    {
     "data": {
      "application/vnd.jupyter.widget-view+json": {
       "model_id": "629113aa060948719c6238277d4f4373",
       "version_major": 2,
       "version_minor": 0
      },
      "text/plain": [
       "  0%|          | 0/370 [00:00<?, ?it/s]"
      ]
     },
     "metadata": {},
     "output_type": "display_data"
    },
    {
     "name": "stdout",
     "output_type": "stream",
     "text": [
      " 0.78125\n"
     ]
    },
    {
     "data": {
      "application/vnd.jupyter.widget-view+json": {
       "model_id": "df935dd32e3f4cdbb3f1c478385f2963",
       "version_major": 2,
       "version_minor": 0
      },
      "text/plain": [
       "  0%|          | 0/2633 [00:00<?, ?it/s]"
      ]
     },
     "metadata": {},
     "output_type": "display_data"
    },
    {
     "name": "stdout",
     "output_type": "stream",
     "text": [
      "Loss:  0.61421 Accuracy 0.75000 Ones% 1.0\n"
     ]
    },
    {
     "data": {
      "application/vnd.jupyter.widget-view+json": {
       "model_id": "733965c015c743fbbe46a5cf1155c43e",
       "version_major": 2,
       "version_minor": 0
      },
      "text/plain": [
       "  0%|          | 0/370 [00:00<?, ?it/s]"
      ]
     },
     "metadata": {},
     "output_type": "display_data"
    },
    {
     "name": "stdout",
     "output_type": "stream",
     "text": [
      " 0.71875\n"
     ]
    },
    {
     "data": {
      "application/vnd.jupyter.widget-view+json": {
       "model_id": "6fe872ed33364dd1a91db5b3764f1a20",
       "version_major": 2,
       "version_minor": 0
      },
      "text/plain": [
       "  0%|          | 0/2633 [00:00<?, ?it/s]"
      ]
     },
     "metadata": {},
     "output_type": "display_data"
    },
    {
     "name": "stdout",
     "output_type": "stream",
     "text": [
      "Loss:  0.50883 Accuracy 1.00000 Ones% 0.75\n"
     ]
    },
    {
     "data": {
      "application/vnd.jupyter.widget-view+json": {
       "model_id": "93f2b7e11001458bb9277757699383e2",
       "version_major": 2,
       "version_minor": 0
      },
      "text/plain": [
       "  0%|          | 0/370 [00:00<?, ?it/s]"
      ]
     },
     "metadata": {},
     "output_type": "display_data"
    },
    {
     "name": "stdout",
     "output_type": "stream",
     "text": [
      " 0.77083\n"
     ]
    },
    {
     "data": {
      "application/vnd.jupyter.widget-view+json": {
       "model_id": "8d2b848baf0c48239e894ad996856e2c",
       "version_major": 2,
       "version_minor": 0
      },
      "text/plain": [
       "  0%|          | 0/2633 [00:00<?, ?it/s]"
      ]
     },
     "metadata": {},
     "output_type": "display_data"
    },
    {
     "name": "stdout",
     "output_type": "stream",
     "text": [
      "Loss:  0.96918 Accuracy 0.25000 Ones% 1.0\n"
     ]
    },
    {
     "data": {
      "application/vnd.jupyter.widget-view+json": {
       "model_id": "e9b3dd25414e487d8571abadec752e26",
       "version_major": 2,
       "version_minor": 0
      },
      "text/plain": [
       "  0%|          | 0/370 [00:00<?, ?it/s]"
      ]
     },
     "metadata": {},
     "output_type": "display_data"
    },
    {
     "name": "stdout",
     "output_type": "stream",
     "text": [
      " 0.73958\n"
     ]
    },
    {
     "data": {
      "application/vnd.jupyter.widget-view+json": {
       "model_id": "9751e8b409ee44b594cd2b7e7f550645",
       "version_major": 2,
       "version_minor": 0
      },
      "text/plain": [
       "  0%|          | 0/2633 [00:00<?, ?it/s]"
      ]
     },
     "metadata": {},
     "output_type": "display_data"
    },
    {
     "name": "stdout",
     "output_type": "stream",
     "text": [
      "Loss:  0.68913 Accuracy 0.50000 Ones% 1.0\n"
     ]
    },
    {
     "data": {
      "application/vnd.jupyter.widget-view+json": {
       "model_id": "0159027047814816b4e33e9e07c10a4e",
       "version_major": 2,
       "version_minor": 0
      },
      "text/plain": [
       "  0%|          | 0/370 [00:00<?, ?it/s]"
      ]
     },
     "metadata": {},
     "output_type": "display_data"
    },
    {
     "name": "stdout",
     "output_type": "stream",
     "text": [
      " 0.77083\n"
     ]
    },
    {
     "data": {
      "application/vnd.jupyter.widget-view+json": {
       "model_id": "d35cc9e4b38e4defa61bb5f3edaf1411",
       "version_major": 2,
       "version_minor": 0
      },
      "text/plain": [
       "  0%|          | 0/2633 [00:00<?, ?it/s]"
      ]
     },
     "metadata": {},
     "output_type": "display_data"
    },
    {
     "name": "stdout",
     "output_type": "stream",
     "text": [
      "Loss:  0.73680 Accuracy 0.50000 Ones% 1.0\n"
     ]
    },
    {
     "data": {
      "application/vnd.jupyter.widget-view+json": {
       "model_id": "ecaaf2baf83e48d5b2d1d2866269ef2e",
       "version_major": 2,
       "version_minor": 0
      },
      "text/plain": [
       "  0%|          | 0/370 [00:00<?, ?it/s]"
      ]
     },
     "metadata": {},
     "output_type": "display_data"
    },
    {
     "name": "stdout",
     "output_type": "stream",
     "text": [
      " 0.80208\n"
     ]
    },
    {
     "data": {
      "application/vnd.jupyter.widget-view+json": {
       "model_id": "e617dc9bdca44b6da2c568ab9c74d545",
       "version_major": 2,
       "version_minor": 0
      },
      "text/plain": [
       "  0%|          | 0/2633 [00:00<?, ?it/s]"
      ]
     },
     "metadata": {},
     "output_type": "display_data"
    },
    {
     "name": "stdout",
     "output_type": "stream",
     "text": [
      "Loss:  0.79865 Accuracy 0.25000 Ones% 1.0\n"
     ]
    },
    {
     "data": {
      "application/vnd.jupyter.widget-view+json": {
       "model_id": "b2b599b46a6845b7bb2cb86e0820aa25",
       "version_major": 2,
       "version_minor": 0
      },
      "text/plain": [
       "  0%|          | 0/370 [00:00<?, ?it/s]"
      ]
     },
     "metadata": {},
     "output_type": "display_data"
    },
    {
     "name": "stdout",
     "output_type": "stream",
     "text": [
      " 0.71875\n"
     ]
    },
    {
     "data": {
      "application/vnd.jupyter.widget-view+json": {
       "model_id": "3b0da5507c044780a6cea7666bd1f7f5",
       "version_major": 2,
       "version_minor": 0
      },
      "text/plain": [
       "  0%|          | 0/2633 [00:00<?, ?it/s]"
      ]
     },
     "metadata": {},
     "output_type": "display_data"
    },
    {
     "name": "stdout",
     "output_type": "stream",
     "text": [
      "Loss:  0.66798 Accuracy 0.50000 Ones% 1.0\n"
     ]
    },
    {
     "data": {
      "application/vnd.jupyter.widget-view+json": {
       "model_id": "02d2ceb6f7e945a4af5392eb651426e4",
       "version_major": 2,
       "version_minor": 0
      },
      "text/plain": [
       "  0%|          | 0/370 [00:00<?, ?it/s]"
      ]
     },
     "metadata": {},
     "output_type": "display_data"
    },
    {
     "name": "stdout",
     "output_type": "stream",
     "text": [
      " 0.77083\n"
     ]
    },
    {
     "data": {
      "application/vnd.jupyter.widget-view+json": {
       "model_id": "8c985800ca0345e297844b46bcf0719a",
       "version_major": 2,
       "version_minor": 0
      },
      "text/plain": [
       "  0%|          | 0/2633 [00:00<?, ?it/s]"
      ]
     },
     "metadata": {},
     "output_type": "display_data"
    },
    {
     "name": "stdout",
     "output_type": "stream",
     "text": [
      "Loss:  0.61637 Accuracy 0.75000 Ones% 1.0\n"
     ]
    },
    {
     "data": {
      "application/vnd.jupyter.widget-view+json": {
       "model_id": "cebf9231463a43da9d93af559caf959c",
       "version_major": 2,
       "version_minor": 0
      },
      "text/plain": [
       "  0%|          | 0/370 [00:00<?, ?it/s]"
      ]
     },
     "metadata": {},
     "output_type": "display_data"
    },
    {
     "name": "stdout",
     "output_type": "stream",
     "text": [
      " 0.67708\n"
     ]
    },
    {
     "data": {
      "application/vnd.jupyter.widget-view+json": {
       "model_id": "a75204f6a20f48f49352d8b93d9b01b7",
       "version_major": 2,
       "version_minor": 0
      },
      "text/plain": [
       "  0%|          | 0/2633 [00:00<?, ?it/s]"
      ]
     },
     "metadata": {},
     "output_type": "display_data"
    },
    {
     "name": "stdout",
     "output_type": "stream",
     "text": [
      "Loss:  0.69476 Accuracy 0.50000 Ones% 0.75\n"
     ]
    },
    {
     "data": {
      "application/vnd.jupyter.widget-view+json": {
       "model_id": "cf02e61e09e441799d59d41e0cbaf592",
       "version_major": 2,
       "version_minor": 0
      },
      "text/plain": [
       "  0%|          | 0/370 [00:00<?, ?it/s]"
      ]
     },
     "metadata": {},
     "output_type": "display_data"
    },
    {
     "name": "stdout",
     "output_type": "stream",
     "text": [
      " 0.77083\n"
     ]
    },
    {
     "data": {
      "application/vnd.jupyter.widget-view+json": {
       "model_id": "9879c908137c481d97d7ca43a8629912",
       "version_major": 2,
       "version_minor": 0
      },
      "text/plain": [
       "  0%|          | 0/2633 [00:00<?, ?it/s]"
      ]
     },
     "metadata": {},
     "output_type": "display_data"
    },
    {
     "name": "stdout",
     "output_type": "stream",
     "text": [
      "Loss:  0.68791 Accuracy 0.25000 Ones% 1.0\n"
     ]
    },
    {
     "data": {
      "application/vnd.jupyter.widget-view+json": {
       "model_id": "a9fc750ef10c41f2bdc237d4dbf19eaa",
       "version_major": 2,
       "version_minor": 0
      },
      "text/plain": [
       "  0%|          | 0/370 [00:00<?, ?it/s]"
      ]
     },
     "metadata": {},
     "output_type": "display_data"
    },
    {
     "name": "stdout",
     "output_type": "stream",
     "text": [
      " 0.81250\n"
     ]
    },
    {
     "data": {
      "application/vnd.jupyter.widget-view+json": {
       "model_id": "15e079ef0c3542a3ba9499f0aedafa01",
       "version_major": 2,
       "version_minor": 0
      },
      "text/plain": [
       "  0%|          | 0/2633 [00:00<?, ?it/s]"
      ]
     },
     "metadata": {},
     "output_type": "display_data"
    },
    {
     "name": "stdout",
     "output_type": "stream",
     "text": [
      "Loss:  0.66370 Accuracy 0.50000 Ones% 1.0\n"
     ]
    },
    {
     "data": {
      "application/vnd.jupyter.widget-view+json": {
       "model_id": "2946790ffa1840a99e56bc0871db4182",
       "version_major": 2,
       "version_minor": 0
      },
      "text/plain": [
       "  0%|          | 0/370 [00:00<?, ?it/s]"
      ]
     },
     "metadata": {},
     "output_type": "display_data"
    },
    {
     "name": "stdout",
     "output_type": "stream",
     "text": [
      " 0.77083\n"
     ]
    },
    {
     "data": {
      "application/vnd.jupyter.widget-view+json": {
       "model_id": "0542a20c5cb648859262ffd60b181d7f",
       "version_major": 2,
       "version_minor": 0
      },
      "text/plain": [
       "  0%|          | 0/2633 [00:00<?, ?it/s]"
      ]
     },
     "metadata": {},
     "output_type": "display_data"
    },
    {
     "name": "stdout",
     "output_type": "stream",
     "text": [
      "Loss:  0.48590 Accuracy 1.00000 Ones% 1.0\n"
     ]
    },
    {
     "data": {
      "application/vnd.jupyter.widget-view+json": {
       "model_id": "8ce2a7e647df47efa98f1e8f4a30eabf",
       "version_major": 2,
       "version_minor": 0
      },
      "text/plain": [
       "  0%|          | 0/370 [00:00<?, ?it/s]"
      ]
     },
     "metadata": {},
     "output_type": "display_data"
    },
    {
     "name": "stdout",
     "output_type": "stream",
     "text": [
      " 0.79167\n"
     ]
    },
    {
     "data": {
      "application/vnd.jupyter.widget-view+json": {
       "model_id": "f79340a8cc7b4da789f7c1c90e2d9d22",
       "version_major": 2,
       "version_minor": 0
      },
      "text/plain": [
       "  0%|          | 0/2633 [00:00<?, ?it/s]"
      ]
     },
     "metadata": {},
     "output_type": "display_data"
    },
    {
     "name": "stdout",
     "output_type": "stream",
     "text": [
      "Loss:  0.61423 Accuracy 0.75000 Ones% 1.0\n"
     ]
    },
    {
     "data": {
      "application/vnd.jupyter.widget-view+json": {
       "model_id": "2a6e524fa6b94d1384f7830a71d4e59f",
       "version_major": 2,
       "version_minor": 0
      },
      "text/plain": [
       "  0%|          | 0/370 [00:00<?, ?it/s]"
      ]
     },
     "metadata": {},
     "output_type": "display_data"
    },
    {
     "name": "stdout",
     "output_type": "stream",
     "text": [
      " 0.73958\n"
     ]
    },
    {
     "data": {
      "application/vnd.jupyter.widget-view+json": {
       "model_id": "d249398c2ff7445dba086c04f4581395",
       "version_major": 2,
       "version_minor": 0
      },
      "text/plain": [
       "  0%|          | 0/2633 [00:00<?, ?it/s]"
      ]
     },
     "metadata": {},
     "output_type": "display_data"
    },
    {
     "name": "stdout",
     "output_type": "stream",
     "text": [
      "Loss:  0.50760 Accuracy 0.50000 Ones% 0.75\n"
     ]
    },
    {
     "data": {
      "application/vnd.jupyter.widget-view+json": {
       "model_id": "aac9634649fc4a9982ebba398e00bbf9",
       "version_major": 2,
       "version_minor": 0
      },
      "text/plain": [
       "  0%|          | 0/370 [00:00<?, ?it/s]"
      ]
     },
     "metadata": {},
     "output_type": "display_data"
    },
    {
     "name": "stdout",
     "output_type": "stream",
     "text": [
      " 0.72917\n"
     ]
    },
    {
     "data": {
      "application/vnd.jupyter.widget-view+json": {
       "model_id": "440cfd8faab64d40bcbb798be1a3745a",
       "version_major": 2,
       "version_minor": 0
      },
      "text/plain": [
       "  0%|          | 0/2633 [00:00<?, ?it/s]"
      ]
     },
     "metadata": {},
     "output_type": "display_data"
    },
    {
     "name": "stdout",
     "output_type": "stream",
     "text": [
      "Loss:  0.34076 Accuracy 1.00000 Ones% 1.0\n"
     ]
    },
    {
     "data": {
      "application/vnd.jupyter.widget-view+json": {
       "model_id": "cbde4b1d3c654ecfb6a33efaba13aa0d",
       "version_major": 2,
       "version_minor": 0
      },
      "text/plain": [
       "  0%|          | 0/370 [00:00<?, ?it/s]"
      ]
     },
     "metadata": {},
     "output_type": "display_data"
    },
    {
     "name": "stdout",
     "output_type": "stream",
     "text": [
      " 0.75000\n"
     ]
    },
    {
     "data": {
      "application/vnd.jupyter.widget-view+json": {
       "model_id": "1cb2ba8557044cd098f46b303b0fea00",
       "version_major": 2,
       "version_minor": 0
      },
      "text/plain": [
       "  0%|          | 0/2633 [00:00<?, ?it/s]"
      ]
     },
     "metadata": {},
     "output_type": "display_data"
    },
    {
     "name": "stdout",
     "output_type": "stream",
     "text": [
      "Loss:  0.91312 Accuracy 0.50000 Ones% 0.5\n"
     ]
    },
    {
     "data": {
      "application/vnd.jupyter.widget-view+json": {
       "model_id": "8a57bdce739c4b819772f7332f3208aa",
       "version_major": 2,
       "version_minor": 0
      },
      "text/plain": [
       "  0%|          | 0/370 [00:00<?, ?it/s]"
      ]
     },
     "metadata": {},
     "output_type": "display_data"
    },
    {
     "name": "stdout",
     "output_type": "stream",
     "text": [
      " 0.79167\n"
     ]
    },
    {
     "data": {
      "application/vnd.jupyter.widget-view+json": {
       "model_id": "012057b556d34b8face4eb95462753ad",
       "version_major": 2,
       "version_minor": 0
      },
      "text/plain": [
       "  0%|          | 0/2633 [00:00<?, ?it/s]"
      ]
     },
     "metadata": {},
     "output_type": "display_data"
    },
    {
     "name": "stdout",
     "output_type": "stream",
     "text": [
      "Loss:  0.55651 Accuracy 0.75000 Ones% 0.75\n"
     ]
    },
    {
     "data": {
      "application/vnd.jupyter.widget-view+json": {
       "model_id": "5247eb1667b34e08917745f1384c762b",
       "version_major": 2,
       "version_minor": 0
      },
      "text/plain": [
       "  0%|          | 0/370 [00:00<?, ?it/s]"
      ]
     },
     "metadata": {},
     "output_type": "display_data"
    },
    {
     "name": "stdout",
     "output_type": "stream",
     "text": [
      " 0.83333\n"
     ]
    },
    {
     "data": {
      "application/vnd.jupyter.widget-view+json": {
       "model_id": "d7b191a6daa744bba68b5991fe042de8",
       "version_major": 2,
       "version_minor": 0
      },
      "text/plain": [
       "  0%|          | 0/2633 [00:00<?, ?it/s]"
      ]
     },
     "metadata": {},
     "output_type": "display_data"
    },
    {
     "name": "stdout",
     "output_type": "stream",
     "text": [
      "Loss:  0.65714 Accuracy 0.75000 Ones% 1.0\n"
     ]
    },
    {
     "data": {
      "application/vnd.jupyter.widget-view+json": {
       "model_id": "054fbb0fbda04ec687779a9dca91c08b",
       "version_major": 2,
       "version_minor": 0
      },
      "text/plain": [
       "  0%|          | 0/370 [00:00<?, ?it/s]"
      ]
     },
     "metadata": {},
     "output_type": "display_data"
    },
    {
     "name": "stdout",
     "output_type": "stream",
     "text": [
      " 0.75000\n"
     ]
    },
    {
     "data": {
      "application/vnd.jupyter.widget-view+json": {
       "model_id": "34036139e8dd409e82625a3785b6c738",
       "version_major": 2,
       "version_minor": 0
      },
      "text/plain": [
       "  0%|          | 0/2633 [00:00<?, ?it/s]"
      ]
     },
     "metadata": {},
     "output_type": "display_data"
    },
    {
     "name": "stdout",
     "output_type": "stream",
     "text": [
      "Loss:  0.49306 Accuracy 0.75000 Ones% 0.75\n"
     ]
    },
    {
     "data": {
      "application/vnd.jupyter.widget-view+json": {
       "model_id": "ca37ff6a43a34ccb9417bad13d6a13cd",
       "version_major": 2,
       "version_minor": 0
      },
      "text/plain": [
       "  0%|          | 0/370 [00:00<?, ?it/s]"
      ]
     },
     "metadata": {},
     "output_type": "display_data"
    },
    {
     "name": "stdout",
     "output_type": "stream",
     "text": [
      " 0.76042\n"
     ]
    },
    {
     "data": {
      "application/vnd.jupyter.widget-view+json": {
       "model_id": "7c8778a1f9c1468880754e7965cd0462",
       "version_major": 2,
       "version_minor": 0
      },
      "text/plain": [
       "  0%|          | 0/2633 [00:00<?, ?it/s]"
      ]
     },
     "metadata": {},
     "output_type": "display_data"
    },
    {
     "name": "stdout",
     "output_type": "stream",
     "text": [
      "Loss:  0.57277 Accuracy 0.75000 Ones% 0.5\n"
     ]
    },
    {
     "data": {
      "application/vnd.jupyter.widget-view+json": {
       "model_id": "72a24afc637c4fff9e846121fc69541c",
       "version_major": 2,
       "version_minor": 0
      },
      "text/plain": [
       "  0%|          | 0/370 [00:00<?, ?it/s]"
      ]
     },
     "metadata": {},
     "output_type": "display_data"
    },
    {
     "name": "stdout",
     "output_type": "stream",
     "text": [
      " 0.72917\n"
     ]
    },
    {
     "data": {
      "application/vnd.jupyter.widget-view+json": {
       "model_id": "a26342b60df54228a692395ad20e7f8a",
       "version_major": 2,
       "version_minor": 0
      },
      "text/plain": [
       "  0%|          | 0/2633 [00:00<?, ?it/s]"
      ]
     },
     "metadata": {},
     "output_type": "display_data"
    },
    {
     "name": "stdout",
     "output_type": "stream",
     "text": [
      "Loss:  0.44775 Accuracy 1.00000 Ones% 0.75\n"
     ]
    },
    {
     "data": {
      "application/vnd.jupyter.widget-view+json": {
       "model_id": "a3c955f921f3448c941797e17c49e06e",
       "version_major": 2,
       "version_minor": 0
      },
      "text/plain": [
       "  0%|          | 0/370 [00:00<?, ?it/s]"
      ]
     },
     "metadata": {},
     "output_type": "display_data"
    },
    {
     "name": "stdout",
     "output_type": "stream",
     "text": [
      " 0.72917\n"
     ]
    },
    {
     "data": {
      "application/vnd.jupyter.widget-view+json": {
       "model_id": "1aa8b9249d4c43bcba9d0960d35dbc0e",
       "version_major": 2,
       "version_minor": 0
      },
      "text/plain": [
       "  0%|          | 0/2633 [00:00<?, ?it/s]"
      ]
     },
     "metadata": {},
     "output_type": "display_data"
    },
    {
     "name": "stdout",
     "output_type": "stream",
     "text": [
      "Loss:  0.44963 Accuracy 1.00000 Ones% 1.0\n"
     ]
    },
    {
     "data": {
      "application/vnd.jupyter.widget-view+json": {
       "model_id": "c421dd7d2bdf4d0bb59ddd49f865bc5f",
       "version_major": 2,
       "version_minor": 0
      },
      "text/plain": [
       "  0%|          | 0/370 [00:00<?, ?it/s]"
      ]
     },
     "metadata": {},
     "output_type": "display_data"
    },
    {
     "name": "stdout",
     "output_type": "stream",
     "text": [
      " 0.72917\n"
     ]
    },
    {
     "data": {
      "application/vnd.jupyter.widget-view+json": {
       "model_id": "930bc163639c46b3b6d82af7ca508d2f",
       "version_major": 2,
       "version_minor": 0
      },
      "text/plain": [
       "  0%|          | 0/2633 [00:00<?, ?it/s]"
      ]
     },
     "metadata": {},
     "output_type": "display_data"
    },
    {
     "name": "stdout",
     "output_type": "stream",
     "text": [
      "Loss:  0.57877 Accuracy 0.75000 Ones% 1.0\n"
     ]
    },
    {
     "data": {
      "application/vnd.jupyter.widget-view+json": {
       "model_id": "b244f8f6d6104fe1abaf94385f71e5f2",
       "version_major": 2,
       "version_minor": 0
      },
      "text/plain": [
       "  0%|          | 0/370 [00:00<?, ?it/s]"
      ]
     },
     "metadata": {},
     "output_type": "display_data"
    },
    {
     "name": "stdout",
     "output_type": "stream",
     "text": [
      " 0.68750\n"
     ]
    },
    {
     "data": {
      "application/vnd.jupyter.widget-view+json": {
       "model_id": "35f0bf7795814ae694118b9e649512e2",
       "version_major": 2,
       "version_minor": 0
      },
      "text/plain": [
       "  0%|          | 0/2633 [00:00<?, ?it/s]"
      ]
     },
     "metadata": {},
     "output_type": "display_data"
    },
    {
     "name": "stdout",
     "output_type": "stream",
     "text": [
      "Loss:  0.74944 Accuracy 0.50000 Ones% 0.5\n"
     ]
    },
    {
     "data": {
      "application/vnd.jupyter.widget-view+json": {
       "model_id": "dfc84228cf4e4ae298c2b18f7c4dd357",
       "version_major": 2,
       "version_minor": 0
      },
      "text/plain": [
       "  0%|          | 0/370 [00:00<?, ?it/s]"
      ]
     },
     "metadata": {},
     "output_type": "display_data"
    },
    {
     "name": "stdout",
     "output_type": "stream",
     "text": [
      " 0.75000\n"
     ]
    },
    {
     "data": {
      "application/vnd.jupyter.widget-view+json": {
       "model_id": "0e41b350c02f4c9ca5cf5600635335a2",
       "version_major": 2,
       "version_minor": 0
      },
      "text/plain": [
       "  0%|          | 0/2633 [00:00<?, ?it/s]"
      ]
     },
     "metadata": {},
     "output_type": "display_data"
    },
    {
     "name": "stdout",
     "output_type": "stream",
     "text": [
      "Loss:  0.62016 Accuracy 0.50000 Ones% 0.75\n"
     ]
    },
    {
     "data": {
      "application/vnd.jupyter.widget-view+json": {
       "model_id": "7e8728ae60394cff85d6e0ed5bec13cc",
       "version_major": 2,
       "version_minor": 0
      },
      "text/plain": [
       "  0%|          | 0/370 [00:00<?, ?it/s]"
      ]
     },
     "metadata": {},
     "output_type": "display_data"
    },
    {
     "name": "stdout",
     "output_type": "stream",
     "text": [
      " 0.75000\n"
     ]
    },
    {
     "data": {
      "application/vnd.jupyter.widget-view+json": {
       "model_id": "fd31291c17384cfaafa9800501246af6",
       "version_major": 2,
       "version_minor": 0
      },
      "text/plain": [
       "  0%|          | 0/2633 [00:00<?, ?it/s]"
      ]
     },
     "metadata": {},
     "output_type": "display_data"
    },
    {
     "name": "stdout",
     "output_type": "stream",
     "text": [
      "Loss:  0.68557 Accuracy 0.50000 Ones% 0.75\n"
     ]
    },
    {
     "data": {
      "application/vnd.jupyter.widget-view+json": {
       "model_id": "11f3eaf8855d40b39eef8d52dd705635",
       "version_major": 2,
       "version_minor": 0
      },
      "text/plain": [
       "  0%|          | 0/370 [00:00<?, ?it/s]"
      ]
     },
     "metadata": {},
     "output_type": "display_data"
    },
    {
     "name": "stdout",
     "output_type": "stream",
     "text": [
      " 0.71875\n"
     ]
    },
    {
     "data": {
      "application/vnd.jupyter.widget-view+json": {
       "model_id": "7cdbf67f3d1a48ac8e59d54fc1397ab1",
       "version_major": 2,
       "version_minor": 0
      },
      "text/plain": [
       "  0%|          | 0/2633 [00:00<?, ?it/s]"
      ]
     },
     "metadata": {},
     "output_type": "display_data"
    },
    {
     "name": "stdout",
     "output_type": "stream",
     "text": [
      "Loss:  0.57931 Accuracy 0.50000 Ones% 0.75\n"
     ]
    },
    {
     "data": {
      "application/vnd.jupyter.widget-view+json": {
       "model_id": "d2e2bd9adb1d4b9390f4508c030d75bf",
       "version_major": 2,
       "version_minor": 0
      },
      "text/plain": [
       "  0%|          | 0/370 [00:00<?, ?it/s]"
      ]
     },
     "metadata": {},
     "output_type": "display_data"
    },
    {
     "name": "stdout",
     "output_type": "stream",
     "text": [
      " 0.82292\n"
     ]
    },
    {
     "data": {
      "application/vnd.jupyter.widget-view+json": {
       "model_id": "7f5ee1031cb74b05b08bb788c26a582a",
       "version_major": 2,
       "version_minor": 0
      },
      "text/plain": [
       "  0%|          | 0/2633 [00:00<?, ?it/s]"
      ]
     },
     "metadata": {},
     "output_type": "display_data"
    },
    {
     "name": "stdout",
     "output_type": "stream",
     "text": [
      "Loss:  0.75533 Accuracy 0.50000 Ones% 0.75\n"
     ]
    },
    {
     "data": {
      "application/vnd.jupyter.widget-view+json": {
       "model_id": "1060562953f44bd58b089d83add34968",
       "version_major": 2,
       "version_minor": 0
      },
      "text/plain": [
       "  0%|          | 0/370 [00:00<?, ?it/s]"
      ]
     },
     "metadata": {},
     "output_type": "display_data"
    },
    {
     "name": "stdout",
     "output_type": "stream",
     "text": [
      " 0.73958\n"
     ]
    },
    {
     "data": {
      "application/vnd.jupyter.widget-view+json": {
       "model_id": "b3d71e49df5641c284e7389b58332fe7",
       "version_major": 2,
       "version_minor": 0
      },
      "text/plain": [
       "  0%|          | 0/2633 [00:00<?, ?it/s]"
      ]
     },
     "metadata": {},
     "output_type": "display_data"
    },
    {
     "name": "stdout",
     "output_type": "stream",
     "text": [
      "Loss:  0.40800 Accuracy 1.00000 Ones% 0.75\n"
     ]
    },
    {
     "data": {
      "application/vnd.jupyter.widget-view+json": {
       "model_id": "06b7614fb5d1496d8f7bf35a09004f97",
       "version_major": 2,
       "version_minor": 0
      },
      "text/plain": [
       "  0%|          | 0/370 [00:00<?, ?it/s]"
      ]
     },
     "metadata": {},
     "output_type": "display_data"
    },
    {
     "name": "stdout",
     "output_type": "stream",
     "text": [
      " 0.79167\n"
     ]
    },
    {
     "data": {
      "application/vnd.jupyter.widget-view+json": {
       "model_id": "e0e84f6fa35b420abb2ce6a7413c8b62",
       "version_major": 2,
       "version_minor": 0
      },
      "text/plain": [
       "  0%|          | 0/2633 [00:00<?, ?it/s]"
      ]
     },
     "metadata": {},
     "output_type": "display_data"
    },
    {
     "name": "stdout",
     "output_type": "stream",
     "text": [
      "Loss:  0.71251 Accuracy 0.25000 Ones% 0.5\n"
     ]
    },
    {
     "data": {
      "application/vnd.jupyter.widget-view+json": {
       "model_id": "89f8cae50eb24da5b99a488247d8b5bb",
       "version_major": 2,
       "version_minor": 0
      },
      "text/plain": [
       "  0%|          | 0/370 [00:00<?, ?it/s]"
      ]
     },
     "metadata": {},
     "output_type": "display_data"
    },
    {
     "name": "stdout",
     "output_type": "stream",
     "text": [
      " 0.86458\n"
     ]
    },
    {
     "data": {
      "application/vnd.jupyter.widget-view+json": {
       "model_id": "398cc5c8df674c7688fd14cda8d15a2c",
       "version_major": 2,
       "version_minor": 0
      },
      "text/plain": [
       "  0%|          | 0/2633 [00:00<?, ?it/s]"
      ]
     },
     "metadata": {},
     "output_type": "display_data"
    },
    {
     "name": "stdout",
     "output_type": "stream",
     "text": [
      "Loss:  0.36980 Accuracy 1.00000 Ones% 0.75\n"
     ]
    },
    {
     "data": {
      "application/vnd.jupyter.widget-view+json": {
       "model_id": "a70f059810eb4568bad8747e6e7a1ebf",
       "version_major": 2,
       "version_minor": 0
      },
      "text/plain": [
       "  0%|          | 0/370 [00:00<?, ?it/s]"
      ]
     },
     "metadata": {},
     "output_type": "display_data"
    },
    {
     "name": "stdout",
     "output_type": "stream",
     "text": [
      " 0.77083\n"
     ]
    },
    {
     "data": {
      "application/vnd.jupyter.widget-view+json": {
       "model_id": "a3301cc18ff0452db1700095fdb66f4e",
       "version_major": 2,
       "version_minor": 0
      },
      "text/plain": [
       "  0%|          | 0/2633 [00:00<?, ?it/s]"
      ]
     },
     "metadata": {},
     "output_type": "display_data"
    },
    {
     "name": "stdout",
     "output_type": "stream",
     "text": [
      "Loss:  0.35139 Accuracy 1.00000 Ones% 1.0\n"
     ]
    },
    {
     "data": {
      "application/vnd.jupyter.widget-view+json": {
       "model_id": "01ea2641db854de9ad7887fcf66d6a49",
       "version_major": 2,
       "version_minor": 0
      },
      "text/plain": [
       "  0%|          | 0/370 [00:00<?, ?it/s]"
      ]
     },
     "metadata": {},
     "output_type": "display_data"
    },
    {
     "name": "stdout",
     "output_type": "stream",
     "text": [
      " 0.87500\n"
     ]
    },
    {
     "data": {
      "application/vnd.jupyter.widget-view+json": {
       "model_id": "2bd18aec4ff144f0bf5f5dc4d0da56a3",
       "version_major": 2,
       "version_minor": 0
      },
      "text/plain": [
       "  0%|          | 0/2633 [00:00<?, ?it/s]"
      ]
     },
     "metadata": {},
     "output_type": "display_data"
    },
    {
     "name": "stdout",
     "output_type": "stream",
     "text": [
      "Loss:  0.63304 Accuracy 0.75000 Ones% 0.75\n"
     ]
    },
    {
     "data": {
      "application/vnd.jupyter.widget-view+json": {
       "model_id": "418f6c8f0dbd4d75857e7fab721d1d4f",
       "version_major": 2,
       "version_minor": 0
      },
      "text/plain": [
       "  0%|          | 0/370 [00:00<?, ?it/s]"
      ]
     },
     "metadata": {},
     "output_type": "display_data"
    },
    {
     "name": "stdout",
     "output_type": "stream",
     "text": [
      " 0.72917\n"
     ]
    },
    {
     "data": {
      "application/vnd.jupyter.widget-view+json": {
       "model_id": "c3af81831a6d4796a6e0ee247c399e3f",
       "version_major": 2,
       "version_minor": 0
      },
      "text/plain": [
       "  0%|          | 0/2633 [00:00<?, ?it/s]"
      ]
     },
     "metadata": {},
     "output_type": "display_data"
    },
    {
     "name": "stdout",
     "output_type": "stream",
     "text": [
      "Loss:  0.66301 Accuracy 0.50000 Ones% 0.75\n"
     ]
    },
    {
     "data": {
      "application/vnd.jupyter.widget-view+json": {
       "model_id": "eabe5e2250f6474cba553128214e1e8c",
       "version_major": 2,
       "version_minor": 0
      },
      "text/plain": [
       "  0%|          | 0/370 [00:00<?, ?it/s]"
      ]
     },
     "metadata": {},
     "output_type": "display_data"
    },
    {
     "name": "stdout",
     "output_type": "stream",
     "text": [
      " 0.72917\n"
     ]
    },
    {
     "data": {
      "application/vnd.jupyter.widget-view+json": {
       "model_id": "1204c2e043504774a209cd09affc5280",
       "version_major": 2,
       "version_minor": 0
      },
      "text/plain": [
       "  0%|          | 0/2633 [00:00<?, ?it/s]"
      ]
     },
     "metadata": {},
     "output_type": "display_data"
    },
    {
     "name": "stdout",
     "output_type": "stream",
     "text": [
      "Loss:  0.46115 Accuracy 0.75000 Ones% 1.0\n"
     ]
    },
    {
     "data": {
      "application/vnd.jupyter.widget-view+json": {
       "model_id": "8407c8d0fb1941eb8f9bbc1364959676",
       "version_major": 2,
       "version_minor": 0
      },
      "text/plain": [
       "  0%|          | 0/370 [00:00<?, ?it/s]"
      ]
     },
     "metadata": {},
     "output_type": "display_data"
    },
    {
     "name": "stdout",
     "output_type": "stream",
     "text": [
      " 0.77083\n"
     ]
    },
    {
     "data": {
      "application/vnd.jupyter.widget-view+json": {
       "model_id": "88de82e7e7584770b78e7a6f73d9afbf",
       "version_major": 2,
       "version_minor": 0
      },
      "text/plain": [
       "  0%|          | 0/2633 [00:00<?, ?it/s]"
      ]
     },
     "metadata": {},
     "output_type": "display_data"
    },
    {
     "name": "stdout",
     "output_type": "stream",
     "text": [
      "Loss:  0.60650 Accuracy 0.75000 Ones% 0.5\n"
     ]
    },
    {
     "data": {
      "application/vnd.jupyter.widget-view+json": {
       "model_id": "4ec66fd193b84418b98afbde7fd14eac",
       "version_major": 2,
       "version_minor": 0
      },
      "text/plain": [
       "  0%|          | 0/370 [00:00<?, ?it/s]"
      ]
     },
     "metadata": {},
     "output_type": "display_data"
    },
    {
     "name": "stdout",
     "output_type": "stream",
     "text": [
      " 0.71875\n"
     ]
    },
    {
     "data": {
      "application/vnd.jupyter.widget-view+json": {
       "model_id": "775a3b2ae3614775b9afde44d73a4444",
       "version_major": 2,
       "version_minor": 0
      },
      "text/plain": [
       "  0%|          | 0/2633 [00:00<?, ?it/s]"
      ]
     },
     "metadata": {},
     "output_type": "display_data"
    },
    {
     "name": "stdout",
     "output_type": "stream",
     "text": [
      "Loss:  0.41868 Accuracy 1.00000 Ones% 0.75\n"
     ]
    },
    {
     "data": {
      "application/vnd.jupyter.widget-view+json": {
       "model_id": "1a27c2d3287b462d8eb4a723b3a65031",
       "version_major": 2,
       "version_minor": 0
      },
      "text/plain": [
       "  0%|          | 0/370 [00:00<?, ?it/s]"
      ]
     },
     "metadata": {},
     "output_type": "display_data"
    },
    {
     "name": "stdout",
     "output_type": "stream",
     "text": [
      " 0.83333\n"
     ]
    },
    {
     "data": {
      "application/vnd.jupyter.widget-view+json": {
       "model_id": "9bef691962144e4e9003932143b74f4f",
       "version_major": 2,
       "version_minor": 0
      },
      "text/plain": [
       "  0%|          | 0/2633 [00:00<?, ?it/s]"
      ]
     },
     "metadata": {},
     "output_type": "display_data"
    },
    {
     "ename": "KeyboardInterrupt",
     "evalue": "",
     "output_type": "error",
     "traceback": [
      "\u001b[0;31m---------------------------------------------------------------------------\u001b[0m",
      "\u001b[0;31mKeyboardInterrupt\u001b[0m                         Traceback (most recent call last)",
      "Cell \u001b[0;32mIn[27], line 11\u001b[0m\n\u001b[1;32m      9\u001b[0m other_ohe \u001b[38;5;241m=\u001b[39m from_loc_to_ohe_batch(batch, \u001b[38;5;124m\"\u001b[39m\u001b[38;5;124mother\u001b[39m\u001b[38;5;124m\"\u001b[39m)\n\u001b[1;32m     10\u001b[0m yhat \u001b[38;5;241m=\u001b[39m nn\u001b[38;5;241m.\u001b[39mforward(bait_ohe\u001b[38;5;241m.\u001b[39mfloat()\u001b[38;5;241m.\u001b[39mcuda(), other_ohe\u001b[38;5;241m.\u001b[39mfloat()\u001b[38;5;241m.\u001b[39mcuda())\n\u001b[0;32m---> 11\u001b[0m yhat \u001b[38;5;241m=\u001b[39m \u001b[43myhat\u001b[49m\u001b[38;5;241;43m.\u001b[39;49m\u001b[43mcpu\u001b[49m\u001b[43m(\u001b[49m\u001b[43m)\u001b[49m\u001b[38;5;241m.\u001b[39mflatten()\n\u001b[1;32m     12\u001b[0m y \u001b[38;5;241m=\u001b[39m torch\u001b[38;5;241m.\u001b[39mfrom_numpy(batch[\u001b[38;5;124m\"\u001b[39m\u001b[38;5;124mfactual\u001b[39m\u001b[38;5;124m\"\u001b[39m]\u001b[38;5;241m.\u001b[39mvalues)\u001b[38;5;241m.\u001b[39mfloat()\n\u001b[1;32m     13\u001b[0m loss \u001b[38;5;241m=\u001b[39m loss_function(yhat, y)\n",
      "\u001b[0;31mKeyboardInterrupt\u001b[0m: "
     ]
    }
   ],
   "source": [
    "nn.train(True)\n",
    "from tqdm.notebook import tqdm\n",
    "\n",
    "for epoch in range(1, 200):\n",
    "    for batch in tqdm(chunk_df(data_train.sample(frac=1.), 100)):\n",
    "        optimizer.zero_grad()\n",
    "        \n",
    "        bait_ohe = from_loc_to_ohe_batch(batch, \"bait\")\n",
    "        other_ohe = from_loc_to_ohe_batch(batch, \"other\")\n",
    "        yhat = nn.forward(bait_ohe.float().cuda(), other_ohe.float().cuda())\n",
    "        yhat = yhat.cpu().flatten()\n",
    "        y = torch.from_numpy(batch[\"factual\"].values).float()\n",
    "        loss = loss_function(yhat, y)\n",
    "        loss.backward()\n",
    "        optimizer.step()\n",
    "    print(f\"Loss: {loss: .5f} Accuracy {sum((F.sigmoid(yhat) >= .5) == y)/len(y):.5f} Ones% {sum((F.sigmoid(yhat) >= .5) == 1)/len(y)}\", end=\"\\r\")\n",
    "    print()\n",
    "    with torch.no_grad():\n",
    "        total_correct = 0\n",
    "        total_so_far = 0\n",
    "        for batch in tqdm(chunk_df(data_test.sample(frac=1.), 100)):        \n",
    "            bait_ohe = from_loc_to_ohe_batch(batch, \"bait\")\n",
    "            other_ohe = from_loc_to_ohe_batch(batch, \"other\")\n",
    "            yhat = nn.forward(bait_ohe.float().cuda(), other_ohe.float().cuda())\n",
    "            yhat = yhat.cpu().flatten()\n",
    "            y = torch.from_numpy(batch[\"factual\"].values).float()\n",
    "        total_correct += sum((F.sigmoid(yhat) >= .5) == y)\n",
    "        total_so_far += len(y)\n",
    "        print(f\"{total_correct/total_so_far: .5f}\", end=\"\\r\")\n",
    "    print()"
   ]
  },
  {
   "cell_type": "code",
   "execution_count": 28,
   "id": "1fcd87d5-aa8b-453d-bb9b-a472066e3c64",
   "metadata": {},
   "outputs": [
    {
     "data": {
      "application/vnd.jupyter.widget-view+json": {
       "model_id": "19952457bb0a4adca50940d69562d96b",
       "version_major": 2,
       "version_minor": 0
      },
      "text/plain": [
       "  0%|          | 0/370 [00:00<?, ?it/s]"
      ]
     },
     "metadata": {},
     "output_type": "display_data"
    }
   ],
   "source": [
    "yhat_list = []\n",
    "with torch.no_grad():\n",
    "        for batch in tqdm(chunk_df(data_test.sample(frac=1.), 100)):        \n",
    "            bait_ohe = from_loc_to_ohe_batch(batch, \"bait\")\n",
    "            other_ohe = from_loc_to_ohe_batch(batch, \"other\")\n",
    "            yhat = nn.forward(bait_ohe.float().cuda(), other_ohe.float().cuda())\n",
    "            yhat = yhat.cpu().flatten()\n",
    "            y = torch.from_numpy(batch[\"factual\"].values).float()\n",
    "            yhat_list.append(F.sigmoid(yhat))"
   ]
  },
  {
   "cell_type": "code",
   "execution_count": 29,
   "id": "3fc03da2-d7b6-4e97-8e36-b8f568f2cde9",
   "metadata": {},
   "outputs": [
    {
     "data": {
      "text/plain": [
       "tensor([0.5758, 0.6687, 0.5747,  ..., 0.7670, 0.6175, 0.6854])"
      ]
     },
     "execution_count": 29,
     "metadata": {},
     "output_type": "execute_result"
    }
   ],
   "source": [
    "torch.cat(yhat_list)"
   ]
  },
  {
   "cell_type": "code",
   "execution_count": 35,
   "id": "4bd2d9a3-2be9-4d79-9a12-49cd2c3c3d89",
   "metadata": {},
   "outputs": [],
   "source": [
    "from sklearn.metrics import roc_curve, roc_auc_score"
   ]
  },
  {
   "cell_type": "code",
   "execution_count": 40,
   "id": "9d3c4dee-a7cf-4495-8121-f013645b8b2d",
   "metadata": {},
   "outputs": [],
   "source": [
    "fpr, tpr, thresholds = roc_curve(data_test[\"factual\"].values, torch.cat(yhat_list))"
   ]
  },
  {
   "cell_type": "code",
   "execution_count": 41,
   "id": "f1cd0003-0c48-4454-90e3-870bbf977be6",
   "metadata": {},
   "outputs": [],
   "source": [
    "import matplotlib.pyplot as plt"
   ]
  },
  {
   "cell_type": "code",
   "execution_count": 44,
   "id": "b845275a-5b00-4946-8843-a1ecddabd493",
   "metadata": {},
   "outputs": [
    {
     "data": {
      "text/plain": [
       "[<matplotlib.lines.Line2D at 0x7f22f928ce50>]"
      ]
     },
     "execution_count": 44,
     "metadata": {},
     "output_type": "execute_result"
    },
    {
     "data": {
      "image/png": "[encoded data removed]",
      "text/plain": [
       "<Figure size 640x480 with 1 Axes>"
      ]
     },
     "metadata": {},
     "output_type": "display_data"
    }
   ],
   "source": [
    "plt.plot(tpr, fpr)"
   ]
  },
  {
   "cell_type": "code",
   "execution_count": 45,
   "id": "1855da1c-d1a2-4637-b4d3-23e4467c5bd3",
   "metadata": {},
   "outputs": [
    {
     "data": {
      "application/vnd.jupyter.widget-view+json": {
       "model_id": "2ee018b38f174e95ad48c02c7cf9d49a",
       "version_major": 2,
       "version_minor": 0
      },
      "text/plain": [
       "  0%|          | 0/370 [00:00<?, ?it/s]"
      ]
     },
     "metadata": {},
     "output_type": "display_data"
    },
    {
     "name": "stdout",
     "output_type": "stream",
     "text": [
      " 0.76319\n"
     ]
    }
   ],
   "source": [
    "nn.eval()\n",
    "with torch.no_grad():\n",
    "    total_correct = 0\n",
    "    total_so_far = 0\n",
    "    for batch in tqdm(chunk_df(data_test.sample(frac=1.), 100)):        \n",
    "        bait_ohe = from_loc_to_ohe_batch(batch, \"bait\")\n",
    "        other_ohe = from_loc_to_ohe_batch(batch, \"other\")\n",
    "        yhat = nn.forward(bait_ohe.float().cuda(), other_ohe.float().cuda())\n",
    "        yhat = yhat.cpu().flatten()\n",
    "        y = torch.from_numpy(batch[\"factual\"].values).float()\n",
    "        total_correct += sum((F.sigmoid(yhat) >= .5) == y)\n",
    "        total_so_far += len(y)\n",
    "        print(f\"{total_correct/total_so_far: .5f}\", end=\"\\r\")\n",
    "    print()"
   ]
  },
  {
   "cell_type": "code",
   "execution_count": 46,
   "id": "1e947ccf-0ef9-4b0e-9b4f-150d0b269e6e",
   "metadata": {},
   "outputs": [
    {
     "data": {
      "application/vnd.jupyter.widget-view+json": {
       "model_id": "dbbe1079e77f4d1aacc4784a7026d35c",
       "version_major": 2,
       "version_minor": 0
      },
      "text/plain": [
       "  0%|          | 0/370 [00:00<?, ?it/s]"
      ]
     },
     "metadata": {},
     "output_type": "display_data"
    },
    {
     "name": "stdout",
     "output_type": "stream",
     "text": [
      " 0.73840\n"
     ]
    }
   ],
   "source": [
    "nn.eval()\n",
    "with torch.no_grad():\n",
    "    total_correct = 0\n",
    "    total_so_far = 0\n",
    "    for batch in tqdm(chunk_df(data_test.sample(frac=1.), 100)):        \n",
    "        bait_ohe = from_loc_to_ohe_batch(batch, \"bait\")\n",
    "        other_ohe = from_loc_to_ohe_batch(batch, \"other\")\n",
    "        yhat = nn.forward(bait_ohe.float().cuda(), other_ohe.float().cuda())\n",
    "        yhat = yhat.cpu().flatten()\n",
    "        y = torch.from_numpy(batch[\"factual\"].values).float()\n",
    "        total_correct += sum((F.sigmoid(yhat) >= .5) == 1)\n",
    "        total_so_far += len(y)\n",
    "        print(f\"{total_correct/total_so_far: .5f}\", end=\"\\r\")\n",
    "    print()"
   ]
  },
  {
   "cell_type": "code",
   "execution_count": null,
   "id": "c848266a-8e67-43b8-8031-f21e1a1e4a9e",
   "metadata": {},
   "outputs": [],
   "source": []
  }
 ],
 "metadata": {
  "kernelspec": {
   "display_name": "Python 3 (ipykernel)",
   "language": "python",
   "name": "python3"
  },
  "language_info": {
   "codemirror_mode": {
    "name": "ipython",
    "version": 3
   },
   "file_extension": ".py",
   "mimetype": "text/x-python",
   "name": "python",
   "nbconvert_exporter": "python",
   "pygments_lexer": "ipython3",
   "version": "3.11.8"
  }
 },
 "nbformat": 4,
 "nbformat_minor": 5
}
