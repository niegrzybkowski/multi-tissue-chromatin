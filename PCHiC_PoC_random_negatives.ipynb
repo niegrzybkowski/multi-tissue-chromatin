{
 "cells": [
  {
   "cell_type": "code",
   "execution_count": 1,
   "id": "f2f1c178-0553-4605-a767-d95d01b11335",
   "metadata": {},
   "outputs": [],
   "source": [
    "import os\n",
    "import genomepy\n",
    "import pandas as pd\n",
    "from torch.nn import functional as F\n",
    "import torch\n",
    "import numpy as np"
   ]
  },
  {
   "cell_type": "code",
   "execution_count": 2,
   "id": "fdc3e33a-227c-4cce-8c01-490fae9caf59",
   "metadata": {},
   "outputs": [],
   "source": [
    "data = pd.read_table(\"data/pchic/0071_Blood - Non-activated CD4+ Cells_merged_loop.txt\")"
   ]
  },
  {
   "cell_type": "code",
   "execution_count": 3,
   "id": "e18a8b7c-a56b-4dcc-a44d-8e1c8d4735bc",
   "metadata": {},
   "outputs": [],
   "source": [
    "standard_size = 2048\n",
    "def expand_enrich_pchic(df):\n",
    "    df[[\"bait_frag_chr\", \"bait_frag_start\", \"bait_frag_end\"]] = df[\"bait_frag\"].str.split(\",\", expand=True)\n",
    "    df[[\"other_frag_chr\", \"other_frag_start\", \"other_frag_end\"]] = df[\"other_frag\"].str.split(\",\", expand=True)\n",
    "    df[\"bait_size\"] = np.abs(df[\"bait_frag_start\"].apply(int) - df[\"bait_frag_end\"].apply(int))\n",
    "    df[\"other_size\"] = np.abs(df[\"other_frag_start\"].apply(int) - df[\"other_frag_end\"].apply(int))\n",
    "    df[\"bait_frag_midpoint\"] = df.apply(lambda x: int((int(x[\"bait_frag_start\"]) + int(x[\"bait_frag_end\"])) / 2), axis=1)\n",
    "    df[\"bait_frag_standard_size_start\"] = df[\"bait_frag_midpoint\"] - standard_size\n",
    "    df[\"bait_frag_standard_size_end\"]   = df[\"bait_frag_midpoint\"] + standard_size - 1\n",
    "    df[\"other_frag_midpoint\"] = df.apply(lambda x: int((int(x[\"other_frag_start\"]) + int(x[\"other_frag_end\"])) / 2), axis=1)\n",
    "    df[\"other_frag_standard_size_start\"] = df[\"other_frag_midpoint\"] - standard_size\n",
    "    df[\"other_frag_standard_size_end\"]   = df[\"other_frag_midpoint\"] + standard_size - 1\n",
    "    negative_starting = df.loc[df[\"other_frag_standard_size_start\"] <= 0, \"other_frag_standard_size_start\"]\n",
    "    negative_ending = df.loc[df[\"other_frag_standard_size_start\"] <= 0, \"other_frag_standard_size_end\"]\n",
    "    df.loc[negative_starting.index, \"other_frag_standard_size_end\"] = (negative_ending - negative_starting + 1).apply(int)\n",
    "    df.loc[negative_starting.index, \"other_frag_standard_size_start\"] = 1\n",
    "    return df"
   ]
  },
  {
   "cell_type": "code",
   "execution_count": 4,
   "id": "497ad787-5f59-4712-92f3-e2a720743a52",
   "metadata": {},
   "outputs": [
    {
     "data": {
      "text/html": [
       "<div>\n",
       "<style scoped>\n",
       "    .dataframe tbody tr th:only-of-type {\n",
       "        vertical-align: middle;\n",
       "    }\n",
       "\n",
       "    .dataframe tbody tr th {\n",
       "        vertical-align: top;\n",
       "    }\n",
       "\n",
       "    .dataframe thead th {\n",
       "        text-align: right;\n",
       "    }\n",
       "</style>\n",
       "<table border=\"1\" class=\"dataframe\">\n",
       "  <thead>\n",
       "    <tr style=\"text-align: right;\">\n",
       "      <th></th>\n",
       "      <th>bait_frag</th>\n",
       "      <th>other_frag</th>\n",
       "      <th>N_reads</th>\n",
       "      <th>score</th>\n",
       "      <th>bait_gene</th>\n",
       "      <th>bait_gene_strand</th>\n",
       "      <th>oe_gene</th>\n",
       "      <th>oe_gene_strand</th>\n",
       "      <th>bait_closest_gene</th>\n",
       "      <th>bait_closest_gene_strand</th>\n",
       "      <th>...</th>\n",
       "      <th>other_frag_start</th>\n",
       "      <th>other_frag_end</th>\n",
       "      <th>bait_size</th>\n",
       "      <th>other_size</th>\n",
       "      <th>bait_frag_midpoint</th>\n",
       "      <th>bait_frag_standard_size_start</th>\n",
       "      <th>bait_frag_standard_size_end</th>\n",
       "      <th>other_frag_midpoint</th>\n",
       "      <th>other_frag_standard_size_start</th>\n",
       "      <th>other_frag_standard_size_end</th>\n",
       "    </tr>\n",
       "  </thead>\n",
       "  <tbody>\n",
       "    <tr>\n",
       "      <th>0</th>\n",
       "      <td>chr1,831895,848168</td>\n",
       "      <td>chr1,850619,874081</td>\n",
       "      <td>192</td>\n",
       "      <td>12.48</td>\n",
       "      <td>RP11-54O7.16,RP11-54O7.1</td>\n",
       "      <td>+</td>\n",
       "      <td>RP11-54O7.16,RP11-54O7.3,AL645608.1,SAMD11</td>\n",
       "      <td>+,-</td>\n",
       "      <td>RP11-54O7.16,RP11-54O7.1</td>\n",
       "      <td>+</td>\n",
       "      <td>...</td>\n",
       "      <td>850619</td>\n",
       "      <td>874081</td>\n",
       "      <td>16273</td>\n",
       "      <td>23462</td>\n",
       "      <td>840031</td>\n",
       "      <td>837983</td>\n",
       "      <td>842078</td>\n",
       "      <td>862350</td>\n",
       "      <td>860302</td>\n",
       "      <td>864397</td>\n",
       "    </tr>\n",
       "    <tr>\n",
       "      <th>1</th>\n",
       "      <td>chr1,831895,848168</td>\n",
       "      <td>chr1,1206874,1212438</td>\n",
       "      <td>11</td>\n",
       "      <td>5.73</td>\n",
       "      <td>RP11-54O7.16,RP11-54O7.1</td>\n",
       "      <td>+</td>\n",
       "      <td>UBE2J2,LINC01786</td>\n",
       "      <td>-,+</td>\n",
       "      <td>RP11-54O7.16,RP11-54O7.1</td>\n",
       "      <td>+</td>\n",
       "      <td>...</td>\n",
       "      <td>1206874</td>\n",
       "      <td>1212438</td>\n",
       "      <td>16273</td>\n",
       "      <td>5564</td>\n",
       "      <td>840031</td>\n",
       "      <td>837983</td>\n",
       "      <td>842078</td>\n",
       "      <td>1209656</td>\n",
       "      <td>1207608</td>\n",
       "      <td>1211703</td>\n",
       "    </tr>\n",
       "    <tr>\n",
       "      <th>2</th>\n",
       "      <td>chr1,927395,936954</td>\n",
       "      <td>chr1,1206874,1212438</td>\n",
       "      <td>23</td>\n",
       "      <td>5.57</td>\n",
       "      <td>RP11-54O7.17,HES4,ISG15</td>\n",
       "      <td>-,+</td>\n",
       "      <td>UBE2J2,LINC01786</td>\n",
       "      <td>-,+</td>\n",
       "      <td>RP11-54O7.17,HES4,ISG15</td>\n",
       "      <td>-,+</td>\n",
       "      <td>...</td>\n",
       "      <td>1206874</td>\n",
       "      <td>1212438</td>\n",
       "      <td>9559</td>\n",
       "      <td>5564</td>\n",
       "      <td>932174</td>\n",
       "      <td>930126</td>\n",
       "      <td>934221</td>\n",
       "      <td>1209656</td>\n",
       "      <td>1207608</td>\n",
       "      <td>1211703</td>\n",
       "    </tr>\n",
       "    <tr>\n",
       "      <th>3</th>\n",
       "      <td>chr1,943677,957199</td>\n",
       "      <td>chr1,1206874,1212438</td>\n",
       "      <td>20</td>\n",
       "      <td>6.04</td>\n",
       "      <td>ISG15,RP11-54O7.11,AGRN</td>\n",
       "      <td>+,-</td>\n",
       "      <td>UBE2J2,LINC01786</td>\n",
       "      <td>-,+</td>\n",
       "      <td>RP11-54O7.11,ISG15,AGRN</td>\n",
       "      <td>-,+</td>\n",
       "      <td>...</td>\n",
       "      <td>1206874</td>\n",
       "      <td>1212438</td>\n",
       "      <td>13522</td>\n",
       "      <td>5564</td>\n",
       "      <td>950438</td>\n",
       "      <td>948390</td>\n",
       "      <td>952485</td>\n",
       "      <td>1209656</td>\n",
       "      <td>1207608</td>\n",
       "      <td>1211703</td>\n",
       "    </tr>\n",
       "    <tr>\n",
       "      <th>4</th>\n",
       "      <td>chr1,1005127,1034268</td>\n",
       "      <td>chr1,903641,927394</td>\n",
       "      <td>26</td>\n",
       "      <td>8.61</td>\n",
       "      <td>RNF223,C1orf159</td>\n",
       "      <td>-</td>\n",
       "      <td>PLEKHN1,PERM1</td>\n",
       "      <td>+,-</td>\n",
       "      <td>RNF223,C1orf159</td>\n",
       "      <td>-</td>\n",
       "      <td>...</td>\n",
       "      <td>903641</td>\n",
       "      <td>927394</td>\n",
       "      <td>29141</td>\n",
       "      <td>23753</td>\n",
       "      <td>1019697</td>\n",
       "      <td>1017649</td>\n",
       "      <td>1021744</td>\n",
       "      <td>915517</td>\n",
       "      <td>913469</td>\n",
       "      <td>917564</td>\n",
       "    </tr>\n",
       "    <tr>\n",
       "      <th>...</th>\n",
       "      <td>...</td>\n",
       "      <td>...</td>\n",
       "      <td>...</td>\n",
       "      <td>...</td>\n",
       "      <td>...</td>\n",
       "      <td>...</td>\n",
       "      <td>...</td>\n",
       "      <td>...</td>\n",
       "      <td>...</td>\n",
       "      <td>...</td>\n",
       "      <td>...</td>\n",
       "      <td>...</td>\n",
       "      <td>...</td>\n",
       "      <td>...</td>\n",
       "      <td>...</td>\n",
       "      <td>...</td>\n",
       "      <td>...</td>\n",
       "      <td>...</td>\n",
       "      <td>...</td>\n",
       "      <td>...</td>\n",
       "      <td>...</td>\n",
       "    </tr>\n",
       "    <tr>\n",
       "      <th>215682</th>\n",
       "      <td>chrY,22732050,22743996</td>\n",
       "      <td>chrY,23423342,23424529</td>\n",
       "      <td>18</td>\n",
       "      <td>7.24</td>\n",
       "      <td>KDM5DP1,EIF1AY</td>\n",
       "      <td>-,+</td>\n",
       "      <td>NaN</td>\n",
       "      <td>NaN</td>\n",
       "      <td>KDM5DP1,EIF1AY</td>\n",
       "      <td>-,+</td>\n",
       "      <td>...</td>\n",
       "      <td>23423342</td>\n",
       "      <td>23424529</td>\n",
       "      <td>11946</td>\n",
       "      <td>1187</td>\n",
       "      <td>22738023</td>\n",
       "      <td>22735975</td>\n",
       "      <td>22740070</td>\n",
       "      <td>23423935</td>\n",
       "      <td>23421887</td>\n",
       "      <td>23425982</td>\n",
       "    </tr>\n",
       "    <tr>\n",
       "      <th>215683</th>\n",
       "      <td>chrY,22732050,22743996</td>\n",
       "      <td>chrY,23424530,23428951</td>\n",
       "      <td>15</td>\n",
       "      <td>6.34</td>\n",
       "      <td>KDM5DP1,EIF1AY</td>\n",
       "      <td>-,+</td>\n",
       "      <td>NaN</td>\n",
       "      <td>NaN</td>\n",
       "      <td>KDM5DP1,EIF1AY</td>\n",
       "      <td>-,+</td>\n",
       "      <td>...</td>\n",
       "      <td>23424530</td>\n",
       "      <td>23428951</td>\n",
       "      <td>11946</td>\n",
       "      <td>4421</td>\n",
       "      <td>22738023</td>\n",
       "      <td>22735975</td>\n",
       "      <td>22740070</td>\n",
       "      <td>23426740</td>\n",
       "      <td>23424692</td>\n",
       "      <td>23428787</td>\n",
       "    </tr>\n",
       "    <tr>\n",
       "      <th>215684</th>\n",
       "      <td>chrY,22732050,22743996</td>\n",
       "      <td>chrY,23428952,23431276</td>\n",
       "      <td>18</td>\n",
       "      <td>7.58</td>\n",
       "      <td>KDM5DP1,EIF1AY</td>\n",
       "      <td>-,+</td>\n",
       "      <td>NaN</td>\n",
       "      <td>NaN</td>\n",
       "      <td>KDM5DP1,EIF1AY</td>\n",
       "      <td>-,+</td>\n",
       "      <td>...</td>\n",
       "      <td>23428952</td>\n",
       "      <td>23431276</td>\n",
       "      <td>11946</td>\n",
       "      <td>2324</td>\n",
       "      <td>22738023</td>\n",
       "      <td>22735975</td>\n",
       "      <td>22740070</td>\n",
       "      <td>23430114</td>\n",
       "      <td>23428066</td>\n",
       "      <td>23432161</td>\n",
       "    </tr>\n",
       "    <tr>\n",
       "      <th>215685</th>\n",
       "      <td>chrY,22732050,22743996</td>\n",
       "      <td>chrY,23431277,23434441</td>\n",
       "      <td>14</td>\n",
       "      <td>5.51</td>\n",
       "      <td>KDM5DP1,EIF1AY</td>\n",
       "      <td>-,+</td>\n",
       "      <td>NaN</td>\n",
       "      <td>NaN</td>\n",
       "      <td>KDM5DP1,EIF1AY</td>\n",
       "      <td>-,+</td>\n",
       "      <td>...</td>\n",
       "      <td>23431277</td>\n",
       "      <td>23434441</td>\n",
       "      <td>11946</td>\n",
       "      <td>3164</td>\n",
       "      <td>22738023</td>\n",
       "      <td>22735975</td>\n",
       "      <td>22740070</td>\n",
       "      <td>23432859</td>\n",
       "      <td>23430811</td>\n",
       "      <td>23434906</td>\n",
       "    </tr>\n",
       "    <tr>\n",
       "      <th>215686</th>\n",
       "      <td>chrY,23612925,23614989</td>\n",
       "      <td>chrY,22732050,22743996</td>\n",
       "      <td>5</td>\n",
       "      <td>5.05</td>\n",
       "      <td>NaN</td>\n",
       "      <td>NaN</td>\n",
       "      <td>KDM5DP1,EIF1AY</td>\n",
       "      <td>-,+</td>\n",
       "      <td>RBMY2TP</td>\n",
       "      <td>-</td>\n",
       "      <td>...</td>\n",
       "      <td>22732050</td>\n",
       "      <td>22743996</td>\n",
       "      <td>2064</td>\n",
       "      <td>11946</td>\n",
       "      <td>23613957</td>\n",
       "      <td>23611909</td>\n",
       "      <td>23616004</td>\n",
       "      <td>22738023</td>\n",
       "      <td>22735975</td>\n",
       "      <td>22740070</td>\n",
       "    </tr>\n",
       "  </tbody>\n",
       "</table>\n",
       "<p>215687 rows × 26 columns</p>\n",
       "</div>"
      ],
      "text/plain": [
       "                     bait_frag              other_frag  N_reads  score  \\\n",
       "0           chr1,831895,848168      chr1,850619,874081      192  12.48   \n",
       "1           chr1,831895,848168    chr1,1206874,1212438       11   5.73   \n",
       "2           chr1,927395,936954    chr1,1206874,1212438       23   5.57   \n",
       "3           chr1,943677,957199    chr1,1206874,1212438       20   6.04   \n",
       "4         chr1,1005127,1034268      chr1,903641,927394       26   8.61   \n",
       "...                        ...                     ...      ...    ...   \n",
       "215682  chrY,22732050,22743996  chrY,23423342,23424529       18   7.24   \n",
       "215683  chrY,22732050,22743996  chrY,23424530,23428951       15   6.34   \n",
       "215684  chrY,22732050,22743996  chrY,23428952,23431276       18   7.58   \n",
       "215685  chrY,22732050,22743996  chrY,23431277,23434441       14   5.51   \n",
       "215686  chrY,23612925,23614989  chrY,22732050,22743996        5   5.05   \n",
       "\n",
       "                       bait_gene bait_gene_strand  \\\n",
       "0       RP11-54O7.16,RP11-54O7.1                +   \n",
       "1       RP11-54O7.16,RP11-54O7.1                +   \n",
       "2        RP11-54O7.17,HES4,ISG15              -,+   \n",
       "3        ISG15,RP11-54O7.11,AGRN              +,-   \n",
       "4                RNF223,C1orf159                -   \n",
       "...                          ...              ...   \n",
       "215682            KDM5DP1,EIF1AY              -,+   \n",
       "215683            KDM5DP1,EIF1AY              -,+   \n",
       "215684            KDM5DP1,EIF1AY              -,+   \n",
       "215685            KDM5DP1,EIF1AY              -,+   \n",
       "215686                       NaN              NaN   \n",
       "\n",
       "                                           oe_gene oe_gene_strand  \\\n",
       "0       RP11-54O7.16,RP11-54O7.3,AL645608.1,SAMD11            +,-   \n",
       "1                                 UBE2J2,LINC01786            -,+   \n",
       "2                                 UBE2J2,LINC01786            -,+   \n",
       "3                                 UBE2J2,LINC01786            -,+   \n",
       "4                                    PLEKHN1,PERM1            +,-   \n",
       "...                                            ...            ...   \n",
       "215682                                         NaN            NaN   \n",
       "215683                                         NaN            NaN   \n",
       "215684                                         NaN            NaN   \n",
       "215685                                         NaN            NaN   \n",
       "215686                              KDM5DP1,EIF1AY            -,+   \n",
       "\n",
       "               bait_closest_gene bait_closest_gene_strand  ...  \\\n",
       "0       RP11-54O7.16,RP11-54O7.1                        +  ...   \n",
       "1       RP11-54O7.16,RP11-54O7.1                        +  ...   \n",
       "2        RP11-54O7.17,HES4,ISG15                      -,+  ...   \n",
       "3        RP11-54O7.11,ISG15,AGRN                      -,+  ...   \n",
       "4                RNF223,C1orf159                        -  ...   \n",
       "...                          ...                      ...  ...   \n",
       "215682            KDM5DP1,EIF1AY                      -,+  ...   \n",
       "215683            KDM5DP1,EIF1AY                      -,+  ...   \n",
       "215684            KDM5DP1,EIF1AY                      -,+  ...   \n",
       "215685            KDM5DP1,EIF1AY                      -,+  ...   \n",
       "215686                   RBMY2TP                        -  ...   \n",
       "\n",
       "       other_frag_start other_frag_end bait_size other_size  \\\n",
       "0                850619         874081     16273      23462   \n",
       "1               1206874        1212438     16273       5564   \n",
       "2               1206874        1212438      9559       5564   \n",
       "3               1206874        1212438     13522       5564   \n",
       "4                903641         927394     29141      23753   \n",
       "...                 ...            ...       ...        ...   \n",
       "215682         23423342       23424529     11946       1187   \n",
       "215683         23424530       23428951     11946       4421   \n",
       "215684         23428952       23431276     11946       2324   \n",
       "215685         23431277       23434441     11946       3164   \n",
       "215686         22732050       22743996      2064      11946   \n",
       "\n",
       "       bait_frag_midpoint bait_frag_standard_size_start  \\\n",
       "0                  840031                        837983   \n",
       "1                  840031                        837983   \n",
       "2                  932174                        930126   \n",
       "3                  950438                        948390   \n",
       "4                 1019697                       1017649   \n",
       "...                   ...                           ...   \n",
       "215682           22738023                      22735975   \n",
       "215683           22738023                      22735975   \n",
       "215684           22738023                      22735975   \n",
       "215685           22738023                      22735975   \n",
       "215686           23613957                      23611909   \n",
       "\n",
       "       bait_frag_standard_size_end other_frag_midpoint  \\\n",
       "0                           842078              862350   \n",
       "1                           842078             1209656   \n",
       "2                           934221             1209656   \n",
       "3                           952485             1209656   \n",
       "4                          1021744              915517   \n",
       "...                            ...                 ...   \n",
       "215682                    22740070            23423935   \n",
       "215683                    22740070            23426740   \n",
       "215684                    22740070            23430114   \n",
       "215685                    22740070            23432859   \n",
       "215686                    23616004            22738023   \n",
       "\n",
       "        other_frag_standard_size_start  other_frag_standard_size_end  \n",
       "0                               860302                        864397  \n",
       "1                              1207608                       1211703  \n",
       "2                              1207608                       1211703  \n",
       "3                              1207608                       1211703  \n",
       "4                               913469                        917564  \n",
       "...                                ...                           ...  \n",
       "215682                        23421887                      23425982  \n",
       "215683                        23424692                      23428787  \n",
       "215684                        23428066                      23432161  \n",
       "215685                        23430811                      23434906  \n",
       "215686                        22735975                      22740070  \n",
       "\n",
       "[215687 rows x 26 columns]"
      ]
     },
     "execution_count": 4,
     "metadata": {},
     "output_type": "execute_result"
    }
   ],
   "source": [
    "expand_enrich_pchic(data)"
   ]
  },
  {
   "cell_type": "code",
   "execution_count": 5,
   "id": "ae0c96f2-e6d4-4bd1-b152-7e598e32373b",
   "metadata": {},
   "outputs": [
    {
     "name": "stderr",
     "output_type": "stream",
     "text": [
      "\u001b[32m13:25:23\u001b[0m \u001b[1m|\u001b[0m \u001b[34mINFO\u001b[0m \u001b[1m|\u001b[0m Downloading assembly summaries from UCSC\n"
     ]
    },
    {
     "data": {
      "text/plain": [
       "Fasta(\"/home/kacper/.local/share/genomes/hg19/hg19.fa\")"
      ]
     },
     "execution_count": 5,
     "metadata": {},
     "output_type": "execute_result"
    }
   ],
   "source": [
    "genomepy.install_genome(\"hg19\")"
   ]
  },
  {
   "cell_type": "code",
   "execution_count": 6,
   "id": "4b3ca2ac-ab1e-472f-906b-664ad68f307d",
   "metadata": {},
   "outputs": [],
   "source": [
    "hg = genomepy.Genome(\"hg19\")"
   ]
  },
  {
   "cell_type": "code",
   "execution_count": 7,
   "id": "4177732b-1506-49fb-afa9-235fa879a381",
   "metadata": {},
   "outputs": [],
   "source": [
    "def fasta_to_ohe_mapping(ascii_dna):\n",
    "        if ascii_dna == 65:  # A\n",
    "            return 1\n",
    "        if ascii_dna == 67:  # C\n",
    "            return 2\n",
    "        if ascii_dna == 71:  # G\n",
    "            return 3\n",
    "        if ascii_dna == 84:  # T\n",
    "            return 4\n",
    "        if ascii_dna == 97:  # a\n",
    "            return 1\n",
    "        if ascii_dna == 99:  # c\n",
    "            return 2\n",
    "        if ascii_dna == 103: # g\n",
    "            return 3\n",
    "        if ascii_dna == 116: # t\n",
    "            return 4\n",
    "        return 0 # Nn, anything else\n",
    "\n",
    "def from_loc_to_ohe(chr, start, end):\n",
    "    sequence = hg.get_seq(chr, start, end)\n",
    "    buffer = torch.frombuffer(sequence.seq.encode(), dtype=torch.uint8)\n",
    "    buffer = buffer.apply_(fasta_to_ohe_mapping)\n",
    "    atcg_mask = buffer != 0 # 1 if actg, 0 otherwise\n",
    "    buffer -= atcg_mask * 1 # offset indexing for atcg so it starts at 0 instead of 1\n",
    "                            # this is needed to have the \"others\" be a 0000 row in OHE\n",
    "    return (\n",
    "        F.one_hot(buffer.long(), num_classes=4).T * atcg_mask # OHE and mask others\n",
    "    )"
   ]
  },
  {
   "cell_type": "code",
   "execution_count": 8,
   "id": "1e726331-dde5-44ac-b2b7-94567750619e",
   "metadata": {},
   "outputs": [],
   "source": [
    "df_counterfactuals = expand_enrich_pchic(pd.read_csv(\"data/intermediates/random_negatives.csv\"))"
   ]
  },
  {
   "cell_type": "code",
   "execution_count": 9,
   "id": "a9a51ddf-298b-436b-83a3-82d842e2e32b",
   "metadata": {},
   "outputs": [],
   "source": [
    "data[\"factual\"] = 1\n",
    "df_counterfactuals[\"factual\"] = 0"
   ]
  },
  {
   "cell_type": "code",
   "execution_count": 10,
   "id": "a83f4577-d6a9-4569-a696-dc29c25d177a",
   "metadata": {},
   "outputs": [],
   "source": [
    "combined = pd.concat((\n",
    "    data[[\n",
    "        \"bait_frag_chr\",\n",
    "        \"bait_frag_standard_size_start\", \n",
    "        \"bait_frag_standard_size_end\", \n",
    "        \"other_frag_chr\",\n",
    "        \"other_frag_standard_size_start\", \n",
    "        \"other_frag_standard_size_end\", \n",
    "        \"factual\"\n",
    "    ]],\n",
    "    df_counterfactuals[[\n",
    "        \"bait_frag_chr\",\n",
    "        \"bait_frag_standard_size_start\", \n",
    "        \"bait_frag_standard_size_end\", \n",
    "        \"other_frag_chr\",\n",
    "        \"other_frag_standard_size_start\", \n",
    "        \"other_frag_standard_size_end\", \n",
    "        \"factual\"\n",
    "    ]],\n",
    "))"
   ]
  },
  {
   "cell_type": "code",
   "execution_count": 66,
   "id": "34c11da7-fbf3-4c8b-b271-d1c23026a454",
   "metadata": {},
   "outputs": [],
   "source": [
    "data_train = combined.sample(frac=0.75)\n",
    "data_test = combined.drop(data_train.index)\n",
    "data_train = data_train.reset_index()\n",
    "data_test = data_test.reset_index()"
   ]
  },
  {
   "cell_type": "code",
   "execution_count": 67,
   "id": "a86a756a-f6cc-451b-bf63-f261411e66ca",
   "metadata": {},
   "outputs": [],
   "source": [
    "def make_conv_block():\n",
    "    return torch.nn.Sequential(\n",
    "        torch.nn.Conv1d(96, 96, 5, padding=2),\n",
    "        torch.nn.BatchNorm1d(96),\n",
    "        torch.nn.ReLU(inplace=True),\n",
    "        torch.nn.MaxPool1d(2)\n",
    "    )"
   ]
  },
  {
   "cell_type": "code",
   "execution_count": 68,
   "id": "4849c28d-d745-4763-8795-b6859d65a528",
   "metadata": {},
   "outputs": [],
   "source": [
    "def make_conv_stack():\n",
    "    return torch.nn.Sequential(\n",
    "        torch.nn.Sequential(\n",
    "            torch.nn.Conv1d(4, 96, 11, padding=5),\n",
    "            torch.nn.BatchNorm1d(96),\n",
    "            torch.nn.ReLU(inplace=True),\n",
    "            torch.nn.MaxPool1d(2)\n",
    "        ),\n",
    "        *[make_conv_block() for _ in range(4)]\n",
    "    )"
   ]
  },
  {
   "cell_type": "code",
   "execution_count": 69,
   "id": "ee43d7ca-e646-4396-9e39-ca75ef0ea7f7",
   "metadata": {},
   "outputs": [],
   "source": [
    "class DilatedResidualConvolution(torch.nn.Module):\n",
    "    def __init__(self, dilation, dropout_rate=0.25):\n",
    "        super(DilatedResidualConvolution, self).__init__()\n",
    "        self.dilate_block = torch.nn.Sequential(\n",
    "            torch.nn.Conv1d(96, 48, 3, padding=dilation, dilation=dilation),\n",
    "            torch.nn.BatchNorm1d(48),\n",
    "            torch.nn.ReLU(inplace=True),\n",
    "        )\n",
    "        self.return_block = torch.nn.Sequential(\n",
    "            torch.nn.Conv1d(48, 96, 3, padding=dilation, dilation=dilation),\n",
    "            torch.nn.BatchNorm1d(96),\n",
    "            torch.nn.Dropout(dropout_rate)\n",
    "        )\n",
    "        self.relu = torch.nn.ReLU(inplace=True)\n",
    "\n",
    "    def forward(self, x):\n",
    "        identity = x \n",
    "        x = self.dilate_block(x)\n",
    "        x = self.return_block(x)\n",
    "        x += identity\n",
    "        x = self.relu(x)\n",
    "        return x\n"
   ]
  },
  {
   "cell_type": "code",
   "execution_count": 70,
   "id": "575cdf24-5784-429a-a809-4c740a96951e",
   "metadata": {},
   "outputs": [],
   "source": [
    "def make_dilation_stack():\n",
    "    return torch.nn.Sequential(\n",
    "        *[DilatedResidualConvolution(2**i) for i in range(1, 5)]\n",
    "    )"
   ]
  },
  {
   "cell_type": "code",
   "execution_count": 22,
   "id": "dc18bdca-077a-457e-8fe6-d066f057635f",
   "metadata": {},
   "outputs": [],
   "source": [
    "class PoCNetAkitalike(torch.nn.Module):\n",
    "    def __init__(self):\n",
    "        super(PoCNetAkitalike, self).__init__()\n",
    "        self.bait_block = torch.nn.Sequential(\n",
    "            make_conv_stack(),\n",
    "            # make_dilation_stack()\n",
    "        )\n",
    "        self.other_block = torch.nn.Sequential(\n",
    "            make_conv_stack(),\n",
    "            # make_dilation_stack()\n",
    "        )\n",
    "    \n",
    "        self.fc1 = torch.nn.Linear(2 * 96 * 128, 4096)\n",
    "        self.fc2 = torch.nn.Linear(4096, 4096)\n",
    "        self.fc3 = torch.nn.Linear(4096, 1)\n",
    "\n",
    "    def forward(self, x_1, x_2):\n",
    "        x_1 = self.bait_block(x_1)\n",
    "        x_1 = torch.flatten(x_1, start_dim=1)\n",
    "\n",
    "        x_2 = self.other_block(x_2)\n",
    "        x_2 = torch.flatten(x_2, start_dim=1)\n",
    "        \n",
    "        x = torch.concat((x_1, x_2), dim=1)\n",
    "        x = self.fc1(x)\n",
    "        x = F.relu(x)\n",
    "        x = self.fc2(x)\n",
    "        x = F.relu(x)\n",
    "        x = self.fc3(x)\n",
    "        # x = F.sigmoid(x)\n",
    "        return x"
   ]
  },
  {
   "cell_type": "code",
   "execution_count": 23,
   "id": "1a1f8f03-4867-4e37-8d04-8043cc61465d",
   "metadata": {},
   "outputs": [],
   "source": [
    "model = PoCNetAkitalike().cuda()"
   ]
  },
  {
   "cell_type": "code",
   "execution_count": 42,
   "id": "69bd7b16-ab2d-400e-9146-e29668b32381",
   "metadata": {},
   "outputs": [],
   "source": [
    "loss_function = torch.nn.BCEWithLogitsLoss()\n",
    "optimizer = torch.optim.Adam(model.parameters(), lr=1e-5)"
   ]
  },
  {
   "cell_type": "code",
   "execution_count": 25,
   "id": "9674b1a1-d463-4bcb-9355-9d1b5b050144",
   "metadata": {},
   "outputs": [],
   "source": [
    "def chunk_df(df, n):\n",
    "    return [df[i:i+n] for i in range(0,df.shape[0],n)]\n",
    "\n",
    "def from_loc_to_ohe_batch(df, prefix: [\"bait\", \"other\"]):\n",
    "    return torch.stack([\n",
    "        from_loc_to_ohe(row[f\"{prefix}_frag_chr\"], row[f\"{prefix}_frag_standard_size_start\"], row[f\"{prefix}_frag_standard_size_end\"])\n",
    "        for _, row in df.iterrows()\n",
    "    ])"
   ]
  },
  {
   "cell_type": "code",
   "execution_count": 43,
   "id": "508c4607-3de4-4494-86f4-cef6a2f37fae",
   "metadata": {},
   "outputs": [],
   "source": [
    "torch.cuda.empty_cache()"
   ]
  },
  {
   "cell_type": "code",
   "execution_count": 44,
   "id": "95b5e234-ee50-4cde-a2aa-4b39dcd099de",
   "metadata": {},
   "outputs": [
    {
     "data": {
      "application/vnd.jupyter.widget-view+json": {
       "model_id": "50d575cd825b4126ace4e775e2984f9a",
       "version_major": 2,
       "version_minor": 0
      },
      "text/plain": [
       "  0%|          | 0/4739 [00:00<?, ?it/s]"
      ]
     },
     "metadata": {},
     "output_type": "display_data"
    },
    {
     "name": "stderr",
     "output_type": "stream",
     "text": [
      "/home/kacper/.pyenv/versions/3.11.8/lib/python3.11/site-packages/torch/nn/functional.py:1967: UserWarning: nn.functional.sigmoid is deprecated. Use torch.sigmoid instead.\n",
      "  warnings.warn(\"nn.functional.sigmoid is deprecated. Use torch.sigmoid instead.\")\n"
     ]
    },
    {
     "name": "stdout",
     "output_type": "stream",
     "text": [
      "Loss:  0.60805 Accuracy 0.71429 Ones% 0.14286\n"
     ]
    },
    {
     "data": {
      "application/vnd.jupyter.widget-view+json": {
       "model_id": "77b950d5207543bdbac5c45b96c55d1b",
       "version_major": 2,
       "version_minor": 0
      },
      "text/plain": [
       "  0%|          | 0/236 [00:00<?, ?it/s]"
      ]
     },
     "metadata": {},
     "output_type": "display_data"
    },
    {
     "name": "stdout",
     "output_type": "stream",
     "text": [
      " 0.60662\n"
     ]
    },
    {
     "data": {
      "application/vnd.jupyter.widget-view+json": {
       "model_id": "6ce088106d4843c4a9c521e1654ab21c",
       "version_major": 2,
       "version_minor": 0
      },
      "text/plain": [
       "  0%|          | 0/4739 [00:00<?, ?it/s]"
      ]
     },
     "metadata": {},
     "output_type": "display_data"
    },
    {
     "name": "stdout",
     "output_type": "stream",
     "text": [
      "Loss:  0.59937 Accuracy 0.69643 Ones% 0.30357\n"
     ]
    },
    {
     "data": {
      "application/vnd.jupyter.widget-view+json": {
       "model_id": "dd9518014f0e48329737f804ee66488f",
       "version_major": 2,
       "version_minor": 0
      },
      "text/plain": [
       "  0%|          | 0/236 [00:00<?, ?it/s]"
      ]
     },
     "metadata": {},
     "output_type": "display_data"
    },
    {
     "name": "stdout",
     "output_type": "stream",
     "text": [
      " 0.60811\n"
     ]
    },
    {
     "data": {
      "application/vnd.jupyter.widget-view+json": {
       "model_id": "755cae61c808453299d2c1d2a8d7cb68",
       "version_major": 2,
       "version_minor": 0
      },
      "text/plain": [
       "  0%|          | 0/4739 [00:00<?, ?it/s]"
      ]
     },
     "metadata": {},
     "output_type": "display_data"
    },
    {
     "name": "stdout",
     "output_type": "stream",
     "text": [
      "Loss:  0.33785 Accuracy 0.94643 Ones% 0.35714\n"
     ]
    },
    {
     "data": {
      "application/vnd.jupyter.widget-view+json": {
       "model_id": "2283ffcfee4f44f29054cb4de773bdd8",
       "version_major": 2,
       "version_minor": 0
      },
      "text/plain": [
       "  0%|          | 0/236 [00:00<?, ?it/s]"
      ]
     },
     "metadata": {},
     "output_type": "display_data"
    },
    {
     "name": "stdout",
     "output_type": "stream",
     "text": [
      " 0.59566\n"
     ]
    },
    {
     "data": {
      "application/vnd.jupyter.widget-view+json": {
       "model_id": "a55e8dcb477a4504986e9778bf90aa20",
       "version_major": 2,
       "version_minor": 0
      },
      "text/plain": [
       "  0%|          | 0/4739 [00:00<?, ?it/s]"
      ]
     },
     "metadata": {},
     "output_type": "display_data"
    },
    {
     "name": "stdout",
     "output_type": "stream",
     "text": [
      "Loss:  0.35886 Accuracy 0.83929 Ones% 0.51786\n"
     ]
    },
    {
     "data": {
      "application/vnd.jupyter.widget-view+json": {
       "model_id": "7b5d2cafb771473c85f9844650df9323",
       "version_major": 2,
       "version_minor": 0
      },
      "text/plain": [
       "  0%|          | 0/236 [00:00<?, ?it/s]"
      ]
     },
     "metadata": {},
     "output_type": "display_data"
    },
    {
     "name": "stdout",
     "output_type": "stream",
     "text": [
      " 0.58890\n"
     ]
    },
    {
     "data": {
      "application/vnd.jupyter.widget-view+json": {
       "model_id": "7160f17c1cda4fd7853056c275ed2bb6",
       "version_major": 2,
       "version_minor": 0
      },
      "text/plain": [
       "  0%|          | 0/4739 [00:00<?, ?it/s]"
      ]
     },
     "metadata": {},
     "output_type": "display_data"
    },
    {
     "name": "stdout",
     "output_type": "stream",
     "text": [
      "Loss:  0.19438 Accuracy 0.92857 Ones% 0.46429\n"
     ]
    },
    {
     "data": {
      "application/vnd.jupyter.widget-view+json": {
       "model_id": "e345091f5b9d46a68e5e3a56d8748da8",
       "version_major": 2,
       "version_minor": 0
      },
      "text/plain": [
       "  0%|          | 0/236 [00:00<?, ?it/s]"
      ]
     },
     "metadata": {},
     "output_type": "display_data"
    },
    {
     "name": "stdout",
     "output_type": "stream",
     "text": [
      " 0.58392\n"
     ]
    },
    {
     "data": {
      "application/vnd.jupyter.widget-view+json": {
       "model_id": "83dc0f31aaef4aed91199b61d4100aed",
       "version_major": 2,
       "version_minor": 0
      },
      "text/plain": [
       "  0%|          | 0/4739 [00:00<?, ?it/s]"
      ]
     },
     "metadata": {},
     "output_type": "display_data"
    },
    {
     "name": "stdout",
     "output_type": "stream",
     "text": [
      "Loss:  0.16446 Accuracy 0.92000 Ones% 0.47000\r"
     ]
    },
    {
     "ename": "KeyboardInterrupt",
     "evalue": "",
     "output_type": "error",
     "traceback": [
      "\u001b[0;31m---------------------------------------------------------------------------\u001b[0m",
      "\u001b[0;31mKeyboardInterrupt\u001b[0m                         Traceback (most recent call last)",
      "Cell \u001b[0;32mIn[44], line 9\u001b[0m\n\u001b[1;32m      6\u001b[0m \u001b[38;5;28;01mfor\u001b[39;00m batch \u001b[38;5;129;01min\u001b[39;00m tqdm(chunk_df(data_train\u001b[38;5;241m.\u001b[39msample(frac\u001b[38;5;241m=\u001b[39m\u001b[38;5;241m1.\u001b[39m), \u001b[38;5;241m100\u001b[39m)):\n\u001b[1;32m      7\u001b[0m     optimizer\u001b[38;5;241m.\u001b[39mzero_grad()\n\u001b[0;32m----> 9\u001b[0m     bait_ohe \u001b[38;5;241m=\u001b[39m \u001b[43mfrom_loc_to_ohe_batch\u001b[49m\u001b[43m(\u001b[49m\u001b[43mbatch\u001b[49m\u001b[43m,\u001b[49m\u001b[43m \u001b[49m\u001b[38;5;124;43m\"\u001b[39;49m\u001b[38;5;124;43mbait\u001b[39;49m\u001b[38;5;124;43m\"\u001b[39;49m\u001b[43m)\u001b[49m\n\u001b[1;32m     10\u001b[0m     other_ohe \u001b[38;5;241m=\u001b[39m from_loc_to_ohe_batch(batch, \u001b[38;5;124m\"\u001b[39m\u001b[38;5;124mother\u001b[39m\u001b[38;5;124m\"\u001b[39m)\n\u001b[1;32m     11\u001b[0m     yhat \u001b[38;5;241m=\u001b[39m model\u001b[38;5;241m.\u001b[39mforward(bait_ohe\u001b[38;5;241m.\u001b[39mfloat()\u001b[38;5;241m.\u001b[39mcuda(), other_ohe\u001b[38;5;241m.\u001b[39mfloat()\u001b[38;5;241m.\u001b[39mcuda())\n",
      "Cell \u001b[0;32mIn[25], line 5\u001b[0m, in \u001b[0;36mfrom_loc_to_ohe_batch\u001b[0;34m(df, prefix)\u001b[0m\n\u001b[1;32m      4\u001b[0m \u001b[38;5;28;01mdef\u001b[39;00m \u001b[38;5;21mfrom_loc_to_ohe_batch\u001b[39m(df, prefix: [\u001b[38;5;124m\"\u001b[39m\u001b[38;5;124mbait\u001b[39m\u001b[38;5;124m\"\u001b[39m, \u001b[38;5;124m\"\u001b[39m\u001b[38;5;124mother\u001b[39m\u001b[38;5;124m\"\u001b[39m]):\n\u001b[0;32m----> 5\u001b[0m     \u001b[38;5;28;01mreturn\u001b[39;00m torch\u001b[38;5;241m.\u001b[39mstack(\u001b[43m[\u001b[49m\n\u001b[1;32m      6\u001b[0m \u001b[43m        \u001b[49m\u001b[43mfrom_loc_to_ohe\u001b[49m\u001b[43m(\u001b[49m\u001b[43mrow\u001b[49m\u001b[43m[\u001b[49m\u001b[38;5;124;43mf\u001b[39;49m\u001b[38;5;124;43m\"\u001b[39;49m\u001b[38;5;132;43;01m{\u001b[39;49;00m\u001b[43mprefix\u001b[49m\u001b[38;5;132;43;01m}\u001b[39;49;00m\u001b[38;5;124;43m_frag_chr\u001b[39;49m\u001b[38;5;124;43m\"\u001b[39;49m\u001b[43m]\u001b[49m\u001b[43m,\u001b[49m\u001b[43m \u001b[49m\u001b[43mrow\u001b[49m\u001b[43m[\u001b[49m\u001b[38;5;124;43mf\u001b[39;49m\u001b[38;5;124;43m\"\u001b[39;49m\u001b[38;5;132;43;01m{\u001b[39;49;00m\u001b[43mprefix\u001b[49m\u001b[38;5;132;43;01m}\u001b[39;49;00m\u001b[38;5;124;43m_frag_standard_size_start\u001b[39;49m\u001b[38;5;124;43m\"\u001b[39;49m\u001b[43m]\u001b[49m\u001b[43m,\u001b[49m\u001b[43m \u001b[49m\u001b[43mrow\u001b[49m\u001b[43m[\u001b[49m\u001b[38;5;124;43mf\u001b[39;49m\u001b[38;5;124;43m\"\u001b[39;49m\u001b[38;5;132;43;01m{\u001b[39;49;00m\u001b[43mprefix\u001b[49m\u001b[38;5;132;43;01m}\u001b[39;49;00m\u001b[38;5;124;43m_frag_standard_size_end\u001b[39;49m\u001b[38;5;124;43m\"\u001b[39;49m\u001b[43m]\u001b[49m\u001b[43m)\u001b[49m\n\u001b[1;32m      7\u001b[0m \u001b[43m        \u001b[49m\u001b[38;5;28;43;01mfor\u001b[39;49;00m\u001b[43m \u001b[49m\u001b[43m_\u001b[49m\u001b[43m,\u001b[49m\u001b[43m \u001b[49m\u001b[43mrow\u001b[49m\u001b[43m \u001b[49m\u001b[38;5;129;43;01min\u001b[39;49;00m\u001b[43m \u001b[49m\u001b[43mdf\u001b[49m\u001b[38;5;241;43m.\u001b[39;49m\u001b[43miterrows\u001b[49m\u001b[43m(\u001b[49m\u001b[43m)\u001b[49m\n\u001b[1;32m      8\u001b[0m \u001b[43m    \u001b[49m\u001b[43m]\u001b[49m)\n",
      "Cell \u001b[0;32mIn[25], line 6\u001b[0m, in \u001b[0;36m<listcomp>\u001b[0;34m(.0)\u001b[0m\n\u001b[1;32m      4\u001b[0m \u001b[38;5;28;01mdef\u001b[39;00m \u001b[38;5;21mfrom_loc_to_ohe_batch\u001b[39m(df, prefix: [\u001b[38;5;124m\"\u001b[39m\u001b[38;5;124mbait\u001b[39m\u001b[38;5;124m\"\u001b[39m, \u001b[38;5;124m\"\u001b[39m\u001b[38;5;124mother\u001b[39m\u001b[38;5;124m\"\u001b[39m]):\n\u001b[1;32m      5\u001b[0m     \u001b[38;5;28;01mreturn\u001b[39;00m torch\u001b[38;5;241m.\u001b[39mstack([\n\u001b[0;32m----> 6\u001b[0m         \u001b[43mfrom_loc_to_ohe\u001b[49m\u001b[43m(\u001b[49m\u001b[43mrow\u001b[49m\u001b[43m[\u001b[49m\u001b[38;5;124;43mf\u001b[39;49m\u001b[38;5;124;43m\"\u001b[39;49m\u001b[38;5;132;43;01m{\u001b[39;49;00m\u001b[43mprefix\u001b[49m\u001b[38;5;132;43;01m}\u001b[39;49;00m\u001b[38;5;124;43m_frag_chr\u001b[39;49m\u001b[38;5;124;43m\"\u001b[39;49m\u001b[43m]\u001b[49m\u001b[43m,\u001b[49m\u001b[43m \u001b[49m\u001b[43mrow\u001b[49m\u001b[43m[\u001b[49m\u001b[38;5;124;43mf\u001b[39;49m\u001b[38;5;124;43m\"\u001b[39;49m\u001b[38;5;132;43;01m{\u001b[39;49;00m\u001b[43mprefix\u001b[49m\u001b[38;5;132;43;01m}\u001b[39;49;00m\u001b[38;5;124;43m_frag_standard_size_start\u001b[39;49m\u001b[38;5;124;43m\"\u001b[39;49m\u001b[43m]\u001b[49m\u001b[43m,\u001b[49m\u001b[43m \u001b[49m\u001b[43mrow\u001b[49m\u001b[43m[\u001b[49m\u001b[38;5;124;43mf\u001b[39;49m\u001b[38;5;124;43m\"\u001b[39;49m\u001b[38;5;132;43;01m{\u001b[39;49;00m\u001b[43mprefix\u001b[49m\u001b[38;5;132;43;01m}\u001b[39;49;00m\u001b[38;5;124;43m_frag_standard_size_end\u001b[39;49m\u001b[38;5;124;43m\"\u001b[39;49m\u001b[43m]\u001b[49m\u001b[43m)\u001b[49m\n\u001b[1;32m      7\u001b[0m         \u001b[38;5;28;01mfor\u001b[39;00m _, row \u001b[38;5;129;01min\u001b[39;00m df\u001b[38;5;241m.\u001b[39miterrows()\n\u001b[1;32m      8\u001b[0m     ])\n",
      "Cell \u001b[0;32mIn[7], line 23\u001b[0m, in \u001b[0;36mfrom_loc_to_ohe\u001b[0;34m(chr, start, end)\u001b[0m\n\u001b[1;32m     21\u001b[0m sequence \u001b[38;5;241m=\u001b[39m hg\u001b[38;5;241m.\u001b[39mget_seq(\u001b[38;5;28mchr\u001b[39m, start, end)\n\u001b[1;32m     22\u001b[0m buffer \u001b[38;5;241m=\u001b[39m torch\u001b[38;5;241m.\u001b[39mfrombuffer(sequence\u001b[38;5;241m.\u001b[39mseq\u001b[38;5;241m.\u001b[39mencode(), dtype\u001b[38;5;241m=\u001b[39mtorch\u001b[38;5;241m.\u001b[39muint8)\n\u001b[0;32m---> 23\u001b[0m buffer \u001b[38;5;241m=\u001b[39m \u001b[43mbuffer\u001b[49m\u001b[38;5;241;43m.\u001b[39;49m\u001b[43mapply_\u001b[49m\u001b[43m(\u001b[49m\u001b[43mfasta_to_ohe_mapping\u001b[49m\u001b[43m)\u001b[49m\n\u001b[1;32m     24\u001b[0m atcg_mask \u001b[38;5;241m=\u001b[39m buffer \u001b[38;5;241m!=\u001b[39m \u001b[38;5;241m0\u001b[39m \u001b[38;5;66;03m# 1 if actg, 0 otherwise\u001b[39;00m\n\u001b[1;32m     25\u001b[0m buffer \u001b[38;5;241m-\u001b[39m\u001b[38;5;241m=\u001b[39m atcg_mask \u001b[38;5;241m*\u001b[39m \u001b[38;5;241m1\u001b[39m \u001b[38;5;66;03m# offset indexing for atcg so it starts at 0 instead of 1\u001b[39;00m\n",
      "Cell \u001b[0;32mIn[7], line 1\u001b[0m, in \u001b[0;36mfasta_to_ohe_mapping\u001b[0;34m(ascii_dna)\u001b[0m\n\u001b[0;32m----> 1\u001b[0m \u001b[38;5;28;01mdef\u001b[39;00m \u001b[38;5;21mfasta_to_ohe_mapping\u001b[39m(ascii_dna):\n\u001b[1;32m      2\u001b[0m         \u001b[38;5;28;01mif\u001b[39;00m ascii_dna \u001b[38;5;241m==\u001b[39m \u001b[38;5;241m65\u001b[39m:  \u001b[38;5;66;03m# A\u001b[39;00m\n\u001b[1;32m      3\u001b[0m             \u001b[38;5;28;01mreturn\u001b[39;00m \u001b[38;5;241m1\u001b[39m\n",
      "\u001b[0;31mKeyboardInterrupt\u001b[0m: "
     ]
    }
   ],
   "source": [
    "model.train(True)\n",
    "from tqdm.notebook import tqdm\n",
    "\n",
    "for epoch in range(1, 200):\n",
    "    model.train(True)\n",
    "    for batch in tqdm(chunk_df(data_train.sample(frac=1.), 100)):\n",
    "        optimizer.zero_grad()\n",
    "        \n",
    "        bait_ohe = from_loc_to_ohe_batch(batch, \"bait\")\n",
    "        other_ohe = from_loc_to_ohe_batch(batch, \"other\")\n",
    "        yhat = model.forward(bait_ohe.float().cuda(), other_ohe.float().cuda())\n",
    "        yhat = yhat.cpu().flatten()\n",
    "        y = torch.from_numpy(batch[\"factual\"].values).float()\n",
    "        loss = loss_function(yhat, y)\n",
    "        loss.backward()\n",
    "        optimizer.step()\n",
    "        print(f\"Loss: {loss: .5f} Accuracy {sum((F.sigmoid(yhat) >= .5) == y)/len(y):.5f} Ones% {sum((F.sigmoid(yhat) >= .5) == 1)/len(y):.5f}\", end=\"\\r\")\n",
    "    print()\n",
    "    model.eval()\n",
    "    with torch.no_grad():\n",
    "        total_correct = 0\n",
    "        total_so_far = 0\n",
    "        for batch in tqdm(chunk_df(data_test.sample(frac=1.), 100)):        \n",
    "            bait_ohe = from_loc_to_ohe_batch(batch, \"bait\")\n",
    "            other_ohe = from_loc_to_ohe_batch(batch, \"other\")\n",
    "            yhat = model.forward(bait_ohe.float().cuda(), other_ohe.float().cuda())\n",
    "            yhat = yhat.cpu().flatten()\n",
    "            y = torch.from_numpy(batch[\"factual\"].values).float()\n",
    "            total_correct += sum((F.sigmoid(yhat) >= .5) == y)\n",
    "            total_so_far += len(y)\n",
    "        print(f\"{total_correct/total_so_far: .5f}\", end=\"\\r\")\n",
    "    print()"
   ]
  },
  {
   "cell_type": "code",
   "execution_count": 45,
   "id": "1fcd87d5-aa8b-453d-bb9b-a472066e3c64",
   "metadata": {},
   "outputs": [
    {
     "data": {
      "application/vnd.jupyter.widget-view+json": {
       "model_id": "2f49694b2fa84399824a005d033d9316",
       "version_major": 2,
       "version_minor": 0
      },
      "text/plain": [
       "  0%|          | 0/236 [00:00<?, ?it/s]"
      ]
     },
     "metadata": {},
     "output_type": "display_data"
    }
   ],
   "source": [
    "model.eval()\n",
    "yhat_list = []\n",
    "with torch.no_grad():\n",
    "        for batch in tqdm(chunk_df(data_test, 100)):        \n",
    "            bait_ohe = from_loc_to_ohe_batch(batch, \"bait\")\n",
    "            other_ohe = from_loc_to_ohe_batch(batch, \"other\")\n",
    "            yhat = model.forward(bait_ohe.float().cuda(), other_ohe.float().cuda())\n",
    "            yhat = yhat.cpu().flatten()\n",
    "            y = torch.from_numpy(batch[\"factual\"].values).float()\n",
    "            yhat_list.append(F.sigmoid(yhat))"
   ]
  },
  {
   "cell_type": "code",
   "execution_count": 46,
   "id": "10ad4115-5ef2-4cab-9615-37df9ceb692e",
   "metadata": {},
   "outputs": [
    {
     "data": {
      "text/plain": [
       "0.5865176180558507"
      ]
     },
     "execution_count": 46,
     "metadata": {},
     "output_type": "execute_result"
    }
   ],
   "source": [
    "np.mean(((torch.cat(yhat_list) >= .5) +0).numpy() == data_test[\"factual\"].values)"
   ]
  },
  {
   "cell_type": "code",
   "execution_count": 47,
   "id": "4bd2d9a3-2be9-4d79-9a12-49cd2c3c3d89",
   "metadata": {},
   "outputs": [],
   "source": [
    "from sklearn.metrics import roc_curve, roc_auc_score"
   ]
  },
  {
   "cell_type": "code",
   "execution_count": 48,
   "id": "5f6bfa47-8947-4d45-8dfe-f655aae03b80",
   "metadata": {},
   "outputs": [
    {
     "data": {
      "text/plain": [
       "0.5929934751809751"
      ]
     },
     "execution_count": 48,
     "metadata": {},
     "output_type": "execute_result"
    }
   ],
   "source": [
    "roc_auc_score(data_test[\"factual\"].values, torch.cat(yhat_list))"
   ]
  },
  {
   "cell_type": "code",
   "execution_count": 49,
   "id": "9d3c4dee-a7cf-4495-8121-f013645b8b2d",
   "metadata": {},
   "outputs": [],
   "source": [
    "fpr, tpr, thresholds = roc_curve(data_test[\"factual\"].values, torch.cat(yhat_list))"
   ]
  },
  {
   "cell_type": "code",
   "execution_count": 50,
   "id": "f1cd0003-0c48-4454-90e3-870bbf977be6",
   "metadata": {},
   "outputs": [],
   "source": [
    "import matplotlib.pyplot as plt"
   ]
  },
  {
   "cell_type": "code",
   "execution_count": 51,
   "id": "b845275a-5b00-4946-8843-a1ecddabd493",
   "metadata": {},
   "outputs": [
    {
     "data": {
      "text/plain": [
       "[<matplotlib.lines.Line2D at 0x7f724d2e5510>]"
      ]
     },
     "execution_count": 51,
     "metadata": {},
     "output_type": "execute_result"
    },
    {
     "data": {
      "image/png": "[encoded data removed]",
      "text/plain": [
       "<Figure size 640x480 with 1 Axes>"
      ]
     },
     "metadata": {},
     "output_type": "display_data"
    }
   ],
   "source": [
    "plt.plot(fpr, tpr)"
   ]
  },
  {
   "cell_type": "code",
   "execution_count": 52,
   "id": "435f98df-d37f-48cc-88d5-634b4c0ac009",
   "metadata": {},
   "outputs": [
    {
     "data": {
      "text/plain": [
       "array([[11189,  2103],\n",
       "       [ 7625,  2610]])"
      ]
     },
     "execution_count": 52,
     "metadata": {},
     "output_type": "execute_result"
    }
   ],
   "source": [
    "from sklearn.metrics import confusion_matrix\n",
    "confusion_matrix(\n",
    "    data_test[\"factual\"].values,\n",
    "    ((torch.cat(yhat_list) >= .5) +0).numpy()\n",
    ")"
   ]
  },
  {
   "cell_type": "code",
   "execution_count": 53,
   "id": "8b55c0ec-0b71-4a64-8686-3f8230630c84",
   "metadata": {},
   "outputs": [
    {
     "data": {
      "text/plain": [
       "10235"
      ]
     },
     "execution_count": 53,
     "metadata": {},
     "output_type": "execute_result"
    }
   ],
   "source": [
    "np.sum(data_test[\"factual\"])"
   ]
  },
  {
   "cell_type": "code",
   "execution_count": 54,
   "id": "bb75e13c-716e-4374-b52c-bdf73a3d8197",
   "metadata": {},
   "outputs": [],
   "source": [
    "from sklearn.metrics import ConfusionMatrixDisplay"
   ]
  },
  {
   "cell_type": "code",
   "execution_count": 55,
   "id": "715d8bee-70ab-4cbd-a389-93accec8ec7e",
   "metadata": {},
   "outputs": [
    {
     "data": {
      "text/plain": [
       "<sklearn.metrics._plot.confusion_matrix.ConfusionMatrixDisplay at 0x7f7242a8e150>"
      ]
     },
     "execution_count": 55,
     "metadata": {},
     "output_type": "execute_result"
    },
    {
     "data": {
      "image/png": "[encoded data removed]",
      "text/plain": [
       "<Figure size 640x480 with 2 Axes>"
      ]
     },
     "metadata": {},
     "output_type": "display_data"
    }
   ],
   "source": [
    "ConfusionMatrixDisplay.from_predictions(    data_test[\"factual\"].values,\n",
    "    ((torch.cat(yhat_list) >= .5) +0).numpy())"
   ]
  },
  {
   "cell_type": "markdown",
   "id": "6db1d4a1-24d3-42f3-a4dd-cd69a9e4373d",
   "metadata": {},
   "source": [
    "# Train"
   ]
  },
  {
   "cell_type": "code",
   "execution_count": 56,
   "id": "7bd4ccf9-2005-42f4-ac04-efc1a6a76da4",
   "metadata": {},
   "outputs": [
    {
     "data": {
      "application/vnd.jupyter.widget-view+json": {
       "model_id": "de86f59580384b7581762b6267389ca5",
       "version_major": 2,
       "version_minor": 0
      },
      "text/plain": [
       "  0%|          | 0/4739 [00:00<?, ?it/s]"
      ]
     },
     "metadata": {},
     "output_type": "display_data"
    },
    {
     "name": "stderr",
     "output_type": "stream",
     "text": [
      "/home/kacper/.pyenv/versions/3.11.8/lib/python3.11/site-packages/torch/nn/functional.py:1967: UserWarning: nn.functional.sigmoid is deprecated. Use torch.sigmoid instead.\n",
      "  warnings.warn(\"nn.functional.sigmoid is deprecated. Use torch.sigmoid instead.\")\n"
     ]
    }
   ],
   "source": [
    "model.eval()\n",
    "yhat_list = []\n",
    "with torch.no_grad():\n",
    "        for batch in tqdm(chunk_df(data_train, 100)):        \n",
    "            bait_ohe = from_loc_to_ohe_batch(batch, \"bait\")\n",
    "            other_ohe = from_loc_to_ohe_batch(batch, \"other\")\n",
    "            yhat = model.forward(bait_ohe.float().cuda(), other_ohe.float().cuda())\n",
    "            yhat = yhat.cpu().flatten()\n",
    "            y = torch.from_numpy(batch[\"factual\"].values).float()\n",
    "            yhat_list.append(F.sigmoid(yhat))"
   ]
  },
  {
   "cell_type": "code",
   "execution_count": 57,
   "id": "ebd4165a-07d7-4764-9c1a-40336b1f7f32",
   "metadata": {},
   "outputs": [
    {
     "data": {
      "text/plain": [
       "0.9742495610480821"
      ]
     },
     "execution_count": 57,
     "metadata": {},
     "output_type": "execute_result"
    }
   ],
   "source": [
    "np.mean(((torch.cat(yhat_list) >= .5) +0).numpy() == data_train[\"factual\"].values)"
   ]
  },
  {
   "cell_type": "code",
   "execution_count": 58,
   "id": "cf6dd18e-7fae-48d0-be6c-2f15a40d1479",
   "metadata": {},
   "outputs": [],
   "source": [
    "from sklearn.metrics import roc_curve, roc_auc_score"
   ]
  },
  {
   "cell_type": "code",
   "execution_count": 59,
   "id": "c269d8b0-f2c4-4006-90ee-a1063792ed40",
   "metadata": {},
   "outputs": [
    {
     "data": {
      "text/plain": [
       "0.9967337632059072"
      ]
     },
     "execution_count": 59,
     "metadata": {},
     "output_type": "execute_result"
    }
   ],
   "source": [
    "roc_auc_score(data_train[\"factual\"].values, torch.cat(yhat_list))"
   ]
  },
  {
   "cell_type": "code",
   "execution_count": 60,
   "id": "847965f9-40b9-42f1-b843-c6f2390ad0af",
   "metadata": {},
   "outputs": [],
   "source": [
    "fpr, tpr, thresholds = roc_curve(data_train[\"factual\"].values, torch.cat(yhat_list))"
   ]
  },
  {
   "cell_type": "code",
   "execution_count": 61,
   "id": "e9ec438f-9afb-4f31-b3f0-cec53db8fc06",
   "metadata": {},
   "outputs": [],
   "source": [
    "import matplotlib.pyplot as plt"
   ]
  },
  {
   "cell_type": "code",
   "execution_count": 62,
   "id": "c08b1a1a-f0e6-4656-92ec-00894d2db6eb",
   "metadata": {},
   "outputs": [
    {
     "data": {
      "text/plain": [
       "[<matplotlib.lines.Line2D at 0x7f7243b27c50>]"
      ]
     },
     "execution_count": 62,
     "metadata": {},
     "output_type": "execute_result"
    },
    {
     "data": {
      "image/png": "[encoded data removed]",
      "text/plain": [
       "<Figure size 640x480 with 1 Axes>"
      ]
     },
     "metadata": {},
     "output_type": "display_data"
    }
   ],
   "source": [
    "plt.plot(fpr, tpr)"
   ]
  },
  {
   "cell_type": "code",
   "execution_count": 63,
   "id": "a1a5d016-5aab-437a-bc97-4405848dc0ee",
   "metadata": {},
   "outputs": [
    {
     "data": {
      "text/plain": [
       "array([[262363,   6041],\n",
       "       [  6161, 199291]])"
      ]
     },
     "execution_count": 63,
     "metadata": {},
     "output_type": "execute_result"
    }
   ],
   "source": [
    "from sklearn.metrics import confusion_matrix\n",
    "confusion_matrix(\n",
    "    data_train[\"factual\"].values,\n",
    "    ((torch.cat(yhat_list) >= .5) +0).numpy()\n",
    ")"
   ]
  },
  {
   "cell_type": "code",
   "execution_count": 64,
   "id": "7d76bd8a-ffe1-4c9a-ba17-9e29fc200535",
   "metadata": {},
   "outputs": [],
   "source": [
    "from sklearn.metrics import ConfusionMatrixDisplay"
   ]
  },
  {
   "cell_type": "code",
   "execution_count": 65,
   "id": "816a5f91-4418-42aa-9552-82840b802617",
   "metadata": {},
   "outputs": [
    {
     "data": {
      "text/plain": [
       "<sklearn.metrics._plot.confusion_matrix.ConfusionMatrixDisplay at 0x7f7242e56b10>"
      ]
     },
     "execution_count": 65,
     "metadata": {},
     "output_type": "execute_result"
    },
    {
     "data": {
      "image/png": "[encoded data removed]",
      "text/plain": [
       "<Figure size 640x480 with 2 Axes>"
      ]
     },
     "metadata": {},
     "output_type": "display_data"
    }
   ],
   "source": [
    "ConfusionMatrixDisplay.from_predictions(    data_train[\"factual\"].values,\n",
    "    ((torch.cat(yhat_list) >= .5) +0).numpy())"
   ]
  },
  {
   "cell_type": "markdown",
   "id": "802a429e-582b-4dc9-9c31-4a38a64637f8",
   "metadata": {},
   "source": [
    "# TRy no chrom"
   ]
  },
  {
   "cell_type": "code",
   "execution_count": 71,
   "id": "dbe9ebe7-3b80-44b0-b1c7-8dae8f769349",
   "metadata": {},
   "outputs": [],
   "source": [
    "model = PoCNetAkitalike().cuda()"
   ]
  },
  {
   "cell_type": "code",
   "execution_count": 72,
   "id": "9479d8c2-4d7a-4bb4-9b7e-6f6fa98b8887",
   "metadata": {},
   "outputs": [],
   "source": [
    "loss_function = torch.nn.BCEWithLogitsLoss()\n",
    "optimizer = torch.optim.Adam(model.parameters(), lr=1e-5)"
   ]
  },
  {
   "cell_type": "code",
   "execution_count": 73,
   "id": "8c6eabf9-79d4-4355-b8b2-b62ba8e9fd58",
   "metadata": {},
   "outputs": [],
   "source": [
    "def chunk_df(df, n):\n",
    "    return [df[i:i+n] for i in range(0,df.shape[0],n)]\n",
    "\n",
    "def from_loc_to_ohe_batch(df, prefix: [\"bait\", \"other\"]):\n",
    "    return torch.stack([\n",
    "        from_loc_to_ohe(row[f\"{prefix}_frag_chr\"], row[f\"{prefix}_frag_standard_size_start\"], row[f\"{prefix}_frag_standard_size_end\"])\n",
    "        for _, row in df.iterrows()\n",
    "    ])"
   ]
  },
  {
   "cell_type": "code",
   "execution_count": 74,
   "id": "7f00aa88-344f-43b6-9fe3-b7d6d0fefc35",
   "metadata": {},
   "outputs": [],
   "source": [
    "torch.cuda.empty_cache()"
   ]
  },
  {
   "cell_type": "code",
   "execution_count": null,
   "id": "0a3a9e1e-cbe8-463e-8b20-32fbd8482343",
   "metadata": {},
   "outputs": [
    {
     "data": {
      "application/vnd.jupyter.widget-view+json": {
       "model_id": "290491d902ac47f5b384f523ca84e64f",
       "version_major": 2,
       "version_minor": 0
      },
      "text/plain": [
       "  0%|          | 0/3731 [00:00<?, ?it/s]"
      ]
     },
     "metadata": {},
     "output_type": "display_data"
    },
    {
     "name": "stderr",
     "output_type": "stream",
     "text": [
      "/home/kacper/.pyenv/versions/3.11.8/lib/python3.11/site-packages/torch/nn/functional.py:1967: UserWarning: nn.functional.sigmoid is deprecated. Use torch.sigmoid instead.\n",
      "  warnings.warn(\"nn.functional.sigmoid is deprecated. Use torch.sigmoid instead.\")\n"
     ]
    },
    {
     "name": "stdout",
     "output_type": "stream",
     "text": [
      "Loss:  0.55821 Accuracy 0.72973 Ones% 0.24324\n"
     ]
    },
    {
     "data": {
      "application/vnd.jupyter.widget-view+json": {
       "model_id": "652b9f94158643eab2eac28bac740be7",
       "version_major": 2,
       "version_minor": 0
      },
      "text/plain": [
       "  0%|          | 0/434 [00:00<?, ?it/s]"
      ]
     },
     "metadata": {},
     "output_type": "display_data"
    },
    {
     "name": "stdout",
     "output_type": "stream",
     "text": [
      " 0.68775\n"
     ]
    },
    {
     "data": {
      "application/vnd.jupyter.widget-view+json": {
       "model_id": "68cedaa11ccc4b4e94bcd8d551d5fdac",
       "version_major": 2,
       "version_minor": 0
      },
      "text/plain": [
       "  0%|          | 0/3731 [00:00<?, ?it/s]"
      ]
     },
     "metadata": {},
     "output_type": "display_data"
    },
    {
     "name": "stdout",
     "output_type": "stream",
     "text": [
      "Loss:  0.64393 Accuracy 0.67568 Ones% 0.35135\n"
     ]
    },
    {
     "data": {
      "application/vnd.jupyter.widget-view+json": {
       "model_id": "a0aaeb1cdd5640feb2f4ecbd6566a286",
       "version_major": 2,
       "version_minor": 0
      },
      "text/plain": [
       "  0%|          | 0/434 [00:00<?, ?it/s]"
      ]
     },
     "metadata": {},
     "output_type": "display_data"
    },
    {
     "name": "stdout",
     "output_type": "stream",
     "text": [
      " 0.66521\n"
     ]
    },
    {
     "data": {
      "application/vnd.jupyter.widget-view+json": {
       "model_id": "77e6b295d59d4f19b7a02ffa1f01574e",
       "version_major": 2,
       "version_minor": 0
      },
      "text/plain": [
       "  0%|          | 0/3731 [00:00<?, ?it/s]"
      ]
     },
     "metadata": {},
     "output_type": "display_data"
    },
    {
     "name": "stdout",
     "output_type": "stream",
     "text": [
      "Loss:  0.62486 Accuracy 0.59459 Ones% 0.43243\n"
     ]
    },
    {
     "data": {
      "application/vnd.jupyter.widget-view+json": {
       "model_id": "961b02c5f36948a78401809b4282f5d5",
       "version_major": 2,
       "version_minor": 0
      },
      "text/plain": [
       "  0%|          | 0/434 [00:00<?, ?it/s]"
      ]
     },
     "metadata": {},
     "output_type": "display_data"
    },
    {
     "name": "stdout",
     "output_type": "stream",
     "text": [
      " 0.68826\n"
     ]
    },
    {
     "data": {
      "application/vnd.jupyter.widget-view+json": {
       "model_id": "d6f9626511774f66b085b26b5f7d1344",
       "version_major": 2,
       "version_minor": 0
      },
      "text/plain": [
       "  0%|          | 0/3731 [00:00<?, ?it/s]"
      ]
     },
     "metadata": {},
     "output_type": "display_data"
    },
    {
     "name": "stdout",
     "output_type": "stream",
     "text": [
      "Loss:  0.35682 Accuracy 0.94595 Ones% 0.43243\n"
     ]
    },
    {
     "data": {
      "application/vnd.jupyter.widget-view+json": {
       "model_id": "be1494321f514bedad31d1dfaeeb82a3",
       "version_major": 2,
       "version_minor": 0
      },
      "text/plain": [
       "  0%|          | 0/434 [00:00<?, ?it/s]"
      ]
     },
     "metadata": {},
     "output_type": "display_data"
    },
    {
     "name": "stdout",
     "output_type": "stream",
     "text": [
      " 0.67642\n"
     ]
    },
    {
     "data": {
      "application/vnd.jupyter.widget-view+json": {
       "model_id": "88218bf6b2084f71a708ef9e57189515",
       "version_major": 2,
       "version_minor": 0
      },
      "text/plain": [
       "  0%|          | 0/3731 [00:00<?, ?it/s]"
      ]
     },
     "metadata": {},
     "output_type": "display_data"
    },
    {
     "name": "stdout",
     "output_type": "stream",
     "text": [
      "Loss:  0.42587 Accuracy 0.81081 Ones% 0.35135\n"
     ]
    },
    {
     "data": {
      "application/vnd.jupyter.widget-view+json": {
       "model_id": "b0c6f53bfee842db927d67fb913f56d9",
       "version_major": 2,
       "version_minor": 0
      },
      "text/plain": [
       "  0%|          | 0/434 [00:00<?, ?it/s]"
      ]
     },
     "metadata": {},
     "output_type": "display_data"
    },
    {
     "name": "stdout",
     "output_type": "stream",
     "text": [
      " 0.72806\n"
     ]
    },
    {
     "data": {
      "application/vnd.jupyter.widget-view+json": {
       "model_id": "ad59b75d6a7641718c5098d1ecbbcc88",
       "version_major": 2,
       "version_minor": 0
      },
      "text/plain": [
       "  0%|          | 0/3731 [00:00<?, ?it/s]"
      ]
     },
     "metadata": {},
     "output_type": "display_data"
    },
    {
     "name": "stdout",
     "output_type": "stream",
     "text": [
      "Loss:  0.35821 Accuracy 0.83784 Ones% 0.27027\n"
     ]
    },
    {
     "data": {
      "application/vnd.jupyter.widget-view+json": {
       "model_id": "ef26baf00c1e40f0a0e43df79d2323ec",
       "version_major": 2,
       "version_minor": 0
      },
      "text/plain": [
       "  0%|          | 0/434 [00:00<?, ?it/s]"
      ]
     },
     "metadata": {},
     "output_type": "display_data"
    },
    {
     "name": "stdout",
     "output_type": "stream",
     "text": [
      " 0.74261\n"
     ]
    },
    {
     "data": {
      "application/vnd.jupyter.widget-view+json": {
       "model_id": "669ff54683794e6bb1f1e81e1c4aab58",
       "version_major": 2,
       "version_minor": 0
      },
      "text/plain": [
       "  0%|          | 0/3731 [00:00<?, ?it/s]"
      ]
     },
     "metadata": {},
     "output_type": "display_data"
    },
    {
     "name": "stdout",
     "output_type": "stream",
     "text": [
      "Loss:  0.24849 Accuracy 0.89189 Ones% 0.43243\n"
     ]
    },
    {
     "data": {
      "application/vnd.jupyter.widget-view+json": {
       "model_id": "584fb12eab904bfbb503fa9a1b98c0e2",
       "version_major": 2,
       "version_minor": 0
      },
      "text/plain": [
       "  0%|          | 0/434 [00:00<?, ?it/s]"
      ]
     },
     "metadata": {},
     "output_type": "display_data"
    },
    {
     "name": "stdout",
     "output_type": "stream",
     "text": [
      " 0.72062\n"
     ]
    },
    {
     "data": {
      "application/vnd.jupyter.widget-view+json": {
       "model_id": "60779a9cf2334e48adcb811c596645b9",
       "version_major": 2,
       "version_minor": 0
      },
      "text/plain": [
       "  0%|          | 0/3731 [00:00<?, ?it/s]"
      ]
     },
     "metadata": {},
     "output_type": "display_data"
    },
    {
     "name": "stdout",
     "output_type": "stream",
     "text": [
      "Loss:  0.26175 Accuracy 0.91892 Ones% 0.45946\n"
     ]
    },
    {
     "data": {
      "application/vnd.jupyter.widget-view+json": {
       "model_id": "3df009db9d5a45c89fb4711eef16b638",
       "version_major": 2,
       "version_minor": 0
      },
      "text/plain": [
       "  0%|          | 0/434 [00:00<?, ?it/s]"
      ]
     },
     "metadata": {},
     "output_type": "display_data"
    },
    {
     "name": "stdout",
     "output_type": "stream",
     "text": [
      " 0.72834\n"
     ]
    },
    {
     "data": {
      "application/vnd.jupyter.widget-view+json": {
       "model_id": "0aa02a90465847589e835ff0dbd0a74b",
       "version_major": 2,
       "version_minor": 0
      },
      "text/plain": [
       "  0%|          | 0/3731 [00:00<?, ?it/s]"
      ]
     },
     "metadata": {},
     "output_type": "display_data"
    },
    {
     "name": "stdout",
     "output_type": "stream",
     "text": [
      "Loss:  0.07642 Accuracy 0.97297 Ones% 0.27027\n"
     ]
    },
    {
     "data": {
      "application/vnd.jupyter.widget-view+json": {
       "model_id": "88d890f3cefb4f5fa9d60db07b9f7e0a",
       "version_major": 2,
       "version_minor": 0
      },
      "text/plain": [
       "  0%|          | 0/434 [00:00<?, ?it/s]"
      ]
     },
     "metadata": {},
     "output_type": "display_data"
    },
    {
     "name": "stdout",
     "output_type": "stream",
     "text": [
      " 0.76015\n"
     ]
    },
    {
     "data": {
      "application/vnd.jupyter.widget-view+json": {
       "model_id": "bff5990b75f54f93b5a4069d2033f585",
       "version_major": 2,
       "version_minor": 0
      },
      "text/plain": [
       "  0%|          | 0/3731 [00:00<?, ?it/s]"
      ]
     },
     "metadata": {},
     "output_type": "display_data"
    },
    {
     "name": "stdout",
     "output_type": "stream",
     "text": [
      "Loss:  0.10946 Accuracy 0.97297 Ones% 0.48649\n"
     ]
    },
    {
     "data": {
      "application/vnd.jupyter.widget-view+json": {
       "model_id": "d7e3f98cd0a84104a7bb829db7796416",
       "version_major": 2,
       "version_minor": 0
      },
      "text/plain": [
       "  0%|          | 0/434 [00:00<?, ?it/s]"
      ]
     },
     "metadata": {},
     "output_type": "display_data"
    },
    {
     "name": "stdout",
     "output_type": "stream",
     "text": [
      " 0.74602\n"
     ]
    },
    {
     "data": {
      "application/vnd.jupyter.widget-view+json": {
       "model_id": "8388ca3bc96e489ab8641beb40414f56",
       "version_major": 2,
       "version_minor": 0
      },
      "text/plain": [
       "  0%|          | 0/3731 [00:00<?, ?it/s]"
      ]
     },
     "metadata": {},
     "output_type": "display_data"
    },
    {
     "name": "stdout",
     "output_type": "stream",
     "text": [
      "Loss:  0.02664 Accuracy 1.00000 Ones% 0.43243\n"
     ]
    },
    {
     "data": {
      "application/vnd.jupyter.widget-view+json": {
       "model_id": "a5dbfbdb0ff34572b1e1394c252de1a0",
       "version_major": 2,
       "version_minor": 0
      },
      "text/plain": [
       "  0%|          | 0/434 [00:00<?, ?it/s]"
      ]
     },
     "metadata": {},
     "output_type": "display_data"
    },
    {
     "name": "stdout",
     "output_type": "stream",
     "text": [
      " 0.71626\n"
     ]
    },
    {
     "data": {
      "application/vnd.jupyter.widget-view+json": {
       "model_id": "da2c8f6de8d14fd4b5e494497d4cac19",
       "version_major": 2,
       "version_minor": 0
      },
      "text/plain": [
       "  0%|          | 0/3731 [00:00<?, ?it/s]"
      ]
     },
     "metadata": {},
     "output_type": "display_data"
    },
    {
     "name": "stdout",
     "output_type": "stream",
     "text": [
      "Loss:  0.10002 Accuracy 0.94595 Ones% 0.35135\n"
     ]
    },
    {
     "data": {
      "application/vnd.jupyter.widget-view+json": {
       "model_id": "5a2272f50658480396dc214ae07251df",
       "version_major": 2,
       "version_minor": 0
      },
      "text/plain": [
       "  0%|          | 0/434 [00:00<?, ?it/s]"
      ]
     },
     "metadata": {},
     "output_type": "display_data"
    },
    {
     "name": "stdout",
     "output_type": "stream",
     "text": [
      " 0.70112\n"
     ]
    },
    {
     "data": {
      "application/vnd.jupyter.widget-view+json": {
       "model_id": "0b0d4975dc31483e9602f40c92b0fa3d",
       "version_major": 2,
       "version_minor": 0
      },
      "text/plain": [
       "  0%|          | 0/3731 [00:00<?, ?it/s]"
      ]
     },
     "metadata": {},
     "output_type": "display_data"
    },
    {
     "name": "stdout",
     "output_type": "stream",
     "text": [
      "Loss:  0.02762 Accuracy 1.00000 Ones% 0.51351\n"
     ]
    },
    {
     "data": {
      "application/vnd.jupyter.widget-view+json": {
       "model_id": "6823350157b04815834ec591f248a865",
       "version_major": 2,
       "version_minor": 0
      },
      "text/plain": [
       "  0%|          | 0/434 [00:00<?, ?it/s]"
      ]
     },
     "metadata": {},
     "output_type": "display_data"
    },
    {
     "name": "stdout",
     "output_type": "stream",
     "text": [
      " 0.73178\n"
     ]
    },
    {
     "data": {
      "application/vnd.jupyter.widget-view+json": {
       "model_id": "de12b09fad344a9c9016457ebabe80cf",
       "version_major": 2,
       "version_minor": 0
      },
      "text/plain": [
       "  0%|          | 0/3731 [00:00<?, ?it/s]"
      ]
     },
     "metadata": {},
     "output_type": "display_data"
    },
    {
     "name": "stdout",
     "output_type": "stream",
     "text": [
      "Loss:  0.00511 Accuracy 1.00000 Ones% 0.37838\n"
     ]
    },
    {
     "data": {
      "application/vnd.jupyter.widget-view+json": {
       "model_id": "4ce0472f50cd486d843c8e306f9da1fb",
       "version_major": 2,
       "version_minor": 0
      },
      "text/plain": [
       "  0%|          | 0/434 [00:00<?, ?it/s]"
      ]
     },
     "metadata": {},
     "output_type": "display_data"
    },
    {
     "name": "stdout",
     "output_type": "stream",
     "text": [
      " 0.74452\n"
     ]
    },
    {
     "data": {
      "application/vnd.jupyter.widget-view+json": {
       "model_id": "3649893e436d4928b8d87836e3baefa6",
       "version_major": 2,
       "version_minor": 0
      },
      "text/plain": [
       "  0%|          | 0/3731 [00:00<?, ?it/s]"
      ]
     },
     "metadata": {},
     "output_type": "display_data"
    },
    {
     "name": "stdout",
     "output_type": "stream",
     "text": [
      "Loss:  0.03315 Accuracy 1.00000 Ones% 0.40541\n"
     ]
    },
    {
     "data": {
      "application/vnd.jupyter.widget-view+json": {
       "model_id": "d81378ffe492451b8ed17c08a123bb26",
       "version_major": 2,
       "version_minor": 0
      },
      "text/plain": [
       "  0%|          | 0/434 [00:00<?, ?it/s]"
      ]
     },
     "metadata": {},
     "output_type": "display_data"
    },
    {
     "name": "stdout",
     "output_type": "stream",
     "text": [
      " 0.71666\n"
     ]
    },
    {
     "data": {
      "application/vnd.jupyter.widget-view+json": {
       "model_id": "a9231eb505424ac2885f73c3783ea2f2",
       "version_major": 2,
       "version_minor": 0
      },
      "text/plain": [
       "  0%|          | 0/3731 [00:00<?, ?it/s]"
      ]
     },
     "metadata": {},
     "output_type": "display_data"
    },
    {
     "name": "stdout",
     "output_type": "stream",
     "text": [
      "Loss:  0.03029 Accuracy 1.00000 Ones% 0.32432\n"
     ]
    },
    {
     "data": {
      "application/vnd.jupyter.widget-view+json": {
       "model_id": "0c088c1de5e640a49aa18fb9de193478",
       "version_major": 2,
       "version_minor": 0
      },
      "text/plain": [
       "  0%|          | 0/434 [00:00<?, ?it/s]"
      ]
     },
     "metadata": {},
     "output_type": "display_data"
    },
    {
     "name": "stdout",
     "output_type": "stream",
     "text": [
      " 0.75517\n"
     ]
    },
    {
     "data": {
      "application/vnd.jupyter.widget-view+json": {
       "model_id": "fc8266418c924670896becbf78d1c37f",
       "version_major": 2,
       "version_minor": 0
      },
      "text/plain": [
       "  0%|          | 0/3731 [00:00<?, ?it/s]"
      ]
     },
     "metadata": {},
     "output_type": "display_data"
    },
    {
     "name": "stdout",
     "output_type": "stream",
     "text": [
      "Loss:  0.01624 Accuracy 1.00000 Ones% 0.45946\n"
     ]
    },
    {
     "data": {
      "application/vnd.jupyter.widget-view+json": {
       "model_id": "fbae6372f2df436f87f49eee7211eafd",
       "version_major": 2,
       "version_minor": 0
      },
      "text/plain": [
       "  0%|          | 0/434 [00:00<?, ?it/s]"
      ]
     },
     "metadata": {},
     "output_type": "display_data"
    },
    {
     "name": "stdout",
     "output_type": "stream",
     "text": [
      " 0.74454\n"
     ]
    },
    {
     "data": {
      "application/vnd.jupyter.widget-view+json": {
       "model_id": "f90032debb744685b38a4a6a72b21b92",
       "version_major": 2,
       "version_minor": 0
      },
      "text/plain": [
       "  0%|          | 0/3731 [00:00<?, ?it/s]"
      ]
     },
     "metadata": {},
     "output_type": "display_data"
    },
    {
     "name": "stdout",
     "output_type": "stream",
     "text": [
      "Loss:  0.00466 Accuracy 1.00000 Ones% 0.40000\r"
     ]
    }
   ],
   "source": [
    "model.train(True)\n",
    "from tqdm.notebook import tqdm\n",
    "\n",
    "for epoch in range(1, 200):\n",
    "    model.train(True)\n",
    "    for batch in tqdm(chunk_df(data_train.sample(frac=1.), 100)):\n",
    "        optimizer.zero_grad()\n",
    "        \n",
    "        bait_ohe = from_loc_to_ohe_batch(batch, \"bait\")\n",
    "        other_ohe = from_loc_to_ohe_batch(batch, \"other\")\n",
    "        yhat = model.forward(bait_ohe.float().cuda(), other_ohe.float().cuda())\n",
    "        yhat = yhat.cpu().flatten()\n",
    "        y = torch.from_numpy(batch[\"factual\"].values).float()\n",
    "        loss = loss_function(yhat, y)\n",
    "        loss.backward()\n",
    "        optimizer.step()\n",
    "        print(f\"Loss: {loss: .5f} Accuracy {sum((F.sigmoid(yhat) >= .5) == y)/len(y):.5f} Ones% {sum((F.sigmoid(yhat) >= .5) == 1)/len(y):.5f}\", end=\"\\r\")\n",
    "    print()\n",
    "    model.eval()\n",
    "    with torch.no_grad():\n",
    "        total_correct = 0\n",
    "        total_so_far = 0\n",
    "        for batch in tqdm(chunk_df(data_test.sample(frac=1.), 100)):        \n",
    "            bait_ohe = from_loc_to_ohe_batch(batch, \"bait\")\n",
    "            other_ohe = from_loc_to_ohe_batch(batch, \"other\")\n",
    "            yhat = model.forward(bait_ohe.float().cuda(), other_ohe.float().cuda())\n",
    "            yhat = yhat.cpu().flatten()\n",
    "            y = torch.from_numpy(batch[\"factual\"].values).float()\n",
    "            total_correct += sum((F.sigmoid(yhat) >= .5) == y)\n",
    "            total_so_far += len(y)\n",
    "        print(f\"{total_correct/total_so_far: .5f}\", end=\"\\r\")\n",
    "    print()"
   ]
  },
  {
   "cell_type": "code",
   "execution_count": 45,
   "id": "10907d77-1c15-4b5e-a594-3ea44d72ee6a",
   "metadata": {},
   "outputs": [
    {
     "data": {
      "application/vnd.jupyter.widget-view+json": {
       "model_id": "2f49694b2fa84399824a005d033d9316",
       "version_major": 2,
       "version_minor": 0
      },
      "text/plain": [
       "  0%|          | 0/236 [00:00<?, ?it/s]"
      ]
     },
     "metadata": {},
     "output_type": "display_data"
    }
   ],
   "source": [
    "model.eval()\n",
    "yhat_list = []\n",
    "with torch.no_grad():\n",
    "        for batch in tqdm(chunk_df(data_test, 100)):        \n",
    "            bait_ohe = from_loc_to_ohe_batch(batch, \"bait\")\n",
    "            other_ohe = from_loc_to_ohe_batch(batch, \"other\")\n",
    "            yhat = model.forward(bait_ohe.float().cuda(), other_ohe.float().cuda())\n",
    "            yhat = yhat.cpu().flatten()\n",
    "            y = torch.from_numpy(batch[\"factual\"].values).float()\n",
    "            yhat_list.append(F.sigmoid(yhat))"
   ]
  },
  {
   "cell_type": "code",
   "execution_count": 46,
   "id": "d3d4055c-6782-4575-bbac-4feba4cfe1e9",
   "metadata": {},
   "outputs": [
    {
     "data": {
      "text/plain": [
       "0.5865176180558507"
      ]
     },
     "execution_count": 46,
     "metadata": {},
     "output_type": "execute_result"
    }
   ],
   "source": [
    "np.mean(((torch.cat(yhat_list) >= .5) +0).numpy() == data_test[\"factual\"].values)"
   ]
  },
  {
   "cell_type": "code",
   "execution_count": 47,
   "id": "5130785a-f4cd-4f68-b920-9bac7042eb4b",
   "metadata": {},
   "outputs": [],
   "source": [
    "from sklearn.metrics import roc_curve, roc_auc_score"
   ]
  },
  {
   "cell_type": "code",
   "execution_count": 48,
   "id": "5dca16eb-9d86-49f9-b20b-fa86bfd70540",
   "metadata": {},
   "outputs": [
    {
     "data": {
      "text/plain": [
       "0.5929934751809751"
      ]
     },
     "execution_count": 48,
     "metadata": {},
     "output_type": "execute_result"
    }
   ],
   "source": [
    "roc_auc_score(data_test[\"factual\"].values, torch.cat(yhat_list))"
   ]
  },
  {
   "cell_type": "code",
   "execution_count": 49,
   "id": "c91fa9ef-dd5f-4021-8fef-f22e539e39d4",
   "metadata": {},
   "outputs": [],
   "source": [
    "fpr, tpr, thresholds = roc_curve(data_test[\"factual\"].values, torch.cat(yhat_list))"
   ]
  },
  {
   "cell_type": "code",
   "execution_count": 50,
   "id": "1d648019-ed1a-4469-b123-0e6ab1a1aa8d",
   "metadata": {},
   "outputs": [],
   "source": [
    "import matplotlib.pyplot as plt"
   ]
  },
  {
   "cell_type": "code",
   "execution_count": 51,
   "id": "356f663b-9ac2-454b-8080-6f4562cf6628",
   "metadata": {},
   "outputs": [
    {
     "data": {
      "text/plain": [
       "[<matplotlib.lines.Line2D at 0x7f724d2e5510>]"
      ]
     },
     "execution_count": 51,
     "metadata": {},
     "output_type": "execute_result"
    },
    {
     "data": {
      "image/png": "[encoded data removed]",
      "text/plain": [
       "<Figure size 640x480 with 1 Axes>"
      ]
     },
     "metadata": {},
     "output_type": "display_data"
    }
   ],
   "source": [
    "plt.plot(fpr, tpr)"
   ]
  },
  {
   "cell_type": "code",
   "execution_count": 52,
   "id": "f0df477f-6d2d-4acd-9668-5cfc95c5a0c1",
   "metadata": {},
   "outputs": [
    {
     "data": {
      "text/plain": [
       "array([[11189,  2103],\n",
       "       [ 7625,  2610]])"
      ]
     },
     "execution_count": 52,
     "metadata": {},
     "output_type": "execute_result"
    }
   ],
   "source": [
    "from sklearn.metrics import confusion_matrix\n",
    "confusion_matrix(\n",
    "    data_test[\"factual\"].values,\n",
    "    ((torch.cat(yhat_list) >= .5) +0).numpy()\n",
    ")"
   ]
  },
  {
   "cell_type": "code",
   "execution_count": 53,
   "id": "5ed66cdf-5bec-4405-8114-898631c85b87",
   "metadata": {},
   "outputs": [
    {
     "data": {
      "text/plain": [
       "10235"
      ]
     },
     "execution_count": 53,
     "metadata": {},
     "output_type": "execute_result"
    }
   ],
   "source": [
    "np.sum(data_test[\"factual\"])"
   ]
  },
  {
   "cell_type": "code",
   "execution_count": 54,
   "id": "65a8f64f-31b9-4387-b10d-93f9e6f4e8ce",
   "metadata": {},
   "outputs": [],
   "source": [
    "from sklearn.metrics import ConfusionMatrixDisplay"
   ]
  },
  {
   "cell_type": "code",
   "execution_count": 55,
   "id": "f23fb14d-0a30-4b90-950d-61e04afe56ca",
   "metadata": {},
   "outputs": [
    {
     "data": {
      "text/plain": [
       "<sklearn.metrics._plot.confusion_matrix.ConfusionMatrixDisplay at 0x7f7242a8e150>"
      ]
     },
     "execution_count": 55,
     "metadata": {},
     "output_type": "execute_result"
    },
    {
     "data": {
      "image/png": "[encoded data removed]",
      "text/plain": [
       "<Figure size 640x480 with 2 Axes>"
      ]
     },
     "metadata": {},
     "output_type": "display_data"
    }
   ],
   "source": [
    "ConfusionMatrixDisplay.from_predictions(    data_test[\"factual\"].values,\n",
    "    ((torch.cat(yhat_list) >= .5) +0).numpy())"
   ]
  },
  {
   "cell_type": "code",
   "execution_count": null,
   "id": "1876486f-899f-44da-86c5-6394ff8a3d50",
   "metadata": {},
   "outputs": [],
   "source": []
  },
  {
   "cell_type": "code",
   "execution_count": null,
   "id": "5a2e7fcc-957f-4ae9-ba23-228a4a7b62bf",
   "metadata": {},
   "outputs": [],
   "source": [
    "%%bash\n",
    "git add .\n",
    "git commit -m \"lol\"\n",
    "git push"
   ]
  }
 ],
 "metadata": {
  "kernelspec": {
   "display_name": "Python 3 (ipykernel)",
   "language": "python",
   "name": "python3"
  },
  "language_info": {
   "codemirror_mode": {
    "name": "ipython",
    "version": 3
   },
   "file_extension": ".py",
   "mimetype": "text/x-python",
   "name": "python",
   "nbconvert_exporter": "python",
   "pygments_lexer": "ipython3",
   "version": "3.11.8"
  }
 },
 "nbformat": 4,
 "nbformat_minor": 5
}
