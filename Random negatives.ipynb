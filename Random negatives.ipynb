{
 "cells": [
  {
   "cell_type": "code",
   "execution_count": 15,
   "id": "22c11474-0f8b-4005-8fe0-c9890e0634e1",
   "metadata": {},
   "outputs": [],
   "source": [
    "import pandas as pd\n",
    "import numpy as np"
   ]
  },
  {
   "cell_type": "code",
   "execution_count": 4,
   "id": "02ca617b-a92d-4042-b1b5-1241118d5aba",
   "metadata": {},
   "outputs": [],
   "source": [
    "import pyranges"
   ]
  },
  {
   "cell_type": "code",
   "execution_count": 24,
   "id": "d223a755-1d1d-447b-94ec-b768b4c41abe",
   "metadata": {},
   "outputs": [],
   "source": [
    "data = pd.read_table(\"data/pchic/0071_Blood - Non-activated CD4+ Cells_merged_loop.txt\")\n",
    "standard_size = 5_000\n",
    "def expand_enrich_pchic(df):\n",
    "    df[[\"bait_frag_chr\", \"bait_frag_start\", \"bait_frag_end\"]] = df[\"bait_frag\"].str.split(\",\", expand=True)\n",
    "    df[[\"other_frag_chr\", \"other_frag_start\", \"other_frag_end\"]] = df[\"other_frag\"].str.split(\",\", expand=True)\n",
    "    df[\"bait_size\"] = np.abs(df[\"bait_frag_start\"].apply(int) - df[\"bait_frag_end\"].apply(int))\n",
    "    df[\"other_size\"] = np.abs(df[\"other_frag_start\"].apply(int) - df[\"other_frag_end\"].apply(int))\n",
    "    df[\"bait_frag_midpoint\"] = df.apply(lambda x: int((int(x[\"bait_frag_start\"]) + int(x[\"bait_frag_end\"])) / 2), axis=1)\n",
    "    df[\"bait_frag_standard_size_start\"] = df[\"bait_frag_midpoint\"] - standard_size\n",
    "    df[\"bait_frag_standard_size_end\"]   = df[\"bait_frag_midpoint\"] + standard_size - 1\n",
    "    df[\"other_frag_midpoint\"] = df.apply(lambda x: int((int(x[\"other_frag_start\"]) + int(x[\"other_frag_end\"])) / 2), axis=1)\n",
    "    df[\"other_frag_standard_size_start\"] = df[\"other_frag_midpoint\"] - standard_size\n",
    "    df[\"other_frag_standard_size_end\"]   = df[\"other_frag_midpoint\"] + standard_size - 1\n",
    "    negative_starting = df.loc[df[\"other_frag_standard_size_start\"] <= 0, \"other_frag_standard_size_start\"]\n",
    "    negative_ending = df.loc[df[\"other_frag_standard_size_start\"] <= 0, \"other_frag_standard_size_end\"]\n",
    "    df.loc[negative_starting.index, \"other_frag_standard_size_end\"] = (negative_ending - negative_starting + 1).apply(int)\n",
    "    df.loc[negative_starting.index, \"other_frag_standard_size_start\"] = 1\n",
    "    return df\n",
    "data = expand_enrich_pchic(data)"
   ]
  },
  {
   "cell_type": "code",
   "execution_count": 20,
   "id": "d8302235-601f-46e1-925e-4f95581c2c0c",
   "metadata": {},
   "outputs": [],
   "source": [
    "for bait in data[\"bait_frag\"].unique():\n",
    "    pass"
   ]
  },
  {
   "cell_type": "code",
   "execution_count": 37,
   "id": "77e6510a-09ba-4c3d-993b-a3cc94a65e52",
   "metadata": {},
   "outputs": [],
   "source": [
    "bait = data.sample(1)[\"bait_frag\"].values[0]"
   ]
  },
  {
   "cell_type": "code",
   "execution_count": 41,
   "id": "e4f50551-7858-40e8-83c5-36d1d6ce6daa",
   "metadata": {},
   "outputs": [],
   "source": [
    "bait_midpoint = data[data[\"bait_frag\"] == bait][\"bait_frag_midpoint\"].values[0]Chromosome"
   ]
  },
  {
   "cell_type": "code",
   "execution_count": 79,
   "id": "c9ec477c-6632-446d-88ce-dec7f9ee40f9",
   "metadata": {},
   "outputs": [],
   "source": [
    "others = data[data[\"bait_frag\"] == bait][\"other_frag_midpoint\"]\n",
    "\n",
    "other_std = pd.concat((others, pd.Series(bait_midpoint))).std()\n",
    "other_n = len(others)"
   ]
  },
  {
   "cell_type": "code",
   "execution_count": 80,
   "id": "67693afe-43d8-45d3-8a14-fa88bda474fb",
   "metadata": {},
   "outputs": [
    {
     "data": {
      "text/plain": [
       "array([95734435, 95316936, 95614445, 96765648, 93732257, 96019066,\n",
       "       96283977, 96331200, 96434880, 96193883, 95721419, 95596280,\n",
       "       96415069, 95152214, 95526647, 95884855, 95921282, 96313710,\n",
       "       96857853, 96858980, 96147282, 96916181, 96787979, 96593356,\n",
       "       97770523, 96073189, 97372893, 96471953, 95942016, 94803405,\n",
       "       96123730, 95827995, 95073850, 94895105, 95684748, 95288889,\n",
       "       97102815, 95159383, 94961418, 97304001, 96742266, 95198637,\n",
       "       95480440, 95660227, 95719984, 96667888, 96792044, 95057618,\n",
       "       96200510, 95644687, 95696459, 96565955, 95625416, 96092826,\n",
       "       96609572, 96177434, 96308747, 95228012, 96133463, 96596297,\n",
       "       96334163, 97346696, 96829590, 96517702, 95213158, 96779534,\n",
       "       96373672, 96960000, 96044352, 96685475, 95662180, 96468856,\n",
       "       97168492, 95963060, 96793450, 97180515, 96364868, 95773168,\n",
       "       95660967, 94998660, 96228663, 95010897, 96733921, 96557384,\n",
       "       95332448, 96907891, 95103118, 95875646, 95857040, 96650126,\n",
       "       96070835, 94655014, 94707689, 96454834, 96079950, 97374883,\n",
       "       96309457, 96642789, 95262613, 96179239, 95462500, 96869858,\n",
       "       97652717, 94724709, 96555168, 96017947, 96464824, 95987354,\n",
       "       96281071, 96839586, 96604981, 95862601, 97390170, 95987512,\n",
       "       95649164, 97169467, 96872757, 95006468, 96810109, 95420606,\n",
       "       96577477, 95353211, 97031491, 94652801, 95590111, 95871249,\n",
       "       95771506, 95618347, 97067529, 95538813, 95091680, 96852028,\n",
       "       97785406, 95150896, 97256522, 96488347, 94933210, 96778161,\n",
       "       95468625, 96656964, 96894694, 97238989, 96085952, 95741306,\n",
       "       96169585, 95586804, 94837158, 96394237, 96382005, 96687056,\n",
       "       96292401, 96796767, 96842553, 96222207, 95610493, 96436005,\n",
       "       96938442, 96005024, 96906662, 96949897])"
      ]
     },
     "execution_count": 80,
     "metadata": {},
     "output_type": "execute_result"
    }
   ],
   "source": [
    "candidate_midpoint = np.random.normal(bait_midpoint, other_std, size=other_n*2)\n",
    "candidate_midpoint = candidate_midpoint.astype(int)\n",
    "candidate_midpoint"
   ]
  },
  {
   "cell_type": "code",
   "execution_count": 81,
   "id": "883bae66-cdd7-4b7a-8425-4b04bd68d876",
   "metadata": {},
   "outputs": [
    {
     "name": "stderr",
     "output_type": "stream",
     "text": [
      "/home/kacper/.pyenv/versions/3.11.8/lib/python3.11/site-packages/pyranges/methods/init.py:45: FutureWarning: The default of observed=False is deprecated and will be changed to True in a future version of pandas. Pass observed=False to retain current behavior or observed=True to adopt the future default and silence this warning.\n",
      "  return {k: v for k, v in df.groupby(grpby_key)}\n"
     ]
    }
   ],
   "source": [
    "generated = pyranges.PyRanges(pd.DataFrame({\"Chromosome\": bait.split(\",\")[0], \"Start\": candidate_midpoint - 5_000, \"End\": candidate_midpoint + 5_000}))"
   ]
  },
  {
   "cell_type": "code",
   "execution_count": 82,
   "id": "29482c83-4f6c-4a2f-b722-9a5eb768b92c",
   "metadata": {},
   "outputs": [
    {
     "name": "stderr",
     "output_type": "stream",
     "text": [
      "/home/kacper/.pyenv/versions/3.11.8/lib/python3.11/site-packages/pyranges/methods/init.py:45: FutureWarning: The default of observed=False is deprecated and will be changed to True in a future version of pandas. Pass observed=False to retain current behavior or observed=True to adopt the future default and silence this warning.\n",
      "  return {k: v for k, v in df.groupby(grpby_key)}\n"
     ]
    }
   ],
   "source": [
    "actual = pyranges.PyRanges(data[data[\"bait_frag\"] == bait][[\"other_frag_chr\", \"other_frag_standard_size_start\", \"other_frag_standard_size_end\"]].rename(\n",
    "    columns = {\n",
    "    \"other_frag_chr\": \"Chromosome\", \"other_frag_standard_size_start\": \"Start\", \"other_frag_standard_size_end\": \"End\"\n",
    "    }\n",
    "))"
   ]
  },
  {
   "cell_type": "code",
   "execution_count": 86,
   "id": "1d584e40-0fdd-453c-998f-8b51a244f06d",
   "metadata": {},
   "outputs": [],
   "source": [
    "generated = generated.subtract(actual)"
   ]
  },
  {
   "cell_type": "code",
   "execution_count": 94,
   "id": "5c200547-92d3-4e74-8879-83ebf866ddb7",
   "metadata": {},
   "outputs": [],
   "source": [
    "reduced = generated.df[:other_n]\n",
    "reduced = reduced[\"Chromosome\"].astype(str) + \",\" + reduced[\"Start\"].astype(str) + \",\" + reduced[\"End\"].astype(str)"
   ]
  },
  {
   "cell_type": "code",
   "execution_count": 114,
   "id": "a5016791-d183-4e63-81a5-2482930c2ad1",
   "metadata": {},
   "outputs": [
    {
     "data": {
      "text/html": [
       "<div>\n",
       "<style scoped>\n",
       "    .dataframe tbody tr th:only-of-type {\n",
       "        vertical-align: middle;\n",
       "    }\n",
       "\n",
       "    .dataframe tbody tr th {\n",
       "        vertical-align: top;\n",
       "    }\n",
       "\n",
       "    .dataframe thead th {\n",
       "        text-align: right;\n",
       "    }\n",
       "</style>\n",
       "<table border=\"1\" class=\"dataframe\">\n",
       "  <thead>\n",
       "    <tr style=\"text-align: right;\">\n",
       "      <th></th>\n",
       "      <th>Chromosome</th>\n",
       "      <th>Start</th>\n",
       "      <th>End</th>\n",
       "    </tr>\n",
       "  </thead>\n",
       "  <tbody>\n",
       "    <tr>\n",
       "      <th>0</th>\n",
       "      <td>chr5</td>\n",
       "      <td>95729435</td>\n",
       "      <td>95739435</td>\n",
       "    </tr>\n",
       "    <tr>\n",
       "      <th>1</th>\n",
       "      <td>chr5</td>\n",
       "      <td>95311936</td>\n",
       "      <td>95321936</td>\n",
       "    </tr>\n",
       "    <tr>\n",
       "      <th>2</th>\n",
       "      <td>chr5</td>\n",
       "      <td>95609445</td>\n",
       "      <td>95619445</td>\n",
       "    </tr>\n",
       "    <tr>\n",
       "      <th>3</th>\n",
       "      <td>chr5</td>\n",
       "      <td>96760648</td>\n",
       "      <td>96770648</td>\n",
       "    </tr>\n",
       "    <tr>\n",
       "      <th>4</th>\n",
       "      <td>chr5</td>\n",
       "      <td>93727257</td>\n",
       "      <td>93737257</td>\n",
       "    </tr>\n",
       "    <tr>\n",
       "      <th>...</th>\n",
       "      <td>...</td>\n",
       "      <td>...</td>\n",
       "      <td>...</td>\n",
       "    </tr>\n",
       "    <tr>\n",
       "      <th>137</th>\n",
       "      <td>chr5</td>\n",
       "      <td>96431005</td>\n",
       "      <td>96441005</td>\n",
       "    </tr>\n",
       "    <tr>\n",
       "      <th>138</th>\n",
       "      <td>chr5</td>\n",
       "      <td>96933442</td>\n",
       "      <td>96943442</td>\n",
       "    </tr>\n",
       "    <tr>\n",
       "      <th>139</th>\n",
       "      <td>chr5</td>\n",
       "      <td>96000024</td>\n",
       "      <td>96010024</td>\n",
       "    </tr>\n",
       "    <tr>\n",
       "      <th>140</th>\n",
       "      <td>chr5</td>\n",
       "      <td>96901662</td>\n",
       "      <td>96911662</td>\n",
       "    </tr>\n",
       "    <tr>\n",
       "      <th>141</th>\n",
       "      <td>chr5</td>\n",
       "      <td>96944897</td>\n",
       "      <td>96954897</td>\n",
       "    </tr>\n",
       "  </tbody>\n",
       "</table>\n",
       "<p>142 rows × 3 columns</p>\n",
       "</div>"
      ],
      "text/plain": [
       "+--------------+-----------+-----------+\n",
       "| Chromosome   | Start     | End       |\n",
       "| (category)   | (int64)   | (int64)   |\n",
       "|--------------+-----------+-----------|\n",
       "| chr5         | 95729435  | 95739435  |\n",
       "| chr5         | 95311936  | 95321936  |\n",
       "| chr5         | 95609445  | 95619445  |\n",
       "| chr5         | 96760648  | 96770648  |\n",
       "| ...          | ...       | ...       |\n",
       "| chr5         | 96933442  | 96943442  |\n",
       "| chr5         | 96000024  | 96010024  |\n",
       "| chr5         | 96901662  | 96911662  |\n",
       "| chr5         | 96944897  | 96954897  |\n",
       "+--------------+-----------+-----------+\n",
       "Unstranded PyRanges object has 142 rows and 3 columns from 1 chromosomes.\n",
       "For printing, the PyRanges was sorted on Chromosome."
      ]
     },
     "execution_count": 114,
     "metadata": {},
     "output_type": "execute_result"
    }
   ],
   "source": [
    "generated[(generated.df[\"End\"] < hg.sizes[\"chr5\"]) & (generated.df[\"Start\"] > 0)]"
   ]
  },
  {
   "cell_type": "code",
   "execution_count": 96,
   "id": "534a3406-0182-4791-ae47-b31f0c84016e",
   "metadata": {},
   "outputs": [
    {
     "data": {
      "text/html": [
       "<div>\n",
       "<style scoped>\n",
       "    .dataframe tbody tr th:only-of-type {\n",
       "        vertical-align: middle;\n",
       "    }\n",
       "\n",
       "    .dataframe tbody tr th {\n",
       "        vertical-align: top;\n",
       "    }\n",
       "\n",
       "    .dataframe thead th {\n",
       "        text-align: right;\n",
       "    }\n",
       "</style>\n",
       "<table border=\"1\" class=\"dataframe\">\n",
       "  <thead>\n",
       "    <tr style=\"text-align: right;\">\n",
       "      <th></th>\n",
       "      <th>bait_frag</th>\n",
       "      <th>other_frag</th>\n",
       "    </tr>\n",
       "  </thead>\n",
       "  <tbody>\n",
       "    <tr>\n",
       "      <th>0</th>\n",
       "      <td>chr5,96210582,96211797</td>\n",
       "      <td>chr5,95729435,95739435</td>\n",
       "    </tr>\n",
       "    <tr>\n",
       "      <th>1</th>\n",
       "      <td>chr5,96210582,96211797</td>\n",
       "      <td>chr5,95311936,95321936</td>\n",
       "    </tr>\n",
       "    <tr>\n",
       "      <th>2</th>\n",
       "      <td>chr5,96210582,96211797</td>\n",
       "      <td>chr5,95609445,95619445</td>\n",
       "    </tr>\n",
       "    <tr>\n",
       "      <th>3</th>\n",
       "      <td>chr5,96210582,96211797</td>\n",
       "      <td>chr5,96760648,96770648</td>\n",
       "    </tr>\n",
       "    <tr>\n",
       "      <th>4</th>\n",
       "      <td>chr5,96210582,96211797</td>\n",
       "      <td>chr5,93727257,93737257</td>\n",
       "    </tr>\n",
       "    <tr>\n",
       "      <th>...</th>\n",
       "      <td>...</td>\n",
       "      <td>...</td>\n",
       "    </tr>\n",
       "    <tr>\n",
       "      <th>75</th>\n",
       "      <td>chr5,96210582,96211797</td>\n",
       "      <td>chr5,95870646,95880646</td>\n",
       "    </tr>\n",
       "    <tr>\n",
       "      <th>76</th>\n",
       "      <td>chr5,96210582,96211797</td>\n",
       "      <td>chr5,95852040,95862040</td>\n",
       "    </tr>\n",
       "    <tr>\n",
       "      <th>77</th>\n",
       "      <td>chr5,96210582,96211797</td>\n",
       "      <td>chr5,96645126,96655126</td>\n",
       "    </tr>\n",
       "    <tr>\n",
       "      <th>78</th>\n",
       "      <td>chr5,96210582,96211797</td>\n",
       "      <td>chr5,96065835,96075835</td>\n",
       "    </tr>\n",
       "    <tr>\n",
       "      <th>79</th>\n",
       "      <td>chr5,96210582,96211797</td>\n",
       "      <td>chr5,94650014,94660014</td>\n",
       "    </tr>\n",
       "  </tbody>\n",
       "</table>\n",
       "<p>80 rows × 2 columns</p>\n",
       "</div>"
      ],
      "text/plain": [
       "                 bait_frag              other_frag\n",
       "0   chr5,96210582,96211797  chr5,95729435,95739435\n",
       "1   chr5,96210582,96211797  chr5,95311936,95321936\n",
       "2   chr5,96210582,96211797  chr5,95609445,95619445\n",
       "3   chr5,96210582,96211797  chr5,96760648,96770648\n",
       "4   chr5,96210582,96211797  chr5,93727257,93737257\n",
       "..                     ...                     ...\n",
       "75  chr5,96210582,96211797  chr5,95870646,95880646\n",
       "76  chr5,96210582,96211797  chr5,95852040,95862040\n",
       "77  chr5,96210582,96211797  chr5,96645126,96655126\n",
       "78  chr5,96210582,96211797  chr5,96065835,96075835\n",
       "79  chr5,96210582,96211797  chr5,94650014,94660014\n",
       "\n",
       "[80 rows x 2 columns]"
      ]
     },
     "execution_count": 96,
     "metadata": {},
     "output_type": "execute_result"
    }
   ],
   "source": [
    "pd.DataFrame({\n",
    "    \"bait_frag\" : bait,\n",
    "    \"other_frag\": reduced\n",
    "})"
   ]
  },
  {
   "cell_type": "code",
   "execution_count": 132,
   "id": "f4af16f7-036e-4555-aac2-983a5af5e450",
   "metadata": {},
   "outputs": [],
   "source": [
    "EXTRA_SAMPLES = 5\n",
    "import genomepy\n",
    "hg = genomepy.Genome(\"hg19\")\n",
    "\n",
    "def generate_random_negatives(data, bait):\n",
    "    data_focused = data[data[\"bait_frag\"] == bait]\n",
    "    bait_midpoint = data_focused[\"bait_frag_midpoint\"].values[0]\n",
    "    chr = bait.split(\",\")[0]\n",
    "\n",
    "    others = data_focused[\"other_frag_midpoint\"]\n",
    "    \n",
    "    other_std = pd.concat((others, pd.Series(bait_midpoint))).std() # avoid situations of 1 other\n",
    "    other_n = len(others)\n",
    "\n",
    "    candidate_midpoint = np.random.normal(bait_midpoint, other_std, size=other_n*2 + EXTRA_SAMPLES)\n",
    "    candidate_midpoint = candidate_midpoint.astype(int)\n",
    "\n",
    "    generated = pyranges.PyRanges(pd.DataFrame({\n",
    "        \"Chromosome\": chr, \n",
    "        \"Start\": candidate_midpoint - standard_size, \n",
    "        \"End\": candidate_midpoint + standard_size\n",
    "    }))\n",
    "\n",
    "    actual = pyranges.PyRanges(\n",
    "        data_focused[[\"other_frag_chr\", \"other_frag_standard_size_start\", \"other_frag_standard_size_end\"]]\n",
    "        .rename(columns = {\n",
    "            \"other_frag_chr\": \"Chromosome\", \n",
    "            \"other_frag_standard_size_start\": \"Start\", \n",
    "            \"other_frag_standard_size_end\": \"End\"\n",
    "        })\n",
    "    )\n",
    "\n",
    "    filtered_overlaps = generated.subtract(actual)\n",
    "    filtered_overruns = filtered_overlaps.df[(filtered_overlaps.df[\"End\"] < hg.sizes[chr]) & (filtered_overlaps.df[\"Start\"] > 0)]\n",
    "    reduced = filtered_overruns[:other_n + EXTRA_SAMPLES]\n",
    "    reduced = reduced[\"Chromosome\"].astype(str) + \",\" + reduced[\"Start\"].astype(str) + \",\" + reduced[\"End\"].astype(str)\n",
    "\n",
    "    return pd.DataFrame({\n",
    "        \"bait_frag\" : bait,\n",
    "        \"other_frag\": reduced\n",
    "    })"
   ]
  },
  {
   "cell_type": "code",
   "execution_count": 133,
   "id": "ea6a487c-b5ea-4270-8a6b-308c0f74ff34",
   "metadata": {},
   "outputs": [],
   "source": [
    "from tqdm.notebook import tqdm\n",
    "import warnings"
   ]
  },
  {
   "cell_type": "code",
   "execution_count": 134,
   "id": "5dff2df2-ca78-45ba-99be-f5f2d3b3109e",
   "metadata": {},
   "outputs": [
    {
     "data": {
      "application/vnd.jupyter.widget-view+json": {
       "model_id": "cef1b6bd3ac148f8b22bcf37583da8cf",
       "version_major": 2,
       "version_minor": 0
      },
      "text/plain": [
       "  0%|          | 0/13412 [00:00<?, ?it/s]"
      ]
     },
     "metadata": {},
     "output_type": "display_data"
    }
   ],
   "source": [
    "all_generated = []\n",
    "for bait in tqdm(data[\"bait_frag\"].unique()):\n",
    "    with warnings.catch_warnings(action=\"ignore\"):\n",
    "        all_generated.append(\n",
    "            generate_random_negatives(data, bait)\n",
    "        )"
   ]
  },
  {
   "cell_type": "code",
   "execution_count": 136,
   "id": "073c82af-3fef-4583-b143-f3d465222a08",
   "metadata": {},
   "outputs": [],
   "source": [
    "all_generated_df = pd.concat(all_generated)"
   ]
  },
  {
   "cell_type": "code",
   "execution_count": 139,
   "id": "ff477347-1ca7-4b21-bd2d-cc78654c3d72",
   "metadata": {},
   "outputs": [],
   "source": [
    "all_generated_df.to_csv(\"data/intermediates/random_negatives.csv\")"
   ]
  },
  {
   "cell_type": "code",
   "execution_count": null,
   "id": "74a5dbcf-0355-498f-8979-5c4542f91000",
   "metadata": {},
   "outputs": [],
   "source": []
  }
 ],
 "metadata": {
  "kernelspec": {
   "display_name": "Python 3 (ipykernel)",
   "language": "python",
   "name": "python3"
  },
  "language_info": {
   "codemirror_mode": {
    "name": "ipython",
    "version": 3
   },
   "file_extension": ".py",
   "mimetype": "text/x-python",
   "name": "python",
   "nbconvert_exporter": "python",
   "pygments_lexer": "ipython3",
   "version": "3.11.8"
  }
 },
 "nbformat": 4,
 "nbformat_minor": 5
}
